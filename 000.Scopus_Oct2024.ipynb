{
 "cells": [
  {
   "cell_type": "code",
   "execution_count": 1,
   "id": "YOURID",
   "metadata": {},
   "outputs": [
    {
     "name": "stdout",
     "output_type": "stream",
     "text": [
      "Defaulting to user installation because normal site-packages is not writeable\n",
      "Requirement already satisfied: pybliometrics in c:\\users\\capri002\\appdata\\roaming\\python\\python312\\site-packages (4.1)\n",
      "Requirement already satisfied: requests in c:\\programdata\\anaconda3\\lib\\site-packages (from pybliometrics) (2.32.2)\n",
      "Requirement already satisfied: tqdm in c:\\programdata\\anaconda3\\lib\\site-packages (from pybliometrics) (4.66.4)\n",
      "Requirement already satisfied: urllib3 in c:\\programdata\\anaconda3\\lib\\site-packages (from pybliometrics) (2.2.2)\n",
      "Requirement already satisfied: charset-normalizer<4,>=2 in c:\\programdata\\anaconda3\\lib\\site-packages (from requests->pybliometrics) (2.0.4)\n",
      "Requirement already satisfied: idna<4,>=2.5 in c:\\programdata\\anaconda3\\lib\\site-packages (from requests->pybliometrics) (3.7)\n",
      "Requirement already satisfied: certifi>=2017.4.17 in c:\\programdata\\anaconda3\\lib\\site-packages (from requests->pybliometrics) (2024.7.4)\n",
      "Requirement already satisfied: colorama in c:\\programdata\\anaconda3\\lib\\site-packages (from tqdm->pybliometrics) (0.4.6)\n",
      "Note: you may need to restart the kernel to use updated packages.\n"
     ]
    }
   ],
   "source": [
    "pip install pybliometrics"
   ]
  },
  {
   "cell_type": "code",
   "execution_count": 21,
   "id": "YOURID",
   "metadata": {},
   "outputs": [
    {
     "name": "stdout",
     "output_type": "stream",
     "text": [
      "Creating config file at C:\\YOURDIRECTORY\\.config\\pybliometrics.cfg with default paths...\n"
     ]
    },
    {
     "name": "stdin",
     "output_type": "stream",
     "text": [
      "Please enter your API Key(s), obtained from http://dev.elsevier.com/myapikey.html.  Separate multiple keys by comma:\n",
      " YOURAPIKEY\n",
      "API Keys are sufficient for most users.  If you have an InstToken, please enter the token now; otherwise just press Enter:\n",
      " YOURAPIKEY\n"
     ]
    },
    {
     "name": "stdout",
     "output_type": "stream",
     "text": [
      "Configuration file successfully created at C:\\Users\\capri002\\.config\\pybliometrics.cfg\n",
      "For details see https://pybliometrics.rtfd.io/en/stable/configuration.html.\n"
     ]
    },
    {
     "data": {
      "text/plain": [
       "<configparser.ConfigParser at 0x226def8df10>"
      ]
     },
     "execution_count": 21,
     "metadata": {},
     "output_type": "execute_result"
    }
   ],
   "source": [
    "from pybliometrics.scopus.utils import create_config\n",
    "create_config()"
   ]
  },
  {
   "cell_type": "code",
   "execution_count": null,
   "id": "YOURID",
   "metadata": {},
   "outputs": [],
   "source": [
    "#my API key is YOURAPIKEY\n",
    "#inst TOKEN YOURINSTTOKEN\n",
    "#YOUAPIKEY"
   ]
  },
  {
   "cell_type": "code",
   "execution_count": 23,
   "id": "2023c3a9-f649-4ddd-ac56-f65dc8114f76",
   "metadata": {},
   "outputs": [],
   "source": [
    "import pybliometrics\n",
    "pybliometrics.scopus.init()"
   ]
  },
  {
   "cell_type": "code",
   "execution_count": 25,
   "id": "e21c4499-4f46-466d-afbe-f4f2139d0b4d",
   "metadata": {},
   "outputs": [],
   "source": [
    "# import required packages\n",
    "from pybliometrics.scopus import ScopusSearch\n",
    "from pybliometrics.scopus import AbstractRetrieval\n",
    "import pandas as pd\n",
    "import matplotlib.pyplot as plt\n",
    "import pickle\n",
    "import json"
   ]
  },
  {
   "cell_type": "code",
   "execution_count": 27,
   "id": "50ecf651-f93b-4ae3-8691-ece5fa0d41c3",
   "metadata": {},
   "outputs": [
    {
     "name": "stdout",
     "output_type": "stream",
     "text": [
      "Downloading results for query \"PUBYEAR  = 1970 TITLE-ABS-KEY ( \"coral reef*\" OR \"coral*\")\":\n"
     ]
    },
    {
     "name": "stderr",
     "output_type": "stream",
     "text": [
      "100%|████████████████████████████████████████████████████████████████████████████████████| 5/5 [00:03<00:00,  1.26it/s]\n"
     ]
    },
    {
     "name": "stdout",
     "output_type": "stream",
     "text": [
      "Downloading results for query \"PUBYEAR  = 1970 TITLE-ABS-KEY ( \"coral reef*\" OR \"coral*\" AND \"bombing\" OR \"cyanide\" OR \"destructive fishing\" OR \"hookah compressor\" OR \"anchor*\" OR \"purse seine\" OR \"trawl*\" OR \"overfishing\" OR \"illegal fishing\" OR \"bycatch\" OR \"by-catch\" OR \"muroami\")\":\n"
     ]
    },
    {
     "name": "stderr",
     "output_type": "stream",
     "text": [
      "1it [00:00, ?it/s]\n"
     ]
    },
    {
     "name": "stdout",
     "output_type": "stream",
     "text": [
      "Downloading results for query \"PUBYEAR  = 1970 TITLE-ABS-KEY ( \"coral reef*\" OR \"coral*\"  AND \"sand mining\" OR \"deforestation\" OR \"abrasion\" OR \"sedimentation\" OR \"aquaculture pond\" OR \"mineral mining\" OR \"sewage discharge\" OR \"erosion\" OR \"plastic\" OR \"habitat los*\" OR \"pesticide\" OR \"fertilizer\" OR \"eutrophication\" OR \"coastal development\" OR \"reclamation\" OR \"runoff\" OR \"run-off\")\":\n"
     ]
    },
    {
     "name": "stderr",
     "output_type": "stream",
     "text": [
      "100%|████████████████████████████████████████████████████████████████████████████████████████████| 1/1 [00:00<?, ?it/s]\n"
     ]
    },
    {
     "name": "stdout",
     "output_type": "stream",
     "text": [
      "Downloading results for query \"PUBYEAR  = 1970 TITLE-ABS-KEY ( \"coral reef*\" OR \"coral*\" AND \"climate change\" OR \"bleach*\", OR \"storm*\" OR \"increasing sea surface temperature*\" OR \"increasing SST\" OR \"extreme weather\" OR \"global warming\" OR \"heatwave*\" OR \"heat wave*\")\":\n"
     ]
    },
    {
     "name": "stderr",
     "output_type": "stream",
     "text": [
      "100%|████████████████████████████████████████████████████████████████████████████████████████████| 1/1 [00:00<?, ?it/s]\n"
     ]
    },
    {
     "name": "stdout",
     "output_type": "stream",
     "text": [
      "Downloading results for query \"PUBYEAR  = 1970 TITLE-ABS-KEY ( \"coral reef*\" OR \"coral*\" AND \"disease*\" OR \"coral mining\" OR \"oil mining\" OR \"gas mining\" OR \"crown of thorn\" OR \"COT\" OR \"achantaster plancii\" OR \"mariculture*\" OR \"volcano eruption*\" OR \"ballast water\")\":\n"
     ]
    },
    {
     "name": "stderr",
     "output_type": "stream",
     "text": [
      "100%|████████████████████████████████████████████████████████████████████████████████████████████| 1/1 [00:00<?, ?it/s]\n"
     ]
    },
    {
     "name": "stdout",
     "output_type": "stream",
     "text": [
      "Downloading results for query \"PUBYEAR  = 1971 TITLE-ABS-KEY ( \"coral reef*\" OR \"coral*\")\":\n"
     ]
    },
    {
     "name": "stderr",
     "output_type": "stream",
     "text": [
      "100%|████████████████████████████████████████████████████████████████████████████████████| 4/4 [00:01<00:00,  1.51it/s]\n"
     ]
    },
    {
     "name": "stdout",
     "output_type": "stream",
     "text": [
      "Downloading results for query \"PUBYEAR  = 1971 TITLE-ABS-KEY ( \"coral reef*\" OR \"coral*\" AND \"bombing\" OR \"cyanide\" OR \"destructive fishing\" OR \"hookah compressor\" OR \"anchor*\" OR \"purse seine\" OR \"trawl*\" OR \"overfishing\" OR \"illegal fishing\" OR \"bycatch\" OR \"by-catch\" OR \"muroami\")\":\n"
     ]
    },
    {
     "name": "stderr",
     "output_type": "stream",
     "text": [
      "100%|████████████████████████████████████████████████████████████████████████████████████████████| 1/1 [00:00<?, ?it/s]\n"
     ]
    },
    {
     "name": "stdout",
     "output_type": "stream",
     "text": [
      "Downloading results for query \"PUBYEAR  = 1971 TITLE-ABS-KEY ( \"coral reef*\" OR \"coral*\"  AND \"sand mining\" OR \"deforestation\" OR \"abrasion\" OR \"sedimentation\" OR \"aquaculture pond\" OR \"mineral mining\" OR \"sewage discharge\" OR \"erosion\" OR \"plastic\" OR \"habitat los*\" OR \"pesticide\" OR \"fertilizer\" OR \"eutrophication\" OR \"coastal development\" OR \"reclamation\" OR \"runoff\" OR \"run-off\")\":\n"
     ]
    },
    {
     "name": "stderr",
     "output_type": "stream",
     "text": [
      "100%|████████████████████████████████████████████████████████████████████████████████████████████| 1/1 [00:00<?, ?it/s]\n"
     ]
    },
    {
     "name": "stdout",
     "output_type": "stream",
     "text": [
      "Downloading results for query \"PUBYEAR  = 1971 TITLE-ABS-KEY ( \"coral reef*\" OR \"coral*\" AND \"climate change\" OR \"bleach*\", OR \"storm*\" OR \"increasing sea surface temperature*\" OR \"increasing SST\" OR \"extreme weather\" OR \"global warming\" OR \"heatwave*\" OR \"heat wave*\")\":\n"
     ]
    },
    {
     "name": "stderr",
     "output_type": "stream",
     "text": [
      "1it [00:00, ?it/s]\n"
     ]
    },
    {
     "name": "stdout",
     "output_type": "stream",
     "text": [
      "Downloading results for query \"PUBYEAR  = 1971 TITLE-ABS-KEY ( \"coral reef*\" OR \"coral*\" AND \"disease*\" OR \"coral mining\" OR \"oil mining\" OR \"gas mining\" OR \"crown of thorn\" OR \"COT\" OR \"achantaster plancii\" OR \"mariculture*\" OR \"volcano eruption*\" OR \"ballast water\")\":\n"
     ]
    },
    {
     "name": "stderr",
     "output_type": "stream",
     "text": [
      "100%|████████████████████████████████████████████████████████████████████████████████████████████| 1/1 [00:00<?, ?it/s]\n"
     ]
    },
    {
     "name": "stdout",
     "output_type": "stream",
     "text": [
      "Downloading results for query \"PUBYEAR  = 1972 TITLE-ABS-KEY ( \"coral reef*\" OR \"coral*\")\":\n"
     ]
    },
    {
     "name": "stderr",
     "output_type": "stream",
     "text": [
      "100%|████████████████████████████████████████████████████████████████████████████████████| 4/4 [00:02<00:00,  1.17it/s]\n"
     ]
    },
    {
     "name": "stdout",
     "output_type": "stream",
     "text": [
      "Downloading results for query \"PUBYEAR  = 1972 TITLE-ABS-KEY ( \"coral reef*\" OR \"coral*\" AND \"bombing\" OR \"cyanide\" OR \"destructive fishing\" OR \"hookah compressor\" OR \"anchor*\" OR \"purse seine\" OR \"trawl*\" OR \"overfishing\" OR \"illegal fishing\" OR \"bycatch\" OR \"by-catch\" OR \"muroami\")\":\n"
     ]
    },
    {
     "name": "stderr",
     "output_type": "stream",
     "text": [
      "1it [00:00, ?it/s]\n"
     ]
    },
    {
     "name": "stdout",
     "output_type": "stream",
     "text": [
      "Downloading results for query \"PUBYEAR  = 1972 TITLE-ABS-KEY ( \"coral reef*\" OR \"coral*\"  AND \"sand mining\" OR \"deforestation\" OR \"abrasion\" OR \"sedimentation\" OR \"aquaculture pond\" OR \"mineral mining\" OR \"sewage discharge\" OR \"erosion\" OR \"plastic\" OR \"habitat los*\" OR \"pesticide\" OR \"fertilizer\" OR \"eutrophication\" OR \"coastal development\" OR \"reclamation\" OR \"runoff\" OR \"run-off\")\":\n"
     ]
    },
    {
     "name": "stderr",
     "output_type": "stream",
     "text": [
      "100%|████████████████████████████████████████████████████████████████████████████████████████████| 1/1 [00:00<?, ?it/s]\n"
     ]
    },
    {
     "name": "stdout",
     "output_type": "stream",
     "text": [
      "Downloading results for query \"PUBYEAR  = 1972 TITLE-ABS-KEY ( \"coral reef*\" OR \"coral*\" AND \"climate change\" OR \"bleach*\", OR \"storm*\" OR \"increasing sea surface temperature*\" OR \"increasing SST\" OR \"extreme weather\" OR \"global warming\" OR \"heatwave*\" OR \"heat wave*\")\":\n"
     ]
    },
    {
     "name": "stderr",
     "output_type": "stream",
     "text": [
      "100%|████████████████████████████████████████████████████████████████████████████████████████████| 1/1 [00:00<?, ?it/s]\n"
     ]
    },
    {
     "name": "stdout",
     "output_type": "stream",
     "text": [
      "Downloading results for query \"PUBYEAR  = 1972 TITLE-ABS-KEY ( \"coral reef*\" OR \"coral*\" AND \"disease*\" OR \"coral mining\" OR \"oil mining\" OR \"gas mining\" OR \"crown of thorn\" OR \"COT\" OR \"achantaster plancii\" OR \"mariculture*\" OR \"volcano eruption*\" OR \"ballast water\")\":\n"
     ]
    },
    {
     "name": "stderr",
     "output_type": "stream",
     "text": [
      "100%|████████████████████████████████████████████████████████████████████████████████████████████| 1/1 [00:00<?, ?it/s]\n"
     ]
    },
    {
     "name": "stdout",
     "output_type": "stream",
     "text": [
      "Downloading results for query \"PUBYEAR  = 1973 TITLE-ABS-KEY ( \"coral reef*\" OR \"coral*\")\":\n"
     ]
    },
    {
     "name": "stderr",
     "output_type": "stream",
     "text": [
      "100%|████████████████████████████████████████████████████████████████████████████████████| 6/6 [00:04<00:00,  1.18it/s]\n"
     ]
    },
    {
     "name": "stdout",
     "output_type": "stream",
     "text": [
      "Downloading results for query \"PUBYEAR  = 1973 TITLE-ABS-KEY ( \"coral reef*\" OR \"coral*\" AND \"bombing\" OR \"cyanide\" OR \"destructive fishing\" OR \"hookah compressor\" OR \"anchor*\" OR \"purse seine\" OR \"trawl*\" OR \"overfishing\" OR \"illegal fishing\" OR \"bycatch\" OR \"by-catch\" OR \"muroami\")\":\n"
     ]
    },
    {
     "name": "stderr",
     "output_type": "stream",
     "text": [
      "1it [00:00, ?it/s]\n"
     ]
    },
    {
     "name": "stdout",
     "output_type": "stream",
     "text": [
      "Downloading results for query \"PUBYEAR  = 1973 TITLE-ABS-KEY ( \"coral reef*\" OR \"coral*\"  AND \"sand mining\" OR \"deforestation\" OR \"abrasion\" OR \"sedimentation\" OR \"aquaculture pond\" OR \"mineral mining\" OR \"sewage discharge\" OR \"erosion\" OR \"plastic\" OR \"habitat los*\" OR \"pesticide\" OR \"fertilizer\" OR \"eutrophication\" OR \"coastal development\" OR \"reclamation\" OR \"runoff\" OR \"run-off\")\":\n"
     ]
    },
    {
     "name": "stderr",
     "output_type": "stream",
     "text": [
      "100%|████████████████████████████████████████████████████████████████████████████████████████████| 1/1 [00:00<?, ?it/s]\n"
     ]
    },
    {
     "name": "stdout",
     "output_type": "stream",
     "text": [
      "Downloading results for query \"PUBYEAR  = 1973 TITLE-ABS-KEY ( \"coral reef*\" OR \"coral*\" AND \"climate change\" OR \"bleach*\", OR \"storm*\" OR \"increasing sea surface temperature*\" OR \"increasing SST\" OR \"extreme weather\" OR \"global warming\" OR \"heatwave*\" OR \"heat wave*\")\":\n"
     ]
    },
    {
     "name": "stderr",
     "output_type": "stream",
     "text": [
      "100%|████████████████████████████████████████████████████████████████████████████████████████████| 1/1 [00:00<?, ?it/s]\n"
     ]
    },
    {
     "name": "stdout",
     "output_type": "stream",
     "text": [
      "Downloading results for query \"PUBYEAR  = 1973 TITLE-ABS-KEY ( \"coral reef*\" OR \"coral*\" AND \"disease*\" OR \"coral mining\" OR \"oil mining\" OR \"gas mining\" OR \"crown of thorn\" OR \"COT\" OR \"achantaster plancii\" OR \"mariculture*\" OR \"volcano eruption*\" OR \"ballast water\")\":\n"
     ]
    },
    {
     "name": "stderr",
     "output_type": "stream",
     "text": [
      "100%|████████████████████████████████████████████████████████████████████████████████████████████| 1/1 [00:00<?, ?it/s]\n"
     ]
    },
    {
     "name": "stdout",
     "output_type": "stream",
     "text": [
      "Downloading results for query \"PUBYEAR  = 1974 TITLE-ABS-KEY ( \"coral reef*\" OR \"coral*\")\":\n"
     ]
    },
    {
     "name": "stderr",
     "output_type": "stream",
     "text": [
      "100%|████████████████████████████████████████████████████████████████████████████████████| 6/6 [00:03<00:00,  1.26it/s]\n"
     ]
    },
    {
     "name": "stdout",
     "output_type": "stream",
     "text": [
      "Downloading results for query \"PUBYEAR  = 1974 TITLE-ABS-KEY ( \"coral reef*\" OR \"coral*\" AND \"bombing\" OR \"cyanide\" OR \"destructive fishing\" OR \"hookah compressor\" OR \"anchor*\" OR \"purse seine\" OR \"trawl*\" OR \"overfishing\" OR \"illegal fishing\" OR \"bycatch\" OR \"by-catch\" OR \"muroami\")\":\n"
     ]
    },
    {
     "name": "stderr",
     "output_type": "stream",
     "text": [
      "100%|████████████████████████████████████████████████████████████████████████████████████████████| 1/1 [00:00<?, ?it/s]\n"
     ]
    },
    {
     "name": "stdout",
     "output_type": "stream",
     "text": [
      "Downloading results for query \"PUBYEAR  = 1974 TITLE-ABS-KEY ( \"coral reef*\" OR \"coral*\"  AND \"sand mining\" OR \"deforestation\" OR \"abrasion\" OR \"sedimentation\" OR \"aquaculture pond\" OR \"mineral mining\" OR \"sewage discharge\" OR \"erosion\" OR \"plastic\" OR \"habitat los*\" OR \"pesticide\" OR \"fertilizer\" OR \"eutrophication\" OR \"coastal development\" OR \"reclamation\" OR \"runoff\" OR \"run-off\")\":\n"
     ]
    },
    {
     "name": "stderr",
     "output_type": "stream",
     "text": [
      "100%|████████████████████████████████████████████████████████████████████████████████████████████| 1/1 [00:00<?, ?it/s]\n"
     ]
    },
    {
     "name": "stdout",
     "output_type": "stream",
     "text": [
      "Downloading results for query \"PUBYEAR  = 1974 TITLE-ABS-KEY ( \"coral reef*\" OR \"coral*\" AND \"climate change\" OR \"bleach*\", OR \"storm*\" OR \"increasing sea surface temperature*\" OR \"increasing SST\" OR \"extreme weather\" OR \"global warming\" OR \"heatwave*\" OR \"heat wave*\")\":\n"
     ]
    },
    {
     "name": "stderr",
     "output_type": "stream",
     "text": [
      "100%|████████████████████████████████████████████████████████████████████████████████████████████| 1/1 [00:00<?, ?it/s]\n"
     ]
    },
    {
     "name": "stdout",
     "output_type": "stream",
     "text": [
      "Downloading results for query \"PUBYEAR  = 1974 TITLE-ABS-KEY ( \"coral reef*\" OR \"coral*\" AND \"disease*\" OR \"coral mining\" OR \"oil mining\" OR \"gas mining\" OR \"crown of thorn\" OR \"COT\" OR \"achantaster plancii\" OR \"mariculture*\" OR \"volcano eruption*\" OR \"ballast water\")\":\n"
     ]
    },
    {
     "name": "stderr",
     "output_type": "stream",
     "text": [
      "100%|████████████████████████████████████████████████████████████████████████████████████████████| 1/1 [00:00<?, ?it/s]\n"
     ]
    },
    {
     "name": "stdout",
     "output_type": "stream",
     "text": [
      "Downloading results for query \"PUBYEAR  = 1975 TITLE-ABS-KEY ( \"coral reef*\" OR \"coral*\")\":\n"
     ]
    },
    {
     "name": "stderr",
     "output_type": "stream",
     "text": [
      "100%|████████████████████████████████████████████████████████████████████████████████████| 7/7 [00:05<00:00,  1.14it/s]\n"
     ]
    },
    {
     "name": "stdout",
     "output_type": "stream",
     "text": [
      "Downloading results for query \"PUBYEAR  = 1975 TITLE-ABS-KEY ( \"coral reef*\" OR \"coral*\" AND \"bombing\" OR \"cyanide\" OR \"destructive fishing\" OR \"hookah compressor\" OR \"anchor*\" OR \"purse seine\" OR \"trawl*\" OR \"overfishing\" OR \"illegal fishing\" OR \"bycatch\" OR \"by-catch\" OR \"muroami\")\":\n"
     ]
    },
    {
     "name": "stderr",
     "output_type": "stream",
     "text": [
      "100%|████████████████████████████████████████████████████████████████████████████████████████████| 1/1 [00:00<?, ?it/s]\n"
     ]
    },
    {
     "name": "stdout",
     "output_type": "stream",
     "text": [
      "Downloading results for query \"PUBYEAR  = 1975 TITLE-ABS-KEY ( \"coral reef*\" OR \"coral*\"  AND \"sand mining\" OR \"deforestation\" OR \"abrasion\" OR \"sedimentation\" OR \"aquaculture pond\" OR \"mineral mining\" OR \"sewage discharge\" OR \"erosion\" OR \"plastic\" OR \"habitat los*\" OR \"pesticide\" OR \"fertilizer\" OR \"eutrophication\" OR \"coastal development\" OR \"reclamation\" OR \"runoff\" OR \"run-off\")\":\n"
     ]
    },
    {
     "name": "stderr",
     "output_type": "stream",
     "text": [
      "100%|████████████████████████████████████████████████████████████████████████████████████████████| 1/1 [00:00<?, ?it/s]\n"
     ]
    },
    {
     "name": "stdout",
     "output_type": "stream",
     "text": [
      "Downloading results for query \"PUBYEAR  = 1975 TITLE-ABS-KEY ( \"coral reef*\" OR \"coral*\" AND \"climate change\" OR \"bleach*\", OR \"storm*\" OR \"increasing sea surface temperature*\" OR \"increasing SST\" OR \"extreme weather\" OR \"global warming\" OR \"heatwave*\" OR \"heat wave*\")\":\n"
     ]
    },
    {
     "name": "stderr",
     "output_type": "stream",
     "text": [
      "100%|████████████████████████████████████████████████████████████████████████████████████████████| 1/1 [00:00<?, ?it/s]\n"
     ]
    },
    {
     "name": "stdout",
     "output_type": "stream",
     "text": [
      "Downloading results for query \"PUBYEAR  = 1975 TITLE-ABS-KEY ( \"coral reef*\" OR \"coral*\" AND \"disease*\" OR \"coral mining\" OR \"oil mining\" OR \"gas mining\" OR \"crown of thorn\" OR \"COT\" OR \"achantaster plancii\" OR \"mariculture*\" OR \"volcano eruption*\" OR \"ballast water\")\":\n"
     ]
    },
    {
     "name": "stderr",
     "output_type": "stream",
     "text": [
      "100%|████████████████████████████████████████████████████████████████████████████████████████████| 1/1 [00:00<?, ?it/s]\n"
     ]
    },
    {
     "name": "stdout",
     "output_type": "stream",
     "text": [
      "Downloading results for query \"PUBYEAR  = 1976 TITLE-ABS-KEY ( \"coral reef*\" OR \"coral*\")\":\n"
     ]
    },
    {
     "name": "stderr",
     "output_type": "stream",
     "text": [
      "100%|████████████████████████████████████████████████████████████████████████████████████| 8/8 [00:05<00:00,  1.34it/s]\n"
     ]
    },
    {
     "name": "stdout",
     "output_type": "stream",
     "text": [
      "Downloading results for query \"PUBYEAR  = 1976 TITLE-ABS-KEY ( \"coral reef*\" OR \"coral*\" AND \"bombing\" OR \"cyanide\" OR \"destructive fishing\" OR \"hookah compressor\" OR \"anchor*\" OR \"purse seine\" OR \"trawl*\" OR \"overfishing\" OR \"illegal fishing\" OR \"bycatch\" OR \"by-catch\" OR \"muroami\")\":\n"
     ]
    },
    {
     "name": "stderr",
     "output_type": "stream",
     "text": [
      "100%|████████████████████████████████████████████████████████████████████████████████████████████| 1/1 [00:00<?, ?it/s]\n"
     ]
    },
    {
     "name": "stdout",
     "output_type": "stream",
     "text": [
      "Downloading results for query \"PUBYEAR  = 1976 TITLE-ABS-KEY ( \"coral reef*\" OR \"coral*\"  AND \"sand mining\" OR \"deforestation\" OR \"abrasion\" OR \"sedimentation\" OR \"aquaculture pond\" OR \"mineral mining\" OR \"sewage discharge\" OR \"erosion\" OR \"plastic\" OR \"habitat los*\" OR \"pesticide\" OR \"fertilizer\" OR \"eutrophication\" OR \"coastal development\" OR \"reclamation\" OR \"runoff\" OR \"run-off\")\":\n"
     ]
    },
    {
     "name": "stderr",
     "output_type": "stream",
     "text": [
      "100%|████████████████████████████████████████████████████████████████████████████████████████████| 1/1 [00:00<?, ?it/s]\n"
     ]
    },
    {
     "name": "stdout",
     "output_type": "stream",
     "text": [
      "Downloading results for query \"PUBYEAR  = 1976 TITLE-ABS-KEY ( \"coral reef*\" OR \"coral*\" AND \"climate change\" OR \"bleach*\", OR \"storm*\" OR \"increasing sea surface temperature*\" OR \"increasing SST\" OR \"extreme weather\" OR \"global warming\" OR \"heatwave*\" OR \"heat wave*\")\":\n"
     ]
    },
    {
     "name": "stderr",
     "output_type": "stream",
     "text": [
      "100%|████████████████████████████████████████████████████████████████████████████████████████████| 1/1 [00:00<?, ?it/s]\n"
     ]
    },
    {
     "name": "stdout",
     "output_type": "stream",
     "text": [
      "Downloading results for query \"PUBYEAR  = 1976 TITLE-ABS-KEY ( \"coral reef*\" OR \"coral*\" AND \"disease*\" OR \"coral mining\" OR \"oil mining\" OR \"gas mining\" OR \"crown of thorn\" OR \"COT\" OR \"achantaster plancii\" OR \"mariculture*\" OR \"volcano eruption*\" OR \"ballast water\")\":\n"
     ]
    },
    {
     "name": "stderr",
     "output_type": "stream",
     "text": [
      "100%|████████████████████████████████████████████████████████████████████████████████████████████| 1/1 [00:00<?, ?it/s]\n"
     ]
    },
    {
     "name": "stdout",
     "output_type": "stream",
     "text": [
      "Downloading results for query \"PUBYEAR  = 1977 TITLE-ABS-KEY ( \"coral reef*\" OR \"coral*\")\":\n"
     ]
    },
    {
     "name": "stderr",
     "output_type": "stream",
     "text": [
      "100%|████████████████████████████████████████████████████████████████████████████████████| 9/9 [00:06<00:00,  1.26it/s]\n"
     ]
    },
    {
     "name": "stdout",
     "output_type": "stream",
     "text": [
      "Downloading results for query \"PUBYEAR  = 1977 TITLE-ABS-KEY ( \"coral reef*\" OR \"coral*\" AND \"bombing\" OR \"cyanide\" OR \"destructive fishing\" OR \"hookah compressor\" OR \"anchor*\" OR \"purse seine\" OR \"trawl*\" OR \"overfishing\" OR \"illegal fishing\" OR \"bycatch\" OR \"by-catch\" OR \"muroami\")\":\n"
     ]
    },
    {
     "name": "stderr",
     "output_type": "stream",
     "text": [
      "100%|████████████████████████████████████████████████████████████████████████████████████████████| 1/1 [00:00<?, ?it/s]\n"
     ]
    },
    {
     "name": "stdout",
     "output_type": "stream",
     "text": [
      "Downloading results for query \"PUBYEAR  = 1977 TITLE-ABS-KEY ( \"coral reef*\" OR \"coral*\"  AND \"sand mining\" OR \"deforestation\" OR \"abrasion\" OR \"sedimentation\" OR \"aquaculture pond\" OR \"mineral mining\" OR \"sewage discharge\" OR \"erosion\" OR \"plastic\" OR \"habitat los*\" OR \"pesticide\" OR \"fertilizer\" OR \"eutrophication\" OR \"coastal development\" OR \"reclamation\" OR \"runoff\" OR \"run-off\")\":\n"
     ]
    },
    {
     "name": "stderr",
     "output_type": "stream",
     "text": [
      "100%|████████████████████████████████████████████████████████████████████████████████████████████| 1/1 [00:00<?, ?it/s]\n"
     ]
    },
    {
     "name": "stdout",
     "output_type": "stream",
     "text": [
      "Downloading results for query \"PUBYEAR  = 1977 TITLE-ABS-KEY ( \"coral reef*\" OR \"coral*\" AND \"climate change\" OR \"bleach*\", OR \"storm*\" OR \"increasing sea surface temperature*\" OR \"increasing SST\" OR \"extreme weather\" OR \"global warming\" OR \"heatwave*\" OR \"heat wave*\")\":\n"
     ]
    },
    {
     "name": "stderr",
     "output_type": "stream",
     "text": [
      "100%|████████████████████████████████████████████████████████████████████████████████████████████| 1/1 [00:00<?, ?it/s]\n"
     ]
    },
    {
     "name": "stdout",
     "output_type": "stream",
     "text": [
      "Downloading results for query \"PUBYEAR  = 1977 TITLE-ABS-KEY ( \"coral reef*\" OR \"coral*\" AND \"disease*\" OR \"coral mining\" OR \"oil mining\" OR \"gas mining\" OR \"crown of thorn\" OR \"COT\" OR \"achantaster plancii\" OR \"mariculture*\" OR \"volcano eruption*\" OR \"ballast water\")\":\n"
     ]
    },
    {
     "name": "stderr",
     "output_type": "stream",
     "text": [
      "100%|████████████████████████████████████████████████████████████████████████████████████████████| 1/1 [00:00<?, ?it/s]\n"
     ]
    },
    {
     "name": "stdout",
     "output_type": "stream",
     "text": [
      "Downloading results for query \"PUBYEAR  = 1978 TITLE-ABS-KEY ( \"coral reef*\" OR \"coral*\")\":\n"
     ]
    },
    {
     "name": "stderr",
     "output_type": "stream",
     "text": [
      "100%|████████████████████████████████████████████████████████████████████████████████████| 9/9 [00:06<00:00,  1.28it/s]\n"
     ]
    },
    {
     "name": "stdout",
     "output_type": "stream",
     "text": [
      "Downloading results for query \"PUBYEAR  = 1978 TITLE-ABS-KEY ( \"coral reef*\" OR \"coral*\" AND \"bombing\" OR \"cyanide\" OR \"destructive fishing\" OR \"hookah compressor\" OR \"anchor*\" OR \"purse seine\" OR \"trawl*\" OR \"overfishing\" OR \"illegal fishing\" OR \"bycatch\" OR \"by-catch\" OR \"muroami\")\":\n"
     ]
    },
    {
     "name": "stderr",
     "output_type": "stream",
     "text": [
      "100%|████████████████████████████████████████████████████████████████████████████████████████████| 1/1 [00:00<?, ?it/s]\n"
     ]
    },
    {
     "name": "stdout",
     "output_type": "stream",
     "text": [
      "Downloading results for query \"PUBYEAR  = 1978 TITLE-ABS-KEY ( \"coral reef*\" OR \"coral*\"  AND \"sand mining\" OR \"deforestation\" OR \"abrasion\" OR \"sedimentation\" OR \"aquaculture pond\" OR \"mineral mining\" OR \"sewage discharge\" OR \"erosion\" OR \"plastic\" OR \"habitat los*\" OR \"pesticide\" OR \"fertilizer\" OR \"eutrophication\" OR \"coastal development\" OR \"reclamation\" OR \"runoff\" OR \"run-off\")\":\n"
     ]
    },
    {
     "name": "stderr",
     "output_type": "stream",
     "text": [
      "100%|████████████████████████████████████████████████████████████████████████████████████████████| 1/1 [00:00<?, ?it/s]\n"
     ]
    },
    {
     "name": "stdout",
     "output_type": "stream",
     "text": [
      "Downloading results for query \"PUBYEAR  = 1978 TITLE-ABS-KEY ( \"coral reef*\" OR \"coral*\" AND \"climate change\" OR \"bleach*\", OR \"storm*\" OR \"increasing sea surface temperature*\" OR \"increasing SST\" OR \"extreme weather\" OR \"global warming\" OR \"heatwave*\" OR \"heat wave*\")\":\n"
     ]
    },
    {
     "name": "stderr",
     "output_type": "stream",
     "text": [
      "100%|████████████████████████████████████████████████████████████████████████████████████████████| 1/1 [00:00<?, ?it/s]\n"
     ]
    },
    {
     "name": "stdout",
     "output_type": "stream",
     "text": [
      "Downloading results for query \"PUBYEAR  = 1978 TITLE-ABS-KEY ( \"coral reef*\" OR \"coral*\" AND \"disease*\" OR \"coral mining\" OR \"oil mining\" OR \"gas mining\" OR \"crown of thorn\" OR \"COT\" OR \"achantaster plancii\" OR \"mariculture*\" OR \"volcano eruption*\" OR \"ballast water\")\":\n"
     ]
    },
    {
     "name": "stderr",
     "output_type": "stream",
     "text": [
      "100%|████████████████████████████████████████████████████████████████████████████████████████████| 1/1 [00:00<?, ?it/s]\n"
     ]
    },
    {
     "name": "stdout",
     "output_type": "stream",
     "text": [
      "Downloading results for query \"PUBYEAR  = 1979 TITLE-ABS-KEY ( \"coral reef*\" OR \"coral*\")\":\n"
     ]
    },
    {
     "name": "stderr",
     "output_type": "stream",
     "text": [
      "100%|██████████████████████████████████████████████████████████████████████████████████| 10/10 [00:07<00:00,  1.27it/s]\n"
     ]
    },
    {
     "name": "stdout",
     "output_type": "stream",
     "text": [
      "Downloading results for query \"PUBYEAR  = 1979 TITLE-ABS-KEY ( \"coral reef*\" OR \"coral*\" AND \"bombing\" OR \"cyanide\" OR \"destructive fishing\" OR \"hookah compressor\" OR \"anchor*\" OR \"purse seine\" OR \"trawl*\" OR \"overfishing\" OR \"illegal fishing\" OR \"bycatch\" OR \"by-catch\" OR \"muroami\")\":\n"
     ]
    },
    {
     "name": "stderr",
     "output_type": "stream",
     "text": [
      "100%|████████████████████████████████████████████████████████████████████████████████████████████| 1/1 [00:00<?, ?it/s]\n"
     ]
    },
    {
     "name": "stdout",
     "output_type": "stream",
     "text": [
      "Downloading results for query \"PUBYEAR  = 1979 TITLE-ABS-KEY ( \"coral reef*\" OR \"coral*\"  AND \"sand mining\" OR \"deforestation\" OR \"abrasion\" OR \"sedimentation\" OR \"aquaculture pond\" OR \"mineral mining\" OR \"sewage discharge\" OR \"erosion\" OR \"plastic\" OR \"habitat los*\" OR \"pesticide\" OR \"fertilizer\" OR \"eutrophication\" OR \"coastal development\" OR \"reclamation\" OR \"runoff\" OR \"run-off\")\":\n"
     ]
    },
    {
     "name": "stderr",
     "output_type": "stream",
     "text": [
      "100%|████████████████████████████████████████████████████████████████████████████████████████████| 1/1 [00:00<?, ?it/s]\n"
     ]
    },
    {
     "name": "stdout",
     "output_type": "stream",
     "text": [
      "Downloading results for query \"PUBYEAR  = 1979 TITLE-ABS-KEY ( \"coral reef*\" OR \"coral*\" AND \"climate change\" OR \"bleach*\", OR \"storm*\" OR \"increasing sea surface temperature*\" OR \"increasing SST\" OR \"extreme weather\" OR \"global warming\" OR \"heatwave*\" OR \"heat wave*\")\":\n"
     ]
    },
    {
     "name": "stderr",
     "output_type": "stream",
     "text": [
      "100%|████████████████████████████████████████████████████████████████████████████████████████████| 1/1 [00:00<?, ?it/s]\n"
     ]
    },
    {
     "name": "stdout",
     "output_type": "stream",
     "text": [
      "Downloading results for query \"PUBYEAR  = 1979 TITLE-ABS-KEY ( \"coral reef*\" OR \"coral*\" AND \"disease*\" OR \"coral mining\" OR \"oil mining\" OR \"gas mining\" OR \"crown of thorn\" OR \"COT\" OR \"achantaster plancii\" OR \"mariculture*\" OR \"volcano eruption*\" OR \"ballast water\")\":\n"
     ]
    },
    {
     "name": "stderr",
     "output_type": "stream",
     "text": [
      "100%|████████████████████████████████████████████████████████████████████████████████████████████| 1/1 [00:00<?, ?it/s]\n"
     ]
    },
    {
     "name": "stdout",
     "output_type": "stream",
     "text": [
      "Downloading results for query \"PUBYEAR  = 1980 TITLE-ABS-KEY ( \"coral reef*\" OR \"coral*\")\":\n"
     ]
    },
    {
     "name": "stderr",
     "output_type": "stream",
     "text": [
      "100%|██████████████████████████████████████████████████████████████████████████████████| 12/12 [00:08<00:00,  1.31it/s]\n"
     ]
    },
    {
     "name": "stdout",
     "output_type": "stream",
     "text": [
      "Downloading results for query \"PUBYEAR  = 1980 TITLE-ABS-KEY ( \"coral reef*\" OR \"coral*\" AND \"bombing\" OR \"cyanide\" OR \"destructive fishing\" OR \"hookah compressor\" OR \"anchor*\" OR \"purse seine\" OR \"trawl*\" OR \"overfishing\" OR \"illegal fishing\" OR \"bycatch\" OR \"by-catch\" OR \"muroami\")\":\n"
     ]
    },
    {
     "name": "stderr",
     "output_type": "stream",
     "text": [
      "100%|████████████████████████████████████████████████████████████████████████████████████████████| 1/1 [00:00<?, ?it/s]\n"
     ]
    },
    {
     "name": "stdout",
     "output_type": "stream",
     "text": [
      "Downloading results for query \"PUBYEAR  = 1980 TITLE-ABS-KEY ( \"coral reef*\" OR \"coral*\"  AND \"sand mining\" OR \"deforestation\" OR \"abrasion\" OR \"sedimentation\" OR \"aquaculture pond\" OR \"mineral mining\" OR \"sewage discharge\" OR \"erosion\" OR \"plastic\" OR \"habitat los*\" OR \"pesticide\" OR \"fertilizer\" OR \"eutrophication\" OR \"coastal development\" OR \"reclamation\" OR \"runoff\" OR \"run-off\")\":\n"
     ]
    },
    {
     "name": "stderr",
     "output_type": "stream",
     "text": [
      "100%|████████████████████████████████████████████████████████████████████████████████████████████| 1/1 [00:00<?, ?it/s]\n"
     ]
    },
    {
     "name": "stdout",
     "output_type": "stream",
     "text": [
      "Downloading results for query \"PUBYEAR  = 1980 TITLE-ABS-KEY ( \"coral reef*\" OR \"coral*\" AND \"climate change\" OR \"bleach*\", OR \"storm*\" OR \"increasing sea surface temperature*\" OR \"increasing SST\" OR \"extreme weather\" OR \"global warming\" OR \"heatwave*\" OR \"heat wave*\")\":\n"
     ]
    },
    {
     "name": "stderr",
     "output_type": "stream",
     "text": [
      "100%|████████████████████████████████████████████████████████████████████████████████████████████| 1/1 [00:00<?, ?it/s]\n"
     ]
    },
    {
     "name": "stdout",
     "output_type": "stream",
     "text": [
      "Downloading results for query \"PUBYEAR  = 1980 TITLE-ABS-KEY ( \"coral reef*\" OR \"coral*\" AND \"disease*\" OR \"coral mining\" OR \"oil mining\" OR \"gas mining\" OR \"crown of thorn\" OR \"COT\" OR \"achantaster plancii\" OR \"mariculture*\" OR \"volcano eruption*\" OR \"ballast water\")\":\n"
     ]
    },
    {
     "name": "stderr",
     "output_type": "stream",
     "text": [
      "100%|████████████████████████████████████████████████████████████████████████████████████████████| 1/1 [00:00<?, ?it/s]\n"
     ]
    },
    {
     "name": "stdout",
     "output_type": "stream",
     "text": [
      "Downloading results for query \"PUBYEAR  = 1981 TITLE-ABS-KEY ( \"coral reef*\" OR \"coral*\")\":\n"
     ]
    },
    {
     "name": "stderr",
     "output_type": "stream",
     "text": [
      "100%|██████████████████████████████████████████████████████████████████████████████████| 11/11 [00:06<00:00,  1.44it/s]\n"
     ]
    },
    {
     "name": "stdout",
     "output_type": "stream",
     "text": [
      "Downloading results for query \"PUBYEAR  = 1981 TITLE-ABS-KEY ( \"coral reef*\" OR \"coral*\" AND \"bombing\" OR \"cyanide\" OR \"destructive fishing\" OR \"hookah compressor\" OR \"anchor*\" OR \"purse seine\" OR \"trawl*\" OR \"overfishing\" OR \"illegal fishing\" OR \"bycatch\" OR \"by-catch\" OR \"muroami\")\":\n"
     ]
    },
    {
     "name": "stderr",
     "output_type": "stream",
     "text": [
      "100%|████████████████████████████████████████████████████████████████████████████████████████████| 1/1 [00:00<?, ?it/s]\n"
     ]
    },
    {
     "name": "stdout",
     "output_type": "stream",
     "text": [
      "Downloading results for query \"PUBYEAR  = 1981 TITLE-ABS-KEY ( \"coral reef*\" OR \"coral*\"  AND \"sand mining\" OR \"deforestation\" OR \"abrasion\" OR \"sedimentation\" OR \"aquaculture pond\" OR \"mineral mining\" OR \"sewage discharge\" OR \"erosion\" OR \"plastic\" OR \"habitat los*\" OR \"pesticide\" OR \"fertilizer\" OR \"eutrophication\" OR \"coastal development\" OR \"reclamation\" OR \"runoff\" OR \"run-off\")\":\n"
     ]
    },
    {
     "name": "stderr",
     "output_type": "stream",
     "text": [
      "100%|████████████████████████████████████████████████████████████████████████████████████████████| 1/1 [00:00<?, ?it/s]\n"
     ]
    },
    {
     "name": "stdout",
     "output_type": "stream",
     "text": [
      "Downloading results for query \"PUBYEAR  = 1981 TITLE-ABS-KEY ( \"coral reef*\" OR \"coral*\" AND \"climate change\" OR \"bleach*\", OR \"storm*\" OR \"increasing sea surface temperature*\" OR \"increasing SST\" OR \"extreme weather\" OR \"global warming\" OR \"heatwave*\" OR \"heat wave*\")\":\n"
     ]
    },
    {
     "name": "stderr",
     "output_type": "stream",
     "text": [
      "100%|████████████████████████████████████████████████████████████████████████████████████████████| 1/1 [00:00<?, ?it/s]\n"
     ]
    },
    {
     "name": "stdout",
     "output_type": "stream",
     "text": [
      "Downloading results for query \"PUBYEAR  = 1981 TITLE-ABS-KEY ( \"coral reef*\" OR \"coral*\" AND \"disease*\" OR \"coral mining\" OR \"oil mining\" OR \"gas mining\" OR \"crown of thorn\" OR \"COT\" OR \"achantaster plancii\" OR \"mariculture*\" OR \"volcano eruption*\" OR \"ballast water\")\":\n"
     ]
    },
    {
     "name": "stderr",
     "output_type": "stream",
     "text": [
      "100%|████████████████████████████████████████████████████████████████████████████████████████████| 1/1 [00:00<?, ?it/s]\n"
     ]
    },
    {
     "name": "stdout",
     "output_type": "stream",
     "text": [
      "Downloading results for query \"PUBYEAR  = 1982 TITLE-ABS-KEY ( \"coral reef*\" OR \"coral*\")\":\n"
     ]
    },
    {
     "name": "stderr",
     "output_type": "stream",
     "text": [
      "100%|██████████████████████████████████████████████████████████████████████████████████| 14/14 [00:09<00:00,  1.38it/s]\n"
     ]
    },
    {
     "name": "stdout",
     "output_type": "stream",
     "text": [
      "Downloading results for query \"PUBYEAR  = 1982 TITLE-ABS-KEY ( \"coral reef*\" OR \"coral*\" AND \"bombing\" OR \"cyanide\" OR \"destructive fishing\" OR \"hookah compressor\" OR \"anchor*\" OR \"purse seine\" OR \"trawl*\" OR \"overfishing\" OR \"illegal fishing\" OR \"bycatch\" OR \"by-catch\" OR \"muroami\")\":\n"
     ]
    },
    {
     "name": "stderr",
     "output_type": "stream",
     "text": [
      "100%|████████████████████████████████████████████████████████████████████████████████████████████| 1/1 [00:00<?, ?it/s]\n"
     ]
    },
    {
     "name": "stdout",
     "output_type": "stream",
     "text": [
      "Downloading results for query \"PUBYEAR  = 1982 TITLE-ABS-KEY ( \"coral reef*\" OR \"coral*\"  AND \"sand mining\" OR \"deforestation\" OR \"abrasion\" OR \"sedimentation\" OR \"aquaculture pond\" OR \"mineral mining\" OR \"sewage discharge\" OR \"erosion\" OR \"plastic\" OR \"habitat los*\" OR \"pesticide\" OR \"fertilizer\" OR \"eutrophication\" OR \"coastal development\" OR \"reclamation\" OR \"runoff\" OR \"run-off\")\":\n"
     ]
    },
    {
     "name": "stderr",
     "output_type": "stream",
     "text": [
      "100%|████████████████████████████████████████████████████████████████████████████████████████████| 1/1 [00:00<?, ?it/s]\n"
     ]
    },
    {
     "name": "stdout",
     "output_type": "stream",
     "text": [
      "Downloading results for query \"PUBYEAR  = 1982 TITLE-ABS-KEY ( \"coral reef*\" OR \"coral*\" AND \"climate change\" OR \"bleach*\", OR \"storm*\" OR \"increasing sea surface temperature*\" OR \"increasing SST\" OR \"extreme weather\" OR \"global warming\" OR \"heatwave*\" OR \"heat wave*\")\":\n"
     ]
    },
    {
     "name": "stderr",
     "output_type": "stream",
     "text": [
      "100%|████████████████████████████████████████████████████████████████████████████████████████████| 1/1 [00:00<?, ?it/s]\n"
     ]
    },
    {
     "name": "stdout",
     "output_type": "stream",
     "text": [
      "Downloading results for query \"PUBYEAR  = 1982 TITLE-ABS-KEY ( \"coral reef*\" OR \"coral*\" AND \"disease*\" OR \"coral mining\" OR \"oil mining\" OR \"gas mining\" OR \"crown of thorn\" OR \"COT\" OR \"achantaster plancii\" OR \"mariculture*\" OR \"volcano eruption*\" OR \"ballast water\")\":\n"
     ]
    },
    {
     "name": "stderr",
     "output_type": "stream",
     "text": [
      "100%|████████████████████████████████████████████████████████████████████████████████████████████| 1/1 [00:00<?, ?it/s]\n"
     ]
    },
    {
     "name": "stdout",
     "output_type": "stream",
     "text": [
      "Downloading results for query \"PUBYEAR  = 1983 TITLE-ABS-KEY ( \"coral reef*\" OR \"coral*\")\":\n"
     ]
    },
    {
     "name": "stderr",
     "output_type": "stream",
     "text": [
      "100%|██████████████████████████████████████████████████████████████████████████████████| 16/16 [00:11<00:00,  1.29it/s]\n"
     ]
    },
    {
     "name": "stdout",
     "output_type": "stream",
     "text": [
      "Downloading results for query \"PUBYEAR  = 1983 TITLE-ABS-KEY ( \"coral reef*\" OR \"coral*\" AND \"bombing\" OR \"cyanide\" OR \"destructive fishing\" OR \"hookah compressor\" OR \"anchor*\" OR \"purse seine\" OR \"trawl*\" OR \"overfishing\" OR \"illegal fishing\" OR \"bycatch\" OR \"by-catch\" OR \"muroami\")\":\n"
     ]
    },
    {
     "name": "stderr",
     "output_type": "stream",
     "text": [
      "100%|████████████████████████████████████████████████████████████████████████████████████████████| 1/1 [00:00<?, ?it/s]\n"
     ]
    },
    {
     "name": "stdout",
     "output_type": "stream",
     "text": [
      "Downloading results for query \"PUBYEAR  = 1983 TITLE-ABS-KEY ( \"coral reef*\" OR \"coral*\"  AND \"sand mining\" OR \"deforestation\" OR \"abrasion\" OR \"sedimentation\" OR \"aquaculture pond\" OR \"mineral mining\" OR \"sewage discharge\" OR \"erosion\" OR \"plastic\" OR \"habitat los*\" OR \"pesticide\" OR \"fertilizer\" OR \"eutrophication\" OR \"coastal development\" OR \"reclamation\" OR \"runoff\" OR \"run-off\")\":\n"
     ]
    },
    {
     "name": "stderr",
     "output_type": "stream",
     "text": [
      "100%|████████████████████████████████████████████████████████████████████████████████████| 2/2 [00:00<00:00,  1.98it/s]\n"
     ]
    },
    {
     "name": "stdout",
     "output_type": "stream",
     "text": [
      "Downloading results for query \"PUBYEAR  = 1983 TITLE-ABS-KEY ( \"coral reef*\" OR \"coral*\" AND \"climate change\" OR \"bleach*\", OR \"storm*\" OR \"increasing sea surface temperature*\" OR \"increasing SST\" OR \"extreme weather\" OR \"global warming\" OR \"heatwave*\" OR \"heat wave*\")\":\n"
     ]
    },
    {
     "name": "stderr",
     "output_type": "stream",
     "text": [
      "100%|████████████████████████████████████████████████████████████████████████████████████████████| 1/1 [00:00<?, ?it/s]\n"
     ]
    },
    {
     "name": "stdout",
     "output_type": "stream",
     "text": [
      "Downloading results for query \"PUBYEAR  = 1983 TITLE-ABS-KEY ( \"coral reef*\" OR \"coral*\" AND \"disease*\" OR \"coral mining\" OR \"oil mining\" OR \"gas mining\" OR \"crown of thorn\" OR \"COT\" OR \"achantaster plancii\" OR \"mariculture*\" OR \"volcano eruption*\" OR \"ballast water\")\":\n"
     ]
    },
    {
     "name": "stderr",
     "output_type": "stream",
     "text": [
      "100%|████████████████████████████████████████████████████████████████████████████████████████████| 1/1 [00:00<?, ?it/s]\n"
     ]
    },
    {
     "name": "stdout",
     "output_type": "stream",
     "text": [
      "Downloading results for query \"PUBYEAR  = 1984 TITLE-ABS-KEY ( \"coral reef*\" OR \"coral*\")\":\n"
     ]
    },
    {
     "name": "stderr",
     "output_type": "stream",
     "text": [
      "100%|██████████████████████████████████████████████████████████████████████████████████| 16/16 [00:11<00:00,  1.33it/s]\n"
     ]
    },
    {
     "name": "stdout",
     "output_type": "stream",
     "text": [
      "Downloading results for query \"PUBYEAR  = 1984 TITLE-ABS-KEY ( \"coral reef*\" OR \"coral*\" AND \"bombing\" OR \"cyanide\" OR \"destructive fishing\" OR \"hookah compressor\" OR \"anchor*\" OR \"purse seine\" OR \"trawl*\" OR \"overfishing\" OR \"illegal fishing\" OR \"bycatch\" OR \"by-catch\" OR \"muroami\")\":\n"
     ]
    },
    {
     "name": "stderr",
     "output_type": "stream",
     "text": [
      "1it [00:00, ?it/s]\n"
     ]
    },
    {
     "name": "stdout",
     "output_type": "stream",
     "text": [
      "Downloading results for query \"PUBYEAR  = 1984 TITLE-ABS-KEY ( \"coral reef*\" OR \"coral*\"  AND \"sand mining\" OR \"deforestation\" OR \"abrasion\" OR \"sedimentation\" OR \"aquaculture pond\" OR \"mineral mining\" OR \"sewage discharge\" OR \"erosion\" OR \"plastic\" OR \"habitat los*\" OR \"pesticide\" OR \"fertilizer\" OR \"eutrophication\" OR \"coastal development\" OR \"reclamation\" OR \"runoff\" OR \"run-off\")\":\n"
     ]
    },
    {
     "name": "stderr",
     "output_type": "stream",
     "text": [
      "100%|████████████████████████████████████████████████████████████████████████████████████| 2/2 [00:00<00:00,  1.69it/s]\n"
     ]
    },
    {
     "name": "stdout",
     "output_type": "stream",
     "text": [
      "Downloading results for query \"PUBYEAR  = 1984 TITLE-ABS-KEY ( \"coral reef*\" OR \"coral*\" AND \"climate change\" OR \"bleach*\", OR \"storm*\" OR \"increasing sea surface temperature*\" OR \"increasing SST\" OR \"extreme weather\" OR \"global warming\" OR \"heatwave*\" OR \"heat wave*\")\":\n"
     ]
    },
    {
     "name": "stderr",
     "output_type": "stream",
     "text": [
      "100%|████████████████████████████████████████████████████████████████████████████████████████████| 1/1 [00:00<?, ?it/s]\n"
     ]
    },
    {
     "name": "stdout",
     "output_type": "stream",
     "text": [
      "Downloading results for query \"PUBYEAR  = 1984 TITLE-ABS-KEY ( \"coral reef*\" OR \"coral*\" AND \"disease*\" OR \"coral mining\" OR \"oil mining\" OR \"gas mining\" OR \"crown of thorn\" OR \"COT\" OR \"achantaster plancii\" OR \"mariculture*\" OR \"volcano eruption*\" OR \"ballast water\")\":\n"
     ]
    },
    {
     "name": "stderr",
     "output_type": "stream",
     "text": [
      "100%|████████████████████████████████████████████████████████████████████████████████████████████| 1/1 [00:00<?, ?it/s]\n"
     ]
    },
    {
     "name": "stdout",
     "output_type": "stream",
     "text": [
      "Downloading results for query \"PUBYEAR  = 1985 TITLE-ABS-KEY ( \"coral reef*\" OR \"coral*\")\":\n"
     ]
    },
    {
     "name": "stderr",
     "output_type": "stream",
     "text": [
      "100%|██████████████████████████████████████████████████████████████████████████████████| 17/17 [00:11<00:00,  1.36it/s]\n"
     ]
    },
    {
     "name": "stdout",
     "output_type": "stream",
     "text": [
      "Downloading results for query \"PUBYEAR  = 1985 TITLE-ABS-KEY ( \"coral reef*\" OR \"coral*\" AND \"bombing\" OR \"cyanide\" OR \"destructive fishing\" OR \"hookah compressor\" OR \"anchor*\" OR \"purse seine\" OR \"trawl*\" OR \"overfishing\" OR \"illegal fishing\" OR \"bycatch\" OR \"by-catch\" OR \"muroami\")\":\n"
     ]
    },
    {
     "name": "stderr",
     "output_type": "stream",
     "text": [
      "100%|████████████████████████████████████████████████████████████████████████████████████████████| 1/1 [00:00<?, ?it/s]\n"
     ]
    },
    {
     "name": "stdout",
     "output_type": "stream",
     "text": [
      "Downloading results for query \"PUBYEAR  = 1985 TITLE-ABS-KEY ( \"coral reef*\" OR \"coral*\"  AND \"sand mining\" OR \"deforestation\" OR \"abrasion\" OR \"sedimentation\" OR \"aquaculture pond\" OR \"mineral mining\" OR \"sewage discharge\" OR \"erosion\" OR \"plastic\" OR \"habitat los*\" OR \"pesticide\" OR \"fertilizer\" OR \"eutrophication\" OR \"coastal development\" OR \"reclamation\" OR \"runoff\" OR \"run-off\")\":\n"
     ]
    },
    {
     "name": "stderr",
     "output_type": "stream",
     "text": [
      "100%|████████████████████████████████████████████████████████████████████████████████████| 2/2 [00:00<00:00,  2.00it/s]\n"
     ]
    },
    {
     "name": "stdout",
     "output_type": "stream",
     "text": [
      "Downloading results for query \"PUBYEAR  = 1985 TITLE-ABS-KEY ( \"coral reef*\" OR \"coral*\" AND \"climate change\" OR \"bleach*\", OR \"storm*\" OR \"increasing sea surface temperature*\" OR \"increasing SST\" OR \"extreme weather\" OR \"global warming\" OR \"heatwave*\" OR \"heat wave*\")\":\n"
     ]
    },
    {
     "name": "stderr",
     "output_type": "stream",
     "text": [
      "100%|████████████████████████████████████████████████████████████████████████████████████████████| 1/1 [00:00<?, ?it/s]\n"
     ]
    },
    {
     "name": "stdout",
     "output_type": "stream",
     "text": [
      "Downloading results for query \"PUBYEAR  = 1985 TITLE-ABS-KEY ( \"coral reef*\" OR \"coral*\" AND \"disease*\" OR \"coral mining\" OR \"oil mining\" OR \"gas mining\" OR \"crown of thorn\" OR \"COT\" OR \"achantaster plancii\" OR \"mariculture*\" OR \"volcano eruption*\" OR \"ballast water\")\":\n"
     ]
    },
    {
     "name": "stderr",
     "output_type": "stream",
     "text": [
      "100%|████████████████████████████████████████████████████████████████████████████████████████████| 1/1 [00:00<?, ?it/s]\n"
     ]
    },
    {
     "name": "stdout",
     "output_type": "stream",
     "text": [
      "Downloading results for query \"PUBYEAR  = 1986 TITLE-ABS-KEY ( \"coral reef*\" OR \"coral*\")\":\n"
     ]
    },
    {
     "name": "stderr",
     "output_type": "stream",
     "text": [
      "100%|██████████████████████████████████████████████████████████████████████████████████| 15/15 [00:10<00:00,  1.38it/s]\n"
     ]
    },
    {
     "name": "stdout",
     "output_type": "stream",
     "text": [
      "Downloading results for query \"PUBYEAR  = 1986 TITLE-ABS-KEY ( \"coral reef*\" OR \"coral*\" AND \"bombing\" OR \"cyanide\" OR \"destructive fishing\" OR \"hookah compressor\" OR \"anchor*\" OR \"purse seine\" OR \"trawl*\" OR \"overfishing\" OR \"illegal fishing\" OR \"bycatch\" OR \"by-catch\" OR \"muroami\")\":\n"
     ]
    },
    {
     "name": "stderr",
     "output_type": "stream",
     "text": [
      "100%|████████████████████████████████████████████████████████████████████████████████████████████| 1/1 [00:00<?, ?it/s]\n"
     ]
    },
    {
     "name": "stdout",
     "output_type": "stream",
     "text": [
      "Downloading results for query \"PUBYEAR  = 1986 TITLE-ABS-KEY ( \"coral reef*\" OR \"coral*\"  AND \"sand mining\" OR \"deforestation\" OR \"abrasion\" OR \"sedimentation\" OR \"aquaculture pond\" OR \"mineral mining\" OR \"sewage discharge\" OR \"erosion\" OR \"plastic\" OR \"habitat los*\" OR \"pesticide\" OR \"fertilizer\" OR \"eutrophication\" OR \"coastal development\" OR \"reclamation\" OR \"runoff\" OR \"run-off\")\":\n"
     ]
    },
    {
     "name": "stderr",
     "output_type": "stream",
     "text": [
      "100%|████████████████████████████████████████████████████████████████████████████████████████████| 1/1 [00:00<?, ?it/s]\n"
     ]
    },
    {
     "name": "stdout",
     "output_type": "stream",
     "text": [
      "Downloading results for query \"PUBYEAR  = 1986 TITLE-ABS-KEY ( \"coral reef*\" OR \"coral*\" AND \"climate change\" OR \"bleach*\", OR \"storm*\" OR \"increasing sea surface temperature*\" OR \"increasing SST\" OR \"extreme weather\" OR \"global warming\" OR \"heatwave*\" OR \"heat wave*\")\":\n"
     ]
    },
    {
     "name": "stderr",
     "output_type": "stream",
     "text": [
      "100%|████████████████████████████████████████████████████████████████████████████████████████████| 1/1 [00:00<?, ?it/s]\n"
     ]
    },
    {
     "name": "stdout",
     "output_type": "stream",
     "text": [
      "Downloading results for query \"PUBYEAR  = 1986 TITLE-ABS-KEY ( \"coral reef*\" OR \"coral*\" AND \"disease*\" OR \"coral mining\" OR \"oil mining\" OR \"gas mining\" OR \"crown of thorn\" OR \"COT\" OR \"achantaster plancii\" OR \"mariculture*\" OR \"volcano eruption*\" OR \"ballast water\")\":\n"
     ]
    },
    {
     "name": "stderr",
     "output_type": "stream",
     "text": [
      "100%|████████████████████████████████████████████████████████████████████████████████████████████| 1/1 [00:00<?, ?it/s]\n"
     ]
    },
    {
     "name": "stdout",
     "output_type": "stream",
     "text": [
      "Downloading results for query \"PUBYEAR  = 1987 TITLE-ABS-KEY ( \"coral reef*\" OR \"coral*\")\":\n"
     ]
    },
    {
     "name": "stderr",
     "output_type": "stream",
     "text": [
      "100%|██████████████████████████████████████████████████████████████████████████████████| 16/16 [00:10<00:00,  1.40it/s]\n"
     ]
    },
    {
     "name": "stdout",
     "output_type": "stream",
     "text": [
      "Downloading results for query \"PUBYEAR  = 1987 TITLE-ABS-KEY ( \"coral reef*\" OR \"coral*\" AND \"bombing\" OR \"cyanide\" OR \"destructive fishing\" OR \"hookah compressor\" OR \"anchor*\" OR \"purse seine\" OR \"trawl*\" OR \"overfishing\" OR \"illegal fishing\" OR \"bycatch\" OR \"by-catch\" OR \"muroami\")\":\n"
     ]
    },
    {
     "name": "stderr",
     "output_type": "stream",
     "text": [
      "100%|████████████████████████████████████████████████████████████████████████████████████████████| 1/1 [00:00<?, ?it/s]\n"
     ]
    },
    {
     "name": "stdout",
     "output_type": "stream",
     "text": [
      "Downloading results for query \"PUBYEAR  = 1987 TITLE-ABS-KEY ( \"coral reef*\" OR \"coral*\"  AND \"sand mining\" OR \"deforestation\" OR \"abrasion\" OR \"sedimentation\" OR \"aquaculture pond\" OR \"mineral mining\" OR \"sewage discharge\" OR \"erosion\" OR \"plastic\" OR \"habitat los*\" OR \"pesticide\" OR \"fertilizer\" OR \"eutrophication\" OR \"coastal development\" OR \"reclamation\" OR \"runoff\" OR \"run-off\")\":\n"
     ]
    },
    {
     "name": "stderr",
     "output_type": "stream",
     "text": [
      "100%|████████████████████████████████████████████████████████████████████████████████████| 2/2 [00:00<00:00,  1.68it/s]\n"
     ]
    },
    {
     "name": "stdout",
     "output_type": "stream",
     "text": [
      "Downloading results for query \"PUBYEAR  = 1987 TITLE-ABS-KEY ( \"coral reef*\" OR \"coral*\" AND \"climate change\" OR \"bleach*\", OR \"storm*\" OR \"increasing sea surface temperature*\" OR \"increasing SST\" OR \"extreme weather\" OR \"global warming\" OR \"heatwave*\" OR \"heat wave*\")\":\n"
     ]
    },
    {
     "name": "stderr",
     "output_type": "stream",
     "text": [
      "100%|████████████████████████████████████████████████████████████████████████████████████████████| 1/1 [00:00<?, ?it/s]\n"
     ]
    },
    {
     "name": "stdout",
     "output_type": "stream",
     "text": [
      "Downloading results for query \"PUBYEAR  = 1987 TITLE-ABS-KEY ( \"coral reef*\" OR \"coral*\" AND \"disease*\" OR \"coral mining\" OR \"oil mining\" OR \"gas mining\" OR \"crown of thorn\" OR \"COT\" OR \"achantaster plancii\" OR \"mariculture*\" OR \"volcano eruption*\" OR \"ballast water\")\":\n"
     ]
    },
    {
     "name": "stderr",
     "output_type": "stream",
     "text": [
      "100%|████████████████████████████████████████████████████████████████████████████████████████████| 1/1 [00:00<?, ?it/s]\n"
     ]
    },
    {
     "name": "stdout",
     "output_type": "stream",
     "text": [
      "Downloading results for query \"PUBYEAR  = 1988 TITLE-ABS-KEY ( \"coral reef*\" OR \"coral*\")\":\n"
     ]
    },
    {
     "name": "stderr",
     "output_type": "stream",
     "text": [
      "100%|██████████████████████████████████████████████████████████████████████████████████| 17/17 [00:12<00:00,  1.27it/s]\n"
     ]
    },
    {
     "name": "stdout",
     "output_type": "stream",
     "text": [
      "Downloading results for query \"PUBYEAR  = 1988 TITLE-ABS-KEY ( \"coral reef*\" OR \"coral*\" AND \"bombing\" OR \"cyanide\" OR \"destructive fishing\" OR \"hookah compressor\" OR \"anchor*\" OR \"purse seine\" OR \"trawl*\" OR \"overfishing\" OR \"illegal fishing\" OR \"bycatch\" OR \"by-catch\" OR \"muroami\")\":\n"
     ]
    },
    {
     "name": "stderr",
     "output_type": "stream",
     "text": [
      "100%|████████████████████████████████████████████████████████████████████████████████████████████| 1/1 [00:00<?, ?it/s]\n"
     ]
    },
    {
     "name": "stdout",
     "output_type": "stream",
     "text": [
      "Downloading results for query \"PUBYEAR  = 1988 TITLE-ABS-KEY ( \"coral reef*\" OR \"coral*\"  AND \"sand mining\" OR \"deforestation\" OR \"abrasion\" OR \"sedimentation\" OR \"aquaculture pond\" OR \"mineral mining\" OR \"sewage discharge\" OR \"erosion\" OR \"plastic\" OR \"habitat los*\" OR \"pesticide\" OR \"fertilizer\" OR \"eutrophication\" OR \"coastal development\" OR \"reclamation\" OR \"runoff\" OR \"run-off\")\":\n"
     ]
    },
    {
     "name": "stderr",
     "output_type": "stream",
     "text": [
      "100%|████████████████████████████████████████████████████████████████████████████████████| 2/2 [00:00<00:00,  1.33it/s]\n"
     ]
    },
    {
     "name": "stdout",
     "output_type": "stream",
     "text": [
      "Downloading results for query \"PUBYEAR  = 1988 TITLE-ABS-KEY ( \"coral reef*\" OR \"coral*\" AND \"climate change\" OR \"bleach*\", OR \"storm*\" OR \"increasing sea surface temperature*\" OR \"increasing SST\" OR \"extreme weather\" OR \"global warming\" OR \"heatwave*\" OR \"heat wave*\")\":\n"
     ]
    },
    {
     "name": "stderr",
     "output_type": "stream",
     "text": [
      "100%|████████████████████████████████████████████████████████████████████████████████████████████| 1/1 [00:00<?, ?it/s]\n"
     ]
    },
    {
     "name": "stdout",
     "output_type": "stream",
     "text": [
      "Downloading results for query \"PUBYEAR  = 1988 TITLE-ABS-KEY ( \"coral reef*\" OR \"coral*\" AND \"disease*\" OR \"coral mining\" OR \"oil mining\" OR \"gas mining\" OR \"crown of thorn\" OR \"COT\" OR \"achantaster plancii\" OR \"mariculture*\" OR \"volcano eruption*\" OR \"ballast water\")\":\n"
     ]
    },
    {
     "name": "stderr",
     "output_type": "stream",
     "text": [
      "100%|████████████████████████████████████████████████████████████████████████████████████████████| 1/1 [00:00<?, ?it/s]\n"
     ]
    },
    {
     "name": "stdout",
     "output_type": "stream",
     "text": [
      "Downloading results for query \"PUBYEAR  = 1989 TITLE-ABS-KEY ( \"coral reef*\" OR \"coral*\")\":\n"
     ]
    },
    {
     "name": "stderr",
     "output_type": "stream",
     "text": [
      "100%|██████████████████████████████████████████████████████████████████████████████████| 19/19 [00:13<00:00,  1.32it/s]\n"
     ]
    },
    {
     "name": "stdout",
     "output_type": "stream",
     "text": [
      "Downloading results for query \"PUBYEAR  = 1989 TITLE-ABS-KEY ( \"coral reef*\" OR \"coral*\" AND \"bombing\" OR \"cyanide\" OR \"destructive fishing\" OR \"hookah compressor\" OR \"anchor*\" OR \"purse seine\" OR \"trawl*\" OR \"overfishing\" OR \"illegal fishing\" OR \"bycatch\" OR \"by-catch\" OR \"muroami\")\":\n"
     ]
    },
    {
     "name": "stderr",
     "output_type": "stream",
     "text": [
      "100%|████████████████████████████████████████████████████████████████████████████████████████████| 1/1 [00:00<?, ?it/s]\n"
     ]
    },
    {
     "name": "stdout",
     "output_type": "stream",
     "text": [
      "Downloading results for query \"PUBYEAR  = 1989 TITLE-ABS-KEY ( \"coral reef*\" OR \"coral*\"  AND \"sand mining\" OR \"deforestation\" OR \"abrasion\" OR \"sedimentation\" OR \"aquaculture pond\" OR \"mineral mining\" OR \"sewage discharge\" OR \"erosion\" OR \"plastic\" OR \"habitat los*\" OR \"pesticide\" OR \"fertilizer\" OR \"eutrophication\" OR \"coastal development\" OR \"reclamation\" OR \"runoff\" OR \"run-off\")\":\n"
     ]
    },
    {
     "name": "stderr",
     "output_type": "stream",
     "text": [
      "100%|████████████████████████████████████████████████████████████████████████████████████| 2/2 [00:00<00:00,  1.35it/s]\n"
     ]
    },
    {
     "name": "stdout",
     "output_type": "stream",
     "text": [
      "Downloading results for query \"PUBYEAR  = 1989 TITLE-ABS-KEY ( \"coral reef*\" OR \"coral*\" AND \"climate change\" OR \"bleach*\", OR \"storm*\" OR \"increasing sea surface temperature*\" OR \"increasing SST\" OR \"extreme weather\" OR \"global warming\" OR \"heatwave*\" OR \"heat wave*\")\":\n"
     ]
    },
    {
     "name": "stderr",
     "output_type": "stream",
     "text": [
      "100%|████████████████████████████████████████████████████████████████████████████████████████████| 1/1 [00:00<?, ?it/s]\n"
     ]
    },
    {
     "name": "stdout",
     "output_type": "stream",
     "text": [
      "Downloading results for query \"PUBYEAR  = 1989 TITLE-ABS-KEY ( \"coral reef*\" OR \"coral*\" AND \"disease*\" OR \"coral mining\" OR \"oil mining\" OR \"gas mining\" OR \"crown of thorn\" OR \"COT\" OR \"achantaster plancii\" OR \"mariculture*\" OR \"volcano eruption*\" OR \"ballast water\")\":\n"
     ]
    },
    {
     "name": "stderr",
     "output_type": "stream",
     "text": [
      "100%|████████████████████████████████████████████████████████████████████████████████████████████| 1/1 [00:00<?, ?it/s]\n"
     ]
    },
    {
     "name": "stdout",
     "output_type": "stream",
     "text": [
      "Downloading results for query \"PUBYEAR  = 1990 TITLE-ABS-KEY ( \"coral reef*\" OR \"coral*\")\":\n"
     ]
    },
    {
     "name": "stderr",
     "output_type": "stream",
     "text": [
      "100%|██████████████████████████████████████████████████████████████████████████████████| 19/19 [00:13<00:00,  1.35it/s]\n"
     ]
    },
    {
     "name": "stdout",
     "output_type": "stream",
     "text": [
      "Downloading results for query \"PUBYEAR  = 1990 TITLE-ABS-KEY ( \"coral reef*\" OR \"coral*\" AND \"bombing\" OR \"cyanide\" OR \"destructive fishing\" OR \"hookah compressor\" OR \"anchor*\" OR \"purse seine\" OR \"trawl*\" OR \"overfishing\" OR \"illegal fishing\" OR \"bycatch\" OR \"by-catch\" OR \"muroami\")\":\n"
     ]
    },
    {
     "name": "stderr",
     "output_type": "stream",
     "text": [
      "100%|████████████████████████████████████████████████████████████████████████████████████████████| 1/1 [00:00<?, ?it/s]\n"
     ]
    },
    {
     "name": "stdout",
     "output_type": "stream",
     "text": [
      "Downloading results for query \"PUBYEAR  = 1990 TITLE-ABS-KEY ( \"coral reef*\" OR \"coral*\"  AND \"sand mining\" OR \"deforestation\" OR \"abrasion\" OR \"sedimentation\" OR \"aquaculture pond\" OR \"mineral mining\" OR \"sewage discharge\" OR \"erosion\" OR \"plastic\" OR \"habitat los*\" OR \"pesticide\" OR \"fertilizer\" OR \"eutrophication\" OR \"coastal development\" OR \"reclamation\" OR \"runoff\" OR \"run-off\")\":\n"
     ]
    },
    {
     "name": "stderr",
     "output_type": "stream",
     "text": [
      "100%|████████████████████████████████████████████████████████████████████████████████████| 2/2 [00:00<00:00,  1.63it/s]\n"
     ]
    },
    {
     "name": "stdout",
     "output_type": "stream",
     "text": [
      "Downloading results for query \"PUBYEAR  = 1990 TITLE-ABS-KEY ( \"coral reef*\" OR \"coral*\" AND \"climate change\" OR \"bleach*\", OR \"storm*\" OR \"increasing sea surface temperature*\" OR \"increasing SST\" OR \"extreme weather\" OR \"global warming\" OR \"heatwave*\" OR \"heat wave*\")\":\n"
     ]
    },
    {
     "name": "stderr",
     "output_type": "stream",
     "text": [
      "100%|████████████████████████████████████████████████████████████████████████████████████| 2/2 [00:00<00:00,  1.54it/s]\n"
     ]
    },
    {
     "name": "stdout",
     "output_type": "stream",
     "text": [
      "Downloading results for query \"PUBYEAR  = 1990 TITLE-ABS-KEY ( \"coral reef*\" OR \"coral*\" AND \"disease*\" OR \"coral mining\" OR \"oil mining\" OR \"gas mining\" OR \"crown of thorn\" OR \"COT\" OR \"achantaster plancii\" OR \"mariculture*\" OR \"volcano eruption*\" OR \"ballast water\")\":\n"
     ]
    },
    {
     "name": "stderr",
     "output_type": "stream",
     "text": [
      "100%|████████████████████████████████████████████████████████████████████████████████████████████| 1/1 [00:00<?, ?it/s]\n"
     ]
    },
    {
     "name": "stdout",
     "output_type": "stream",
     "text": [
      "Downloading results for query \"PUBYEAR  = 1991 TITLE-ABS-KEY ( \"coral reef*\" OR \"coral*\")\":\n"
     ]
    },
    {
     "name": "stderr",
     "output_type": "stream",
     "text": [
      "100%|██████████████████████████████████████████████████████████████████████████████████| 22/22 [00:15<00:00,  1.33it/s]\n"
     ]
    },
    {
     "name": "stdout",
     "output_type": "stream",
     "text": [
      "Downloading results for query \"PUBYEAR  = 1991 TITLE-ABS-KEY ( \"coral reef*\" OR \"coral*\" AND \"bombing\" OR \"cyanide\" OR \"destructive fishing\" OR \"hookah compressor\" OR \"anchor*\" OR \"purse seine\" OR \"trawl*\" OR \"overfishing\" OR \"illegal fishing\" OR \"bycatch\" OR \"by-catch\" OR \"muroami\")\":\n"
     ]
    },
    {
     "name": "stderr",
     "output_type": "stream",
     "text": [
      "100%|████████████████████████████████████████████████████████████████████████████████████████████| 1/1 [00:00<?, ?it/s]\n"
     ]
    },
    {
     "name": "stdout",
     "output_type": "stream",
     "text": [
      "Downloading results for query \"PUBYEAR  = 1991 TITLE-ABS-KEY ( \"coral reef*\" OR \"coral*\"  AND \"sand mining\" OR \"deforestation\" OR \"abrasion\" OR \"sedimentation\" OR \"aquaculture pond\" OR \"mineral mining\" OR \"sewage discharge\" OR \"erosion\" OR \"plastic\" OR \"habitat los*\" OR \"pesticide\" OR \"fertilizer\" OR \"eutrophication\" OR \"coastal development\" OR \"reclamation\" OR \"runoff\" OR \"run-off\")\":\n"
     ]
    },
    {
     "name": "stderr",
     "output_type": "stream",
     "text": [
      "100%|████████████████████████████████████████████████████████████████████████████████████| 3/3 [00:01<00:00,  1.58it/s]\n"
     ]
    },
    {
     "name": "stdout",
     "output_type": "stream",
     "text": [
      "Downloading results for query \"PUBYEAR  = 1991 TITLE-ABS-KEY ( \"coral reef*\" OR \"coral*\" AND \"climate change\" OR \"bleach*\", OR \"storm*\" OR \"increasing sea surface temperature*\" OR \"increasing SST\" OR \"extreme weather\" OR \"global warming\" OR \"heatwave*\" OR \"heat wave*\")\":\n"
     ]
    },
    {
     "name": "stderr",
     "output_type": "stream",
     "text": [
      "100%|████████████████████████████████████████████████████████████████████████████████████| 2/2 [00:00<00:00,  1.41it/s]\n"
     ]
    },
    {
     "name": "stdout",
     "output_type": "stream",
     "text": [
      "Downloading results for query \"PUBYEAR  = 1991 TITLE-ABS-KEY ( \"coral reef*\" OR \"coral*\" AND \"disease*\" OR \"coral mining\" OR \"oil mining\" OR \"gas mining\" OR \"crown of thorn\" OR \"COT\" OR \"achantaster plancii\" OR \"mariculture*\" OR \"volcano eruption*\" OR \"ballast water\")\":\n"
     ]
    },
    {
     "name": "stderr",
     "output_type": "stream",
     "text": [
      "100%|████████████████████████████████████████████████████████████████████████████████████████████| 1/1 [00:00<?, ?it/s]\n"
     ]
    },
    {
     "name": "stdout",
     "output_type": "stream",
     "text": [
      "Downloading results for query \"PUBYEAR  = 1992 TITLE-ABS-KEY ( \"coral reef*\" OR \"coral*\")\":\n"
     ]
    },
    {
     "name": "stderr",
     "output_type": "stream",
     "text": [
      "100%|██████████████████████████████████████████████████████████████████████████████████| 23/23 [00:23<00:00,  1.05s/it]\n"
     ]
    },
    {
     "name": "stdout",
     "output_type": "stream",
     "text": [
      "Downloading results for query \"PUBYEAR  = 1992 TITLE-ABS-KEY ( \"coral reef*\" OR \"coral*\" AND \"bombing\" OR \"cyanide\" OR \"destructive fishing\" OR \"hookah compressor\" OR \"anchor*\" OR \"purse seine\" OR \"trawl*\" OR \"overfishing\" OR \"illegal fishing\" OR \"bycatch\" OR \"by-catch\" OR \"muroami\")\":\n"
     ]
    },
    {
     "name": "stderr",
     "output_type": "stream",
     "text": [
      "100%|████████████████████████████████████████████████████████████████████████████████████████████| 1/1 [00:00<?, ?it/s]\n"
     ]
    },
    {
     "name": "stdout",
     "output_type": "stream",
     "text": [
      "Downloading results for query \"PUBYEAR  = 1992 TITLE-ABS-KEY ( \"coral reef*\" OR \"coral*\"  AND \"sand mining\" OR \"deforestation\" OR \"abrasion\" OR \"sedimentation\" OR \"aquaculture pond\" OR \"mineral mining\" OR \"sewage discharge\" OR \"erosion\" OR \"plastic\" OR \"habitat los*\" OR \"pesticide\" OR \"fertilizer\" OR \"eutrophication\" OR \"coastal development\" OR \"reclamation\" OR \"runoff\" OR \"run-off\")\":\n"
     ]
    },
    {
     "name": "stderr",
     "output_type": "stream",
     "text": [
      "100%|████████████████████████████████████████████████████████████████████████████████████| 2/2 [00:00<00:00,  1.51it/s]\n"
     ]
    },
    {
     "name": "stdout",
     "output_type": "stream",
     "text": [
      "Downloading results for query \"PUBYEAR  = 1992 TITLE-ABS-KEY ( \"coral reef*\" OR \"coral*\" AND \"climate change\" OR \"bleach*\", OR \"storm*\" OR \"increasing sea surface temperature*\" OR \"increasing SST\" OR \"extreme weather\" OR \"global warming\" OR \"heatwave*\" OR \"heat wave*\")\":\n"
     ]
    },
    {
     "name": "stderr",
     "output_type": "stream",
     "text": [
      "100%|████████████████████████████████████████████████████████████████████████████████████| 3/3 [00:01<00:00,  1.60it/s]\n"
     ]
    },
    {
     "name": "stdout",
     "output_type": "stream",
     "text": [
      "Downloading results for query \"PUBYEAR  = 1992 TITLE-ABS-KEY ( \"coral reef*\" OR \"coral*\" AND \"disease*\" OR \"coral mining\" OR \"oil mining\" OR \"gas mining\" OR \"crown of thorn\" OR \"COT\" OR \"achantaster plancii\" OR \"mariculture*\" OR \"volcano eruption*\" OR \"ballast water\")\":\n"
     ]
    },
    {
     "name": "stderr",
     "output_type": "stream",
     "text": [
      "100%|████████████████████████████████████████████████████████████████████████████████████████████| 1/1 [00:00<?, ?it/s]\n"
     ]
    },
    {
     "name": "stdout",
     "output_type": "stream",
     "text": [
      "Downloading results for query \"PUBYEAR  = 1993 TITLE-ABS-KEY ( \"coral reef*\" OR \"coral*\")\":\n"
     ]
    },
    {
     "name": "stderr",
     "output_type": "stream",
     "text": [
      "100%|██████████████████████████████████████████████████████████████████████████████████| 24/24 [00:16<00:00,  1.36it/s]\n"
     ]
    },
    {
     "name": "stdout",
     "output_type": "stream",
     "text": [
      "Downloading results for query \"PUBYEAR  = 1993 TITLE-ABS-KEY ( \"coral reef*\" OR \"coral*\" AND \"bombing\" OR \"cyanide\" OR \"destructive fishing\" OR \"hookah compressor\" OR \"anchor*\" OR \"purse seine\" OR \"trawl*\" OR \"overfishing\" OR \"illegal fishing\" OR \"bycatch\" OR \"by-catch\" OR \"muroami\")\":\n"
     ]
    },
    {
     "name": "stderr",
     "output_type": "stream",
     "text": [
      "100%|████████████████████████████████████████████████████████████████████████████████████████████| 1/1 [00:00<?, ?it/s]\n"
     ]
    },
    {
     "name": "stdout",
     "output_type": "stream",
     "text": [
      "Downloading results for query \"PUBYEAR  = 1993 TITLE-ABS-KEY ( \"coral reef*\" OR \"coral*\"  AND \"sand mining\" OR \"deforestation\" OR \"abrasion\" OR \"sedimentation\" OR \"aquaculture pond\" OR \"mineral mining\" OR \"sewage discharge\" OR \"erosion\" OR \"plastic\" OR \"habitat los*\" OR \"pesticide\" OR \"fertilizer\" OR \"eutrophication\" OR \"coastal development\" OR \"reclamation\" OR \"runoff\" OR \"run-off\")\":\n"
     ]
    },
    {
     "name": "stderr",
     "output_type": "stream",
     "text": [
      "100%|████████████████████████████████████████████████████████████████████████████████████| 3/3 [00:01<00:00,  1.51it/s]\n"
     ]
    },
    {
     "name": "stdout",
     "output_type": "stream",
     "text": [
      "Downloading results for query \"PUBYEAR  = 1993 TITLE-ABS-KEY ( \"coral reef*\" OR \"coral*\" AND \"climate change\" OR \"bleach*\", OR \"storm*\" OR \"increasing sea surface temperature*\" OR \"increasing SST\" OR \"extreme weather\" OR \"global warming\" OR \"heatwave*\" OR \"heat wave*\")\":\n"
     ]
    },
    {
     "name": "stderr",
     "output_type": "stream",
     "text": [
      "100%|████████████████████████████████████████████████████████████████████████████████████| 2/2 [00:00<00:00,  1.38it/s]\n"
     ]
    },
    {
     "name": "stdout",
     "output_type": "stream",
     "text": [
      "Downloading results for query \"PUBYEAR  = 1993 TITLE-ABS-KEY ( \"coral reef*\" OR \"coral*\" AND \"disease*\" OR \"coral mining\" OR \"oil mining\" OR \"gas mining\" OR \"crown of thorn\" OR \"COT\" OR \"achantaster plancii\" OR \"mariculture*\" OR \"volcano eruption*\" OR \"ballast water\")\":\n"
     ]
    },
    {
     "name": "stderr",
     "output_type": "stream",
     "text": [
      "100%|████████████████████████████████████████████████████████████████████████████████████| 2/2 [00:00<00:00,  1.97it/s]\n"
     ]
    },
    {
     "name": "stdout",
     "output_type": "stream",
     "text": [
      "Downloading results for query \"PUBYEAR  = 1994 TITLE-ABS-KEY ( \"coral reef*\" OR \"coral*\")\":\n"
     ]
    },
    {
     "name": "stderr",
     "output_type": "stream",
     "text": [
      "100%|██████████████████████████████████████████████████████████████████████████████████| 29/29 [00:21<00:00,  1.31it/s]\n"
     ]
    },
    {
     "name": "stdout",
     "output_type": "stream",
     "text": [
      "Downloading results for query \"PUBYEAR  = 1994 TITLE-ABS-KEY ( \"coral reef*\" OR \"coral*\" AND \"bombing\" OR \"cyanide\" OR \"destructive fishing\" OR \"hookah compressor\" OR \"anchor*\" OR \"purse seine\" OR \"trawl*\" OR \"overfishing\" OR \"illegal fishing\" OR \"bycatch\" OR \"by-catch\" OR \"muroami\")\":\n"
     ]
    },
    {
     "name": "stderr",
     "output_type": "stream",
     "text": [
      "100%|████████████████████████████████████████████████████████████████████████████████████████████| 1/1 [00:00<?, ?it/s]\n"
     ]
    },
    {
     "name": "stdout",
     "output_type": "stream",
     "text": [
      "Downloading results for query \"PUBYEAR  = 1994 TITLE-ABS-KEY ( \"coral reef*\" OR \"coral*\"  AND \"sand mining\" OR \"deforestation\" OR \"abrasion\" OR \"sedimentation\" OR \"aquaculture pond\" OR \"mineral mining\" OR \"sewage discharge\" OR \"erosion\" OR \"plastic\" OR \"habitat los*\" OR \"pesticide\" OR \"fertilizer\" OR \"eutrophication\" OR \"coastal development\" OR \"reclamation\" OR \"runoff\" OR \"run-off\")\":\n"
     ]
    },
    {
     "name": "stderr",
     "output_type": "stream",
     "text": [
      "100%|████████████████████████████████████████████████████████████████████████████████████| 4/4 [00:02<00:00,  1.45it/s]\n"
     ]
    },
    {
     "name": "stdout",
     "output_type": "stream",
     "text": [
      "Downloading results for query \"PUBYEAR  = 1994 TITLE-ABS-KEY ( \"coral reef*\" OR \"coral*\" AND \"climate change\" OR \"bleach*\", OR \"storm*\" OR \"increasing sea surface temperature*\" OR \"increasing SST\" OR \"extreme weather\" OR \"global warming\" OR \"heatwave*\" OR \"heat wave*\")\":\n"
     ]
    },
    {
     "name": "stderr",
     "output_type": "stream",
     "text": [
      "100%|████████████████████████████████████████████████████████████████████████████████████| 2/2 [00:00<00:00,  1.42it/s]\n"
     ]
    },
    {
     "name": "stdout",
     "output_type": "stream",
     "text": [
      "Downloading results for query \"PUBYEAR  = 1994 TITLE-ABS-KEY ( \"coral reef*\" OR \"coral*\" AND \"disease*\" OR \"coral mining\" OR \"oil mining\" OR \"gas mining\" OR \"crown of thorn\" OR \"COT\" OR \"achantaster plancii\" OR \"mariculture*\" OR \"volcano eruption*\" OR \"ballast water\")\":\n"
     ]
    },
    {
     "name": "stderr",
     "output_type": "stream",
     "text": [
      "100%|████████████████████████████████████████████████████████████████████████████████████| 2/2 [00:00<00:00,  1.88it/s]\n"
     ]
    },
    {
     "name": "stdout",
     "output_type": "stream",
     "text": [
      "Downloading results for query \"PUBYEAR  = 1995 TITLE-ABS-KEY ( \"coral reef*\" OR \"coral*\")\":\n"
     ]
    },
    {
     "name": "stderr",
     "output_type": "stream",
     "text": [
      "100%|██████████████████████████████████████████████████████████████████████████████████| 29/29 [00:21<00:00,  1.32it/s]\n"
     ]
    },
    {
     "name": "stdout",
     "output_type": "stream",
     "text": [
      "Downloading results for query \"PUBYEAR  = 1995 TITLE-ABS-KEY ( \"coral reef*\" OR \"coral*\" AND \"bombing\" OR \"cyanide\" OR \"destructive fishing\" OR \"hookah compressor\" OR \"anchor*\" OR \"purse seine\" OR \"trawl*\" OR \"overfishing\" OR \"illegal fishing\" OR \"bycatch\" OR \"by-catch\" OR \"muroami\")\":\n"
     ]
    },
    {
     "name": "stderr",
     "output_type": "stream",
     "text": [
      "100%|████████████████████████████████████████████████████████████████████████████████████████████| 1/1 [00:00<?, ?it/s]\n"
     ]
    },
    {
     "name": "stdout",
     "output_type": "stream",
     "text": [
      "Downloading results for query \"PUBYEAR  = 1995 TITLE-ABS-KEY ( \"coral reef*\" OR \"coral*\"  AND \"sand mining\" OR \"deforestation\" OR \"abrasion\" OR \"sedimentation\" OR \"aquaculture pond\" OR \"mineral mining\" OR \"sewage discharge\" OR \"erosion\" OR \"plastic\" OR \"habitat los*\" OR \"pesticide\" OR \"fertilizer\" OR \"eutrophication\" OR \"coastal development\" OR \"reclamation\" OR \"runoff\" OR \"run-off\")\":\n"
     ]
    },
    {
     "name": "stderr",
     "output_type": "stream",
     "text": [
      "100%|████████████████████████████████████████████████████████████████████████████████████| 3/3 [00:01<00:00,  1.40it/s]\n"
     ]
    },
    {
     "name": "stdout",
     "output_type": "stream",
     "text": [
      "Downloading results for query \"PUBYEAR  = 1995 TITLE-ABS-KEY ( \"coral reef*\" OR \"coral*\" AND \"climate change\" OR \"bleach*\", OR \"storm*\" OR \"increasing sea surface temperature*\" OR \"increasing SST\" OR \"extreme weather\" OR \"global warming\" OR \"heatwave*\" OR \"heat wave*\")\":\n"
     ]
    },
    {
     "name": "stderr",
     "output_type": "stream",
     "text": [
      "100%|████████████████████████████████████████████████████████████████████████████████████| 2/2 [00:00<00:00,  1.61it/s]\n"
     ]
    },
    {
     "name": "stdout",
     "output_type": "stream",
     "text": [
      "Downloading results for query \"PUBYEAR  = 1995 TITLE-ABS-KEY ( \"coral reef*\" OR \"coral*\" AND \"disease*\" OR \"coral mining\" OR \"oil mining\" OR \"gas mining\" OR \"crown of thorn\" OR \"COT\" OR \"achantaster plancii\" OR \"mariculture*\" OR \"volcano eruption*\" OR \"ballast water\")\":\n"
     ]
    },
    {
     "name": "stderr",
     "output_type": "stream",
     "text": [
      "100%|████████████████████████████████████████████████████████████████████████████████████| 2/2 [00:00<00:00,  1.58it/s]\n"
     ]
    },
    {
     "name": "stdout",
     "output_type": "stream",
     "text": [
      "Downloading results for query \"PUBYEAR  = 1996 TITLE-ABS-KEY ( \"coral reef*\" OR \"coral*\")\":\n"
     ]
    },
    {
     "name": "stderr",
     "output_type": "stream",
     "text": [
      "100%|██████████████████████████████████████████████████████████████████████████████████| 33/33 [00:25<00:00,  1.24it/s]\n"
     ]
    },
    {
     "name": "stdout",
     "output_type": "stream",
     "text": [
      "Downloading results for query \"PUBYEAR  = 1996 TITLE-ABS-KEY ( \"coral reef*\" OR \"coral*\" AND \"bombing\" OR \"cyanide\" OR \"destructive fishing\" OR \"hookah compressor\" OR \"anchor*\" OR \"purse seine\" OR \"trawl*\" OR \"overfishing\" OR \"illegal fishing\" OR \"bycatch\" OR \"by-catch\" OR \"muroami\")\":\n"
     ]
    },
    {
     "name": "stderr",
     "output_type": "stream",
     "text": [
      "100%|████████████████████████████████████████████████████████████████████████████████████████████| 1/1 [00:00<?, ?it/s]\n"
     ]
    },
    {
     "name": "stdout",
     "output_type": "stream",
     "text": [
      "Downloading results for query \"PUBYEAR  = 1996 TITLE-ABS-KEY ( \"coral reef*\" OR \"coral*\"  AND \"sand mining\" OR \"deforestation\" OR \"abrasion\" OR \"sedimentation\" OR \"aquaculture pond\" OR \"mineral mining\" OR \"sewage discharge\" OR \"erosion\" OR \"plastic\" OR \"habitat los*\" OR \"pesticide\" OR \"fertilizer\" OR \"eutrophication\" OR \"coastal development\" OR \"reclamation\" OR \"runoff\" OR \"run-off\")\":\n"
     ]
    },
    {
     "name": "stderr",
     "output_type": "stream",
     "text": [
      "100%|████████████████████████████████████████████████████████████████████████████████████| 3/3 [00:01<00:00,  1.21it/s]\n"
     ]
    },
    {
     "name": "stdout",
     "output_type": "stream",
     "text": [
      "Downloading results for query \"PUBYEAR  = 1996 TITLE-ABS-KEY ( \"coral reef*\" OR \"coral*\" AND \"climate change\" OR \"bleach*\", OR \"storm*\" OR \"increasing sea surface temperature*\" OR \"increasing SST\" OR \"extreme weather\" OR \"global warming\" OR \"heatwave*\" OR \"heat wave*\")\":\n"
     ]
    },
    {
     "name": "stderr",
     "output_type": "stream",
     "text": [
      "100%|████████████████████████████████████████████████████████████████████████████████████| 2/2 [00:00<00:00,  1.48it/s]\n"
     ]
    },
    {
     "name": "stdout",
     "output_type": "stream",
     "text": [
      "Downloading results for query \"PUBYEAR  = 1996 TITLE-ABS-KEY ( \"coral reef*\" OR \"coral*\" AND \"disease*\" OR \"coral mining\" OR \"oil mining\" OR \"gas mining\" OR \"crown of thorn\" OR \"COT\" OR \"achantaster plancii\" OR \"mariculture*\" OR \"volcano eruption*\" OR \"ballast water\")\":\n"
     ]
    },
    {
     "name": "stderr",
     "output_type": "stream",
     "text": [
      "100%|████████████████████████████████████████████████████████████████████████████████████| 2/2 [00:00<00:00,  1.76it/s]\n"
     ]
    },
    {
     "name": "stdout",
     "output_type": "stream",
     "text": [
      "Downloading results for query \"PUBYEAR  = 1997 TITLE-ABS-KEY ( \"coral reef*\" OR \"coral*\")\":\n"
     ]
    },
    {
     "name": "stderr",
     "output_type": "stream",
     "text": [
      "100%|██████████████████████████████████████████████████████████████████████████████████| 35/35 [00:25<00:00,  1.33it/s]\n"
     ]
    },
    {
     "name": "stdout",
     "output_type": "stream",
     "text": [
      "Downloading results for query \"PUBYEAR  = 1997 TITLE-ABS-KEY ( \"coral reef*\" OR \"coral*\" AND \"bombing\" OR \"cyanide\" OR \"destructive fishing\" OR \"hookah compressor\" OR \"anchor*\" OR \"purse seine\" OR \"trawl*\" OR \"overfishing\" OR \"illegal fishing\" OR \"bycatch\" OR \"by-catch\" OR \"muroami\")\":\n"
     ]
    },
    {
     "name": "stderr",
     "output_type": "stream",
     "text": [
      "100%|████████████████████████████████████████████████████████████████████████████████████████████| 1/1 [00:00<?, ?it/s]\n"
     ]
    },
    {
     "name": "stdout",
     "output_type": "stream",
     "text": [
      "Downloading results for query \"PUBYEAR  = 1997 TITLE-ABS-KEY ( \"coral reef*\" OR \"coral*\"  AND \"sand mining\" OR \"deforestation\" OR \"abrasion\" OR \"sedimentation\" OR \"aquaculture pond\" OR \"mineral mining\" OR \"sewage discharge\" OR \"erosion\" OR \"plastic\" OR \"habitat los*\" OR \"pesticide\" OR \"fertilizer\" OR \"eutrophication\" OR \"coastal development\" OR \"reclamation\" OR \"runoff\" OR \"run-off\")\":\n"
     ]
    },
    {
     "name": "stderr",
     "output_type": "stream",
     "text": [
      "100%|████████████████████████████████████████████████████████████████████████████████████| 3/3 [00:01<00:00,  1.24it/s]\n"
     ]
    },
    {
     "name": "stdout",
     "output_type": "stream",
     "text": [
      "Downloading results for query \"PUBYEAR  = 1997 TITLE-ABS-KEY ( \"coral reef*\" OR \"coral*\" AND \"climate change\" OR \"bleach*\", OR \"storm*\" OR \"increasing sea surface temperature*\" OR \"increasing SST\" OR \"extreme weather\" OR \"global warming\" OR \"heatwave*\" OR \"heat wave*\")\":\n"
     ]
    },
    {
     "name": "stderr",
     "output_type": "stream",
     "text": [
      "100%|████████████████████████████████████████████████████████████████████████████████████| 2/2 [00:00<00:00,  1.42it/s]\n"
     ]
    },
    {
     "name": "stdout",
     "output_type": "stream",
     "text": [
      "Downloading results for query \"PUBYEAR  = 1997 TITLE-ABS-KEY ( \"coral reef*\" OR \"coral*\" AND \"disease*\" OR \"coral mining\" OR \"oil mining\" OR \"gas mining\" OR \"crown of thorn\" OR \"COT\" OR \"achantaster plancii\" OR \"mariculture*\" OR \"volcano eruption*\" OR \"ballast water\")\":\n"
     ]
    },
    {
     "name": "stderr",
     "output_type": "stream",
     "text": [
      "100%|████████████████████████████████████████████████████████████████████████████████████| 2/2 [00:00<00:00,  1.59it/s]\n"
     ]
    },
    {
     "name": "stdout",
     "output_type": "stream",
     "text": [
      "Downloading results for query \"PUBYEAR  = 1998 TITLE-ABS-KEY ( \"coral reef*\" OR \"coral*\")\":\n"
     ]
    },
    {
     "name": "stderr",
     "output_type": "stream",
     "text": [
      "100%|██████████████████████████████████████████████████████████████████████████████████| 35/35 [00:26<00:00,  1.27it/s]\n"
     ]
    },
    {
     "name": "stdout",
     "output_type": "stream",
     "text": [
      "Downloading results for query \"PUBYEAR  = 1998 TITLE-ABS-KEY ( \"coral reef*\" OR \"coral*\" AND \"bombing\" OR \"cyanide\" OR \"destructive fishing\" OR \"hookah compressor\" OR \"anchor*\" OR \"purse seine\" OR \"trawl*\" OR \"overfishing\" OR \"illegal fishing\" OR \"bycatch\" OR \"by-catch\" OR \"muroami\")\":\n"
     ]
    },
    {
     "name": "stderr",
     "output_type": "stream",
     "text": [
      "100%|████████████████████████████████████████████████████████████████████████████████████████████| 1/1 [00:00<?, ?it/s]\n"
     ]
    },
    {
     "name": "stdout",
     "output_type": "stream",
     "text": [
      "Downloading results for query \"PUBYEAR  = 1998 TITLE-ABS-KEY ( \"coral reef*\" OR \"coral*\"  AND \"sand mining\" OR \"deforestation\" OR \"abrasion\" OR \"sedimentation\" OR \"aquaculture pond\" OR \"mineral mining\" OR \"sewage discharge\" OR \"erosion\" OR \"plastic\" OR \"habitat los*\" OR \"pesticide\" OR \"fertilizer\" OR \"eutrophication\" OR \"coastal development\" OR \"reclamation\" OR \"runoff\" OR \"run-off\")\":\n"
     ]
    },
    {
     "name": "stderr",
     "output_type": "stream",
     "text": [
      "100%|████████████████████████████████████████████████████████████████████████████████████| 4/4 [00:02<00:00,  1.26it/s]\n"
     ]
    },
    {
     "name": "stdout",
     "output_type": "stream",
     "text": [
      "Downloading results for query \"PUBYEAR  = 1998 TITLE-ABS-KEY ( \"coral reef*\" OR \"coral*\" AND \"climate change\" OR \"bleach*\", OR \"storm*\" OR \"increasing sea surface temperature*\" OR \"increasing SST\" OR \"extreme weather\" OR \"global warming\" OR \"heatwave*\" OR \"heat wave*\")\":\n"
     ]
    },
    {
     "name": "stderr",
     "output_type": "stream",
     "text": [
      "100%|████████████████████████████████████████████████████████████████████████████████████| 3/3 [00:01<00:00,  1.60it/s]\n"
     ]
    },
    {
     "name": "stdout",
     "output_type": "stream",
     "text": [
      "Downloading results for query \"PUBYEAR  = 1998 TITLE-ABS-KEY ( \"coral reef*\" OR \"coral*\" AND \"disease*\" OR \"coral mining\" OR \"oil mining\" OR \"gas mining\" OR \"crown of thorn\" OR \"COT\" OR \"achantaster plancii\" OR \"mariculture*\" OR \"volcano eruption*\" OR \"ballast water\")\":\n"
     ]
    },
    {
     "name": "stderr",
     "output_type": "stream",
     "text": [
      "100%|████████████████████████████████████████████████████████████████████████████████████| 2/2 [00:00<00:00,  1.61it/s]\n"
     ]
    },
    {
     "name": "stdout",
     "output_type": "stream",
     "text": [
      "Downloading results for query \"PUBYEAR  = 1999 TITLE-ABS-KEY ( \"coral reef*\" OR \"coral*\")\":\n"
     ]
    },
    {
     "name": "stderr",
     "output_type": "stream",
     "text": [
      "100%|██████████████████████████████████████████████████████████████████████████████████| 39/39 [00:30<00:00,  1.25it/s]\n"
     ]
    },
    {
     "name": "stdout",
     "output_type": "stream",
     "text": [
      "Downloading results for query \"PUBYEAR  = 1999 TITLE-ABS-KEY ( \"coral reef*\" OR \"coral*\" AND \"bombing\" OR \"cyanide\" OR \"destructive fishing\" OR \"hookah compressor\" OR \"anchor*\" OR \"purse seine\" OR \"trawl*\" OR \"overfishing\" OR \"illegal fishing\" OR \"bycatch\" OR \"by-catch\" OR \"muroami\")\":\n"
     ]
    },
    {
     "name": "stderr",
     "output_type": "stream",
     "text": [
      "100%|████████████████████████████████████████████████████████████████████████████████████████████| 1/1 [00:00<?, ?it/s]\n"
     ]
    },
    {
     "name": "stdout",
     "output_type": "stream",
     "text": [
      "Downloading results for query \"PUBYEAR  = 1999 TITLE-ABS-KEY ( \"coral reef*\" OR \"coral*\"  AND \"sand mining\" OR \"deforestation\" OR \"abrasion\" OR \"sedimentation\" OR \"aquaculture pond\" OR \"mineral mining\" OR \"sewage discharge\" OR \"erosion\" OR \"plastic\" OR \"habitat los*\" OR \"pesticide\" OR \"fertilizer\" OR \"eutrophication\" OR \"coastal development\" OR \"reclamation\" OR \"runoff\" OR \"run-off\")\":\n"
     ]
    },
    {
     "name": "stderr",
     "output_type": "stream",
     "text": [
      "100%|████████████████████████████████████████████████████████████████████████████████████| 4/4 [00:02<00:00,  1.17it/s]\n"
     ]
    },
    {
     "name": "stdout",
     "output_type": "stream",
     "text": [
      "Downloading results for query \"PUBYEAR  = 1999 TITLE-ABS-KEY ( \"coral reef*\" OR \"coral*\" AND \"climate change\" OR \"bleach*\", OR \"storm*\" OR \"increasing sea surface temperature*\" OR \"increasing SST\" OR \"extreme weather\" OR \"global warming\" OR \"heatwave*\" OR \"heat wave*\")\":\n"
     ]
    },
    {
     "name": "stderr",
     "output_type": "stream",
     "text": [
      "100%|████████████████████████████████████████████████████████████████████████████████████| 4/4 [00:02<00:00,  1.21it/s]\n"
     ]
    },
    {
     "name": "stdout",
     "output_type": "stream",
     "text": [
      "Downloading results for query \"PUBYEAR  = 1999 TITLE-ABS-KEY ( \"coral reef*\" OR \"coral*\" AND \"disease*\" OR \"coral mining\" OR \"oil mining\" OR \"gas mining\" OR \"crown of thorn\" OR \"COT\" OR \"achantaster plancii\" OR \"mariculture*\" OR \"volcano eruption*\" OR \"ballast water\")\":\n"
     ]
    },
    {
     "name": "stderr",
     "output_type": "stream",
     "text": [
      "100%|████████████████████████████████████████████████████████████████████████████████████| 2/2 [00:00<00:00,  1.63it/s]\n"
     ]
    },
    {
     "name": "stdout",
     "output_type": "stream",
     "text": [
      "Downloading results for query \"PUBYEAR  = 2000 TITLE-ABS-KEY ( \"coral reef*\" OR \"coral*\")\":\n"
     ]
    },
    {
     "name": "stderr",
     "output_type": "stream",
     "text": [
      "100%|██████████████████████████████████████████████████████████████████████████████████| 43/43 [00:34<00:00,  1.23it/s]\n"
     ]
    },
    {
     "name": "stdout",
     "output_type": "stream",
     "text": [
      "Downloading results for query \"PUBYEAR  = 2000 TITLE-ABS-KEY ( \"coral reef*\" OR \"coral*\" AND \"bombing\" OR \"cyanide\" OR \"destructive fishing\" OR \"hookah compressor\" OR \"anchor*\" OR \"purse seine\" OR \"trawl*\" OR \"overfishing\" OR \"illegal fishing\" OR \"bycatch\" OR \"by-catch\" OR \"muroami\")\":\n"
     ]
    },
    {
     "name": "stderr",
     "output_type": "stream",
     "text": [
      "100%|████████████████████████████████████████████████████████████████████████████████████| 2/2 [00:00<00:00,  1.54it/s]\n"
     ]
    },
    {
     "name": "stdout",
     "output_type": "stream",
     "text": [
      "Downloading results for query \"PUBYEAR  = 2000 TITLE-ABS-KEY ( \"coral reef*\" OR \"coral*\"  AND \"sand mining\" OR \"deforestation\" OR \"abrasion\" OR \"sedimentation\" OR \"aquaculture pond\" OR \"mineral mining\" OR \"sewage discharge\" OR \"erosion\" OR \"plastic\" OR \"habitat los*\" OR \"pesticide\" OR \"fertilizer\" OR \"eutrophication\" OR \"coastal development\" OR \"reclamation\" OR \"runoff\" OR \"run-off\")\":\n"
     ]
    },
    {
     "name": "stderr",
     "output_type": "stream",
     "text": [
      "100%|████████████████████████████████████████████████████████████████████████████████████| 5/5 [00:03<00:00,  1.30it/s]\n"
     ]
    },
    {
     "name": "stdout",
     "output_type": "stream",
     "text": [
      "Downloading results for query \"PUBYEAR  = 2000 TITLE-ABS-KEY ( \"coral reef*\" OR \"coral*\" AND \"climate change\" OR \"bleach*\", OR \"storm*\" OR \"increasing sea surface temperature*\" OR \"increasing SST\" OR \"extreme weather\" OR \"global warming\" OR \"heatwave*\" OR \"heat wave*\")\":\n"
     ]
    },
    {
     "name": "stderr",
     "output_type": "stream",
     "text": [
      "100%|████████████████████████████████████████████████████████████████████████████████████| 5/5 [00:02<00:00,  1.35it/s]\n"
     ]
    },
    {
     "name": "stdout",
     "output_type": "stream",
     "text": [
      "Downloading results for query \"PUBYEAR  = 2000 TITLE-ABS-KEY ( \"coral reef*\" OR \"coral*\" AND \"disease*\" OR \"coral mining\" OR \"oil mining\" OR \"gas mining\" OR \"crown of thorn\" OR \"COT\" OR \"achantaster plancii\" OR \"mariculture*\" OR \"volcano eruption*\" OR \"ballast water\")\":\n"
     ]
    },
    {
     "name": "stderr",
     "output_type": "stream",
     "text": [
      "100%|████████████████████████████████████████████████████████████████████████████████████| 3/3 [00:01<00:00,  1.48it/s]\n"
     ]
    },
    {
     "name": "stdout",
     "output_type": "stream",
     "text": [
      "Downloading results for query \"PUBYEAR  = 2001 TITLE-ABS-KEY ( \"coral reef*\" OR \"coral*\")\":\n"
     ]
    },
    {
     "name": "stderr",
     "output_type": "stream",
     "text": [
      "100%|██████████████████████████████████████████████████████████████████████████████████| 44/44 [00:35<00:00,  1.23it/s]\n"
     ]
    },
    {
     "name": "stdout",
     "output_type": "stream",
     "text": [
      "Downloading results for query \"PUBYEAR  = 2001 TITLE-ABS-KEY ( \"coral reef*\" OR \"coral*\" AND \"bombing\" OR \"cyanide\" OR \"destructive fishing\" OR \"hookah compressor\" OR \"anchor*\" OR \"purse seine\" OR \"trawl*\" OR \"overfishing\" OR \"illegal fishing\" OR \"bycatch\" OR \"by-catch\" OR \"muroami\")\":\n"
     ]
    },
    {
     "name": "stderr",
     "output_type": "stream",
     "text": [
      "100%|████████████████████████████████████████████████████████████████████████████████████| 2/2 [00:00<00:00,  1.55it/s]\n"
     ]
    },
    {
     "name": "stdout",
     "output_type": "stream",
     "text": [
      "Downloading results for query \"PUBYEAR  = 2001 TITLE-ABS-KEY ( \"coral reef*\" OR \"coral*\"  AND \"sand mining\" OR \"deforestation\" OR \"abrasion\" OR \"sedimentation\" OR \"aquaculture pond\" OR \"mineral mining\" OR \"sewage discharge\" OR \"erosion\" OR \"plastic\" OR \"habitat los*\" OR \"pesticide\" OR \"fertilizer\" OR \"eutrophication\" OR \"coastal development\" OR \"reclamation\" OR \"runoff\" OR \"run-off\")\":\n"
     ]
    },
    {
     "name": "stderr",
     "output_type": "stream",
     "text": [
      "100%|████████████████████████████████████████████████████████████████████████████████████| 5/5 [00:02<00:00,  1.47it/s]\n"
     ]
    },
    {
     "name": "stdout",
     "output_type": "stream",
     "text": [
      "Downloading results for query \"PUBYEAR  = 2001 TITLE-ABS-KEY ( \"coral reef*\" OR \"coral*\" AND \"climate change\" OR \"bleach*\", OR \"storm*\" OR \"increasing sea surface temperature*\" OR \"increasing SST\" OR \"extreme weather\" OR \"global warming\" OR \"heatwave*\" OR \"heat wave*\")\":\n"
     ]
    },
    {
     "name": "stderr",
     "output_type": "stream",
     "text": [
      "100%|████████████████████████████████████████████████████████████████████████████████████| 5/5 [00:03<00:00,  1.26it/s]\n"
     ]
    },
    {
     "name": "stdout",
     "output_type": "stream",
     "text": [
      "Downloading results for query \"PUBYEAR  = 2001 TITLE-ABS-KEY ( \"coral reef*\" OR \"coral*\" AND \"disease*\" OR \"coral mining\" OR \"oil mining\" OR \"gas mining\" OR \"crown of thorn\" OR \"COT\" OR \"achantaster plancii\" OR \"mariculture*\" OR \"volcano eruption*\" OR \"ballast water\")\":\n"
     ]
    },
    {
     "name": "stderr",
     "output_type": "stream",
     "text": [
      "100%|████████████████████████████████████████████████████████████████████████████████████| 3/3 [00:01<00:00,  1.49it/s]\n"
     ]
    },
    {
     "name": "stdout",
     "output_type": "stream",
     "text": [
      "Downloading results for query \"PUBYEAR  = 2002 TITLE-ABS-KEY ( \"coral reef*\" OR \"coral*\")\":\n"
     ]
    },
    {
     "name": "stderr",
     "output_type": "stream",
     "text": [
      "100%|██████████████████████████████████████████████████████████████████████████████████| 45/45 [00:35<00:00,  1.24it/s]\n"
     ]
    },
    {
     "name": "stdout",
     "output_type": "stream",
     "text": [
      "Downloading results for query \"PUBYEAR  = 2002 TITLE-ABS-KEY ( \"coral reef*\" OR \"coral*\" AND \"bombing\" OR \"cyanide\" OR \"destructive fishing\" OR \"hookah compressor\" OR \"anchor*\" OR \"purse seine\" OR \"trawl*\" OR \"overfishing\" OR \"illegal fishing\" OR \"bycatch\" OR \"by-catch\" OR \"muroami\")\":\n"
     ]
    },
    {
     "name": "stderr",
     "output_type": "stream",
     "text": [
      "100%|████████████████████████████████████████████████████████████████████████████████████| 2/2 [00:00<00:00,  1.42it/s]\n"
     ]
    },
    {
     "name": "stdout",
     "output_type": "stream",
     "text": [
      "Downloading results for query \"PUBYEAR  = 2002 TITLE-ABS-KEY ( \"coral reef*\" OR \"coral*\"  AND \"sand mining\" OR \"deforestation\" OR \"abrasion\" OR \"sedimentation\" OR \"aquaculture pond\" OR \"mineral mining\" OR \"sewage discharge\" OR \"erosion\" OR \"plastic\" OR \"habitat los*\" OR \"pesticide\" OR \"fertilizer\" OR \"eutrophication\" OR \"coastal development\" OR \"reclamation\" OR \"runoff\" OR \"run-off\")\":\n"
     ]
    },
    {
     "name": "stderr",
     "output_type": "stream",
     "text": [
      "100%|████████████████████████████████████████████████████████████████████████████████████| 5/5 [00:03<00:00,  1.15it/s]\n"
     ]
    },
    {
     "name": "stdout",
     "output_type": "stream",
     "text": [
      "Downloading results for query \"PUBYEAR  = 2002 TITLE-ABS-KEY ( \"coral reef*\" OR \"coral*\" AND \"climate change\" OR \"bleach*\", OR \"storm*\" OR \"increasing sea surface temperature*\" OR \"increasing SST\" OR \"extreme weather\" OR \"global warming\" OR \"heatwave*\" OR \"heat wave*\")\":\n"
     ]
    },
    {
     "name": "stderr",
     "output_type": "stream",
     "text": [
      "100%|████████████████████████████████████████████████████████████████████████████████████| 5/5 [00:02<00:00,  1.34it/s]\n"
     ]
    },
    {
     "name": "stdout",
     "output_type": "stream",
     "text": [
      "Downloading results for query \"PUBYEAR  = 2002 TITLE-ABS-KEY ( \"coral reef*\" OR \"coral*\" AND \"disease*\" OR \"coral mining\" OR \"oil mining\" OR \"gas mining\" OR \"crown of thorn\" OR \"COT\" OR \"achantaster plancii\" OR \"mariculture*\" OR \"volcano eruption*\" OR \"ballast water\")\":\n"
     ]
    },
    {
     "name": "stderr",
     "output_type": "stream",
     "text": [
      "100%|████████████████████████████████████████████████████████████████████████████████████| 3/3 [00:01<00:00,  1.56it/s]\n"
     ]
    },
    {
     "name": "stdout",
     "output_type": "stream",
     "text": [
      "Downloading results for query \"PUBYEAR  = 2003 TITLE-ABS-KEY ( \"coral reef*\" OR \"coral*\")\":\n"
     ]
    },
    {
     "name": "stderr",
     "output_type": "stream",
     "text": [
      "100%|██████████████████████████████████████████████████████████████████████████████████| 50/50 [00:38<00:00,  1.28it/s]\n"
     ]
    },
    {
     "name": "stdout",
     "output_type": "stream",
     "text": [
      "Downloading results for query \"PUBYEAR  = 2003 TITLE-ABS-KEY ( \"coral reef*\" OR \"coral*\" AND \"bombing\" OR \"cyanide\" OR \"destructive fishing\" OR \"hookah compressor\" OR \"anchor*\" OR \"purse seine\" OR \"trawl*\" OR \"overfishing\" OR \"illegal fishing\" OR \"bycatch\" OR \"by-catch\" OR \"muroami\")\":\n"
     ]
    },
    {
     "name": "stderr",
     "output_type": "stream",
     "text": [
      "100%|████████████████████████████████████████████████████████████████████████████████████| 2/2 [00:00<00:00,  1.21it/s]\n"
     ]
    },
    {
     "name": "stdout",
     "output_type": "stream",
     "text": [
      "Downloading results for query \"PUBYEAR  = 2003 TITLE-ABS-KEY ( \"coral reef*\" OR \"coral*\"  AND \"sand mining\" OR \"deforestation\" OR \"abrasion\" OR \"sedimentation\" OR \"aquaculture pond\" OR \"mineral mining\" OR \"sewage discharge\" OR \"erosion\" OR \"plastic\" OR \"habitat los*\" OR \"pesticide\" OR \"fertilizer\" OR \"eutrophication\" OR \"coastal development\" OR \"reclamation\" OR \"runoff\" OR \"run-off\")\":\n"
     ]
    },
    {
     "name": "stderr",
     "output_type": "stream",
     "text": [
      "100%|████████████████████████████████████████████████████████████████████████████████████| 5/5 [00:02<00:00,  1.33it/s]\n"
     ]
    },
    {
     "name": "stdout",
     "output_type": "stream",
     "text": [
      "Downloading results for query \"PUBYEAR  = 2003 TITLE-ABS-KEY ( \"coral reef*\" OR \"coral*\" AND \"climate change\" OR \"bleach*\", OR \"storm*\" OR \"increasing sea surface temperature*\" OR \"increasing SST\" OR \"extreme weather\" OR \"global warming\" OR \"heatwave*\" OR \"heat wave*\")\":\n"
     ]
    },
    {
     "name": "stderr",
     "output_type": "stream",
     "text": [
      "100%|████████████████████████████████████████████████████████████████████████████████████| 6/6 [00:03<00:00,  1.29it/s]\n"
     ]
    },
    {
     "name": "stdout",
     "output_type": "stream",
     "text": [
      "Downloading results for query \"PUBYEAR  = 2003 TITLE-ABS-KEY ( \"coral reef*\" OR \"coral*\" AND \"disease*\" OR \"coral mining\" OR \"oil mining\" OR \"gas mining\" OR \"crown of thorn\" OR \"COT\" OR \"achantaster plancii\" OR \"mariculture*\" OR \"volcano eruption*\" OR \"ballast water\")\":\n"
     ]
    },
    {
     "name": "stderr",
     "output_type": "stream",
     "text": [
      "100%|████████████████████████████████████████████████████████████████████████████████████| 3/3 [00:01<00:00,  1.36it/s]\n"
     ]
    },
    {
     "name": "stdout",
     "output_type": "stream",
     "text": [
      "Downloading results for query \"PUBYEAR  = 2004 TITLE-ABS-KEY ( \"coral reef*\" OR \"coral*\")\":\n"
     ]
    },
    {
     "name": "stderr",
     "output_type": "stream",
     "text": [
      "100%|██████████████████████████████████████████████████████████████████████████████████| 55/55 [00:43<00:00,  1.24it/s]\n"
     ]
    },
    {
     "name": "stdout",
     "output_type": "stream",
     "text": [
      "Downloading results for query \"PUBYEAR  = 2004 TITLE-ABS-KEY ( \"coral reef*\" OR \"coral*\" AND \"bombing\" OR \"cyanide\" OR \"destructive fishing\" OR \"hookah compressor\" OR \"anchor*\" OR \"purse seine\" OR \"trawl*\" OR \"overfishing\" OR \"illegal fishing\" OR \"bycatch\" OR \"by-catch\" OR \"muroami\")\":\n"
     ]
    },
    {
     "name": "stderr",
     "output_type": "stream",
     "text": [
      "100%|████████████████████████████████████████████████████████████████████████████████████| 2/2 [00:00<00:00,  1.48it/s]\n"
     ]
    },
    {
     "name": "stdout",
     "output_type": "stream",
     "text": [
      "Downloading results for query \"PUBYEAR  = 2004 TITLE-ABS-KEY ( \"coral reef*\" OR \"coral*\"  AND \"sand mining\" OR \"deforestation\" OR \"abrasion\" OR \"sedimentation\" OR \"aquaculture pond\" OR \"mineral mining\" OR \"sewage discharge\" OR \"erosion\" OR \"plastic\" OR \"habitat los*\" OR \"pesticide\" OR \"fertilizer\" OR \"eutrophication\" OR \"coastal development\" OR \"reclamation\" OR \"runoff\" OR \"run-off\")\":\n"
     ]
    },
    {
     "name": "stderr",
     "output_type": "stream",
     "text": [
      "100%|████████████████████████████████████████████████████████████████████████████████████| 5/5 [00:02<00:00,  1.37it/s]\n"
     ]
    },
    {
     "name": "stdout",
     "output_type": "stream",
     "text": [
      "Downloading results for query \"PUBYEAR  = 2004 TITLE-ABS-KEY ( \"coral reef*\" OR \"coral*\" AND \"climate change\" OR \"bleach*\", OR \"storm*\" OR \"increasing sea surface temperature*\" OR \"increasing SST\" OR \"extreme weather\" OR \"global warming\" OR \"heatwave*\" OR \"heat wave*\")\":\n"
     ]
    },
    {
     "name": "stderr",
     "output_type": "stream",
     "text": [
      "100%|████████████████████████████████████████████████████████████████████████████████████| 6/6 [00:03<00:00,  1.30it/s]\n"
     ]
    },
    {
     "name": "stdout",
     "output_type": "stream",
     "text": [
      "Downloading results for query \"PUBYEAR  = 2004 TITLE-ABS-KEY ( \"coral reef*\" OR \"coral*\" AND \"disease*\" OR \"coral mining\" OR \"oil mining\" OR \"gas mining\" OR \"crown of thorn\" OR \"COT\" OR \"achantaster plancii\" OR \"mariculture*\" OR \"volcano eruption*\" OR \"ballast water\")\":\n"
     ]
    },
    {
     "name": "stderr",
     "output_type": "stream",
     "text": [
      "100%|████████████████████████████████████████████████████████████████████████████████████| 3/3 [00:01<00:00,  1.25it/s]\n"
     ]
    },
    {
     "name": "stdout",
     "output_type": "stream",
     "text": [
      "Downloading results for query \"PUBYEAR  = 2005 TITLE-ABS-KEY ( \"coral reef*\" OR \"coral*\")\":\n"
     ]
    },
    {
     "name": "stderr",
     "output_type": "stream",
     "text": [
      "100%|██████████████████████████████████████████████████████████████████████████████████| 61/61 [00:48<00:00,  1.23it/s]\n"
     ]
    },
    {
     "name": "stdout",
     "output_type": "stream",
     "text": [
      "Downloading results for query \"PUBYEAR  = 2005 TITLE-ABS-KEY ( \"coral reef*\" OR \"coral*\" AND \"bombing\" OR \"cyanide\" OR \"destructive fishing\" OR \"hookah compressor\" OR \"anchor*\" OR \"purse seine\" OR \"trawl*\" OR \"overfishing\" OR \"illegal fishing\" OR \"bycatch\" OR \"by-catch\" OR \"muroami\")\":\n"
     ]
    },
    {
     "name": "stderr",
     "output_type": "stream",
     "text": [
      "100%|████████████████████████████████████████████████████████████████████████████████████████████| 1/1 [00:00<?, ?it/s]\n"
     ]
    },
    {
     "name": "stdout",
     "output_type": "stream",
     "text": [
      "Downloading results for query \"PUBYEAR  = 2005 TITLE-ABS-KEY ( \"coral reef*\" OR \"coral*\"  AND \"sand mining\" OR \"deforestation\" OR \"abrasion\" OR \"sedimentation\" OR \"aquaculture pond\" OR \"mineral mining\" OR \"sewage discharge\" OR \"erosion\" OR \"plastic\" OR \"habitat los*\" OR \"pesticide\" OR \"fertilizer\" OR \"eutrophication\" OR \"coastal development\" OR \"reclamation\" OR \"runoff\" OR \"run-off\")\":\n"
     ]
    },
    {
     "name": "stderr",
     "output_type": "stream",
     "text": [
      "100%|████████████████████████████████████████████████████████████████████████████████████| 6/6 [00:04<00:00,  1.23it/s]\n"
     ]
    },
    {
     "name": "stdout",
     "output_type": "stream",
     "text": [
      "Downloading results for query \"PUBYEAR  = 2005 TITLE-ABS-KEY ( \"coral reef*\" OR \"coral*\" AND \"climate change\" OR \"bleach*\", OR \"storm*\" OR \"increasing sea surface temperature*\" OR \"increasing SST\" OR \"extreme weather\" OR \"global warming\" OR \"heatwave*\" OR \"heat wave*\")\":\n"
     ]
    },
    {
     "name": "stderr",
     "output_type": "stream",
     "text": [
      "100%|████████████████████████████████████████████████████████████████████████████████████| 7/7 [00:04<00:00,  1.28it/s]\n"
     ]
    },
    {
     "name": "stdout",
     "output_type": "stream",
     "text": [
      "Downloading results for query \"PUBYEAR  = 2005 TITLE-ABS-KEY ( \"coral reef*\" OR \"coral*\" AND \"disease*\" OR \"coral mining\" OR \"oil mining\" OR \"gas mining\" OR \"crown of thorn\" OR \"COT\" OR \"achantaster plancii\" OR \"mariculture*\" OR \"volcano eruption*\" OR \"ballast water\")\":\n"
     ]
    },
    {
     "name": "stderr",
     "output_type": "stream",
     "text": [
      "100%|████████████████████████████████████████████████████████████████████████████████████| 4/4 [00:02<00:00,  1.44it/s]\n"
     ]
    },
    {
     "name": "stdout",
     "output_type": "stream",
     "text": [
      "Downloading results for query \"PUBYEAR  = 2006 TITLE-ABS-KEY ( \"coral reef*\" OR \"coral*\")\":\n"
     ]
    },
    {
     "name": "stderr",
     "output_type": "stream",
     "text": [
      "100%|██████████████████████████████████████████████████████████████████████████████████| 64/64 [00:50<00:00,  1.25it/s]\n"
     ]
    },
    {
     "name": "stdout",
     "output_type": "stream",
     "text": [
      "Downloading results for query \"PUBYEAR  = 2006 TITLE-ABS-KEY ( \"coral reef*\" OR \"coral*\" AND \"bombing\" OR \"cyanide\" OR \"destructive fishing\" OR \"hookah compressor\" OR \"anchor*\" OR \"purse seine\" OR \"trawl*\" OR \"overfishing\" OR \"illegal fishing\" OR \"bycatch\" OR \"by-catch\" OR \"muroami\")\":\n"
     ]
    },
    {
     "name": "stderr",
     "output_type": "stream",
     "text": [
      "100%|████████████████████████████████████████████████████████████████████████████████████| 2/2 [00:00<00:00,  1.28it/s]\n"
     ]
    },
    {
     "name": "stdout",
     "output_type": "stream",
     "text": [
      "Downloading results for query \"PUBYEAR  = 2006 TITLE-ABS-KEY ( \"coral reef*\" OR \"coral*\"  AND \"sand mining\" OR \"deforestation\" OR \"abrasion\" OR \"sedimentation\" OR \"aquaculture pond\" OR \"mineral mining\" OR \"sewage discharge\" OR \"erosion\" OR \"plastic\" OR \"habitat los*\" OR \"pesticide\" OR \"fertilizer\" OR \"eutrophication\" OR \"coastal development\" OR \"reclamation\" OR \"runoff\" OR \"run-off\")\":\n"
     ]
    },
    {
     "name": "stderr",
     "output_type": "stream",
     "text": [
      "100%|████████████████████████████████████████████████████████████████████████████████████| 5/5 [00:03<00:00,  1.33it/s]\n"
     ]
    },
    {
     "name": "stdout",
     "output_type": "stream",
     "text": [
      "Downloading results for query \"PUBYEAR  = 2006 TITLE-ABS-KEY ( \"coral reef*\" OR \"coral*\" AND \"climate change\" OR \"bleach*\", OR \"storm*\" OR \"increasing sea surface temperature*\" OR \"increasing SST\" OR \"extreme weather\" OR \"global warming\" OR \"heatwave*\" OR \"heat wave*\")\":\n"
     ]
    },
    {
     "name": "stderr",
     "output_type": "stream",
     "text": [
      "100%|████████████████████████████████████████████████████████████████████████████████████| 7/7 [00:04<00:00,  1.22it/s]\n"
     ]
    },
    {
     "name": "stdout",
     "output_type": "stream",
     "text": [
      "Downloading results for query \"PUBYEAR  = 2006 TITLE-ABS-KEY ( \"coral reef*\" OR \"coral*\" AND \"disease*\" OR \"coral mining\" OR \"oil mining\" OR \"gas mining\" OR \"crown of thorn\" OR \"COT\" OR \"achantaster plancii\" OR \"mariculture*\" OR \"volcano eruption*\" OR \"ballast water\")\":\n"
     ]
    },
    {
     "name": "stderr",
     "output_type": "stream",
     "text": [
      "100%|████████████████████████████████████████████████████████████████████████████████████| 5/5 [00:03<00:00,  1.27it/s]\n"
     ]
    },
    {
     "name": "stdout",
     "output_type": "stream",
     "text": [
      "Downloading results for query \"PUBYEAR  = 2007 TITLE-ABS-KEY ( \"coral reef*\" OR \"coral*\")\":\n"
     ]
    },
    {
     "name": "stderr",
     "output_type": "stream",
     "text": [
      "100%|██████████████████████████████████████████████████████████████████████████████████| 69/69 [00:54<00:00,  1.25it/s]\n"
     ]
    },
    {
     "name": "stdout",
     "output_type": "stream",
     "text": [
      "Downloading results for query \"PUBYEAR  = 2007 TITLE-ABS-KEY ( \"coral reef*\" OR \"coral*\" AND \"bombing\" OR \"cyanide\" OR \"destructive fishing\" OR \"hookah compressor\" OR \"anchor*\" OR \"purse seine\" OR \"trawl*\" OR \"overfishing\" OR \"illegal fishing\" OR \"bycatch\" OR \"by-catch\" OR \"muroami\")\":\n"
     ]
    },
    {
     "name": "stderr",
     "output_type": "stream",
     "text": [
      "100%|████████████████████████████████████████████████████████████████████████████████████| 3/3 [00:01<00:00,  1.37it/s]\n"
     ]
    },
    {
     "name": "stdout",
     "output_type": "stream",
     "text": [
      "Downloading results for query \"PUBYEAR  = 2007 TITLE-ABS-KEY ( \"coral reef*\" OR \"coral*\"  AND \"sand mining\" OR \"deforestation\" OR \"abrasion\" OR \"sedimentation\" OR \"aquaculture pond\" OR \"mineral mining\" OR \"sewage discharge\" OR \"erosion\" OR \"plastic\" OR \"habitat los*\" OR \"pesticide\" OR \"fertilizer\" OR \"eutrophication\" OR \"coastal development\" OR \"reclamation\" OR \"runoff\" OR \"run-off\")\":\n"
     ]
    },
    {
     "name": "stderr",
     "output_type": "stream",
     "text": [
      "100%|████████████████████████████████████████████████████████████████████████████████████| 7/7 [00:04<00:00,  1.34it/s]\n"
     ]
    },
    {
     "name": "stdout",
     "output_type": "stream",
     "text": [
      "Downloading results for query \"PUBYEAR  = 2007 TITLE-ABS-KEY ( \"coral reef*\" OR \"coral*\" AND \"climate change\" OR \"bleach*\", OR \"storm*\" OR \"increasing sea surface temperature*\" OR \"increasing SST\" OR \"extreme weather\" OR \"global warming\" OR \"heatwave*\" OR \"heat wave*\")\":\n"
     ]
    },
    {
     "name": "stderr",
     "output_type": "stream",
     "text": [
      "100%|████████████████████████████████████████████████████████████████████████████████████| 9/9 [00:06<00:00,  1.27it/s]\n"
     ]
    },
    {
     "name": "stdout",
     "output_type": "stream",
     "text": [
      "Downloading results for query \"PUBYEAR  = 2007 TITLE-ABS-KEY ( \"coral reef*\" OR \"coral*\" AND \"disease*\" OR \"coral mining\" OR \"oil mining\" OR \"gas mining\" OR \"crown of thorn\" OR \"COT\" OR \"achantaster plancii\" OR \"mariculture*\" OR \"volcano eruption*\" OR \"ballast water\")\":\n"
     ]
    },
    {
     "name": "stderr",
     "output_type": "stream",
     "text": [
      "100%|████████████████████████████████████████████████████████████████████████████████████| 4/4 [00:02<00:00,  1.38it/s]\n"
     ]
    },
    {
     "name": "stdout",
     "output_type": "stream",
     "text": [
      "Downloading results for query \"PUBYEAR  = 2008 TITLE-ABS-KEY ( \"coral reef*\" OR \"coral*\")\":\n"
     ]
    },
    {
     "name": "stderr",
     "output_type": "stream",
     "text": [
      "100%|██████████████████████████████████████████████████████████████████████████████████| 81/81 [01:06<00:00,  1.21it/s]\n"
     ]
    },
    {
     "name": "stdout",
     "output_type": "stream",
     "text": [
      "Downloading results for query \"PUBYEAR  = 2008 TITLE-ABS-KEY ( \"coral reef*\" OR \"coral*\" AND \"bombing\" OR \"cyanide\" OR \"destructive fishing\" OR \"hookah compressor\" OR \"anchor*\" OR \"purse seine\" OR \"trawl*\" OR \"overfishing\" OR \"illegal fishing\" OR \"bycatch\" OR \"by-catch\" OR \"muroami\")\":\n"
     ]
    },
    {
     "name": "stderr",
     "output_type": "stream",
     "text": [
      "100%|████████████████████████████████████████████████████████████████████████████████████| 3/3 [00:01<00:00,  1.49it/s]\n"
     ]
    },
    {
     "name": "stdout",
     "output_type": "stream",
     "text": [
      "Downloading results for query \"PUBYEAR  = 2008 TITLE-ABS-KEY ( \"coral reef*\" OR \"coral*\"  AND \"sand mining\" OR \"deforestation\" OR \"abrasion\" OR \"sedimentation\" OR \"aquaculture pond\" OR \"mineral mining\" OR \"sewage discharge\" OR \"erosion\" OR \"plastic\" OR \"habitat los*\" OR \"pesticide\" OR \"fertilizer\" OR \"eutrophication\" OR \"coastal development\" OR \"reclamation\" OR \"runoff\" OR \"run-off\")\":\n"
     ]
    },
    {
     "name": "stderr",
     "output_type": "stream",
     "text": [
      "100%|████████████████████████████████████████████████████████████████████████████████████| 8/8 [00:05<00:00,  1.26it/s]\n"
     ]
    },
    {
     "name": "stdout",
     "output_type": "stream",
     "text": [
      "Downloading results for query \"PUBYEAR  = 2008 TITLE-ABS-KEY ( \"coral reef*\" OR \"coral*\" AND \"climate change\" OR \"bleach*\", OR \"storm*\" OR \"increasing sea surface temperature*\" OR \"increasing SST\" OR \"extreme weather\" OR \"global warming\" OR \"heatwave*\" OR \"heat wave*\")\":\n"
     ]
    },
    {
     "name": "stderr",
     "output_type": "stream",
     "text": [
      "100%|██████████████████████████████████████████████████████████████████████████████████| 11/11 [00:08<00:00,  1.19it/s]\n"
     ]
    },
    {
     "name": "stdout",
     "output_type": "stream",
     "text": [
      "Downloading results for query \"PUBYEAR  = 2008 TITLE-ABS-KEY ( \"coral reef*\" OR \"coral*\" AND \"disease*\" OR \"coral mining\" OR \"oil mining\" OR \"gas mining\" OR \"crown of thorn\" OR \"COT\" OR \"achantaster plancii\" OR \"mariculture*\" OR \"volcano eruption*\" OR \"ballast water\")\":\n"
     ]
    },
    {
     "name": "stderr",
     "output_type": "stream",
     "text": [
      "100%|████████████████████████████████████████████████████████████████████████████████████| 6/6 [00:03<00:00,  1.36it/s]\n"
     ]
    },
    {
     "name": "stdout",
     "output_type": "stream",
     "text": [
      "Downloading results for query \"PUBYEAR  = 2009 TITLE-ABS-KEY ( \"coral reef*\" OR \"coral*\")\":\n"
     ]
    },
    {
     "name": "stderr",
     "output_type": "stream",
     "text": [
      "100%|██████████████████████████████████████████████████████████████████████████████████| 79/79 [01:07<00:00,  1.16it/s]\n"
     ]
    },
    {
     "name": "stdout",
     "output_type": "stream",
     "text": [
      "Downloading results for query \"PUBYEAR  = 2009 TITLE-ABS-KEY ( \"coral reef*\" OR \"coral*\" AND \"bombing\" OR \"cyanide\" OR \"destructive fishing\" OR \"hookah compressor\" OR \"anchor*\" OR \"purse seine\" OR \"trawl*\" OR \"overfishing\" OR \"illegal fishing\" OR \"bycatch\" OR \"by-catch\" OR \"muroami\")\":\n"
     ]
    },
    {
     "name": "stderr",
     "output_type": "stream",
     "text": [
      "100%|████████████████████████████████████████████████████████████████████████████████████| 3/3 [00:01<00:00,  1.44it/s]\n"
     ]
    },
    {
     "name": "stdout",
     "output_type": "stream",
     "text": [
      "Downloading results for query \"PUBYEAR  = 2009 TITLE-ABS-KEY ( \"coral reef*\" OR \"coral*\"  AND \"sand mining\" OR \"deforestation\" OR \"abrasion\" OR \"sedimentation\" OR \"aquaculture pond\" OR \"mineral mining\" OR \"sewage discharge\" OR \"erosion\" OR \"plastic\" OR \"habitat los*\" OR \"pesticide\" OR \"fertilizer\" OR \"eutrophication\" OR \"coastal development\" OR \"reclamation\" OR \"runoff\" OR \"run-off\")\":\n"
     ]
    },
    {
     "name": "stderr",
     "output_type": "stream",
     "text": [
      "100%|████████████████████████████████████████████████████████████████████████████████████| 8/8 [00:05<00:00,  1.20it/s]\n"
     ]
    },
    {
     "name": "stdout",
     "output_type": "stream",
     "text": [
      "Downloading results for query \"PUBYEAR  = 2009 TITLE-ABS-KEY ( \"coral reef*\" OR \"coral*\" AND \"climate change\" OR \"bleach*\", OR \"storm*\" OR \"increasing sea surface temperature*\" OR \"increasing SST\" OR \"extreme weather\" OR \"global warming\" OR \"heatwave*\" OR \"heat wave*\")\":\n"
     ]
    },
    {
     "name": "stderr",
     "output_type": "stream",
     "text": [
      "100%|██████████████████████████████████████████████████████████████████████████████████| 12/12 [00:08<00:00,  1.24it/s]\n"
     ]
    },
    {
     "name": "stdout",
     "output_type": "stream",
     "text": [
      "Downloading results for query \"PUBYEAR  = 2009 TITLE-ABS-KEY ( \"coral reef*\" OR \"coral*\" AND \"disease*\" OR \"coral mining\" OR \"oil mining\" OR \"gas mining\" OR \"crown of thorn\" OR \"COT\" OR \"achantaster plancii\" OR \"mariculture*\" OR \"volcano eruption*\" OR \"ballast water\")\":\n"
     ]
    },
    {
     "name": "stderr",
     "output_type": "stream",
     "text": [
      "100%|████████████████████████████████████████████████████████████████████████████████████| 6/6 [00:03<00:00,  1.31it/s]\n"
     ]
    },
    {
     "name": "stdout",
     "output_type": "stream",
     "text": [
      "Downloading results for query \"PUBYEAR  = 2010 TITLE-ABS-KEY ( \"coral reef*\" OR \"coral*\")\":\n"
     ]
    },
    {
     "name": "stderr",
     "output_type": "stream",
     "text": [
      "100%|██████████████████████████████████████████████████████████████████████████████████| 80/80 [01:05<00:00,  1.20it/s]\n"
     ]
    },
    {
     "name": "stdout",
     "output_type": "stream",
     "text": [
      "Downloading results for query \"PUBYEAR  = 2010 TITLE-ABS-KEY ( \"coral reef*\" OR \"coral*\" AND \"bombing\" OR \"cyanide\" OR \"destructive fishing\" OR \"hookah compressor\" OR \"anchor*\" OR \"purse seine\" OR \"trawl*\" OR \"overfishing\" OR \"illegal fishing\" OR \"bycatch\" OR \"by-catch\" OR \"muroami\")\":\n"
     ]
    },
    {
     "name": "stderr",
     "output_type": "stream",
     "text": [
      "100%|████████████████████████████████████████████████████████████████████████████████████| 3/3 [00:01<00:00,  1.19it/s]\n"
     ]
    },
    {
     "name": "stdout",
     "output_type": "stream",
     "text": [
      "Downloading results for query \"PUBYEAR  = 2010 TITLE-ABS-KEY ( \"coral reef*\" OR \"coral*\"  AND \"sand mining\" OR \"deforestation\" OR \"abrasion\" OR \"sedimentation\" OR \"aquaculture pond\" OR \"mineral mining\" OR \"sewage discharge\" OR \"erosion\" OR \"plastic\" OR \"habitat los*\" OR \"pesticide\" OR \"fertilizer\" OR \"eutrophication\" OR \"coastal development\" OR \"reclamation\" OR \"runoff\" OR \"run-off\")\":\n"
     ]
    },
    {
     "name": "stderr",
     "output_type": "stream",
     "text": [
      "100%|████████████████████████████████████████████████████████████████████████████████████| 7/7 [00:05<00:00,  1.19it/s]\n"
     ]
    },
    {
     "name": "stdout",
     "output_type": "stream",
     "text": [
      "Downloading results for query \"PUBYEAR  = 2010 TITLE-ABS-KEY ( \"coral reef*\" OR \"coral*\" AND \"climate change\" OR \"bleach*\", OR \"storm*\" OR \"increasing sea surface temperature*\" OR \"increasing SST\" OR \"extreme weather\" OR \"global warming\" OR \"heatwave*\" OR \"heat wave*\")\":\n"
     ]
    },
    {
     "name": "stderr",
     "output_type": "stream",
     "text": [
      "100%|██████████████████████████████████████████████████████████████████████████████████| 12/12 [00:09<00:00,  1.16it/s]\n"
     ]
    },
    {
     "name": "stdout",
     "output_type": "stream",
     "text": [
      "Downloading results for query \"PUBYEAR  = 2010 TITLE-ABS-KEY ( \"coral reef*\" OR \"coral*\" AND \"disease*\" OR \"coral mining\" OR \"oil mining\" OR \"gas mining\" OR \"crown of thorn\" OR \"COT\" OR \"achantaster plancii\" OR \"mariculture*\" OR \"volcano eruption*\" OR \"ballast water\")\":\n"
     ]
    },
    {
     "name": "stderr",
     "output_type": "stream",
     "text": [
      "100%|████████████████████████████████████████████████████████████████████████████████████| 5/5 [00:03<00:00,  1.19it/s]\n"
     ]
    },
    {
     "name": "stdout",
     "output_type": "stream",
     "text": [
      "Downloading results for query \"PUBYEAR  = 2011 TITLE-ABS-KEY ( \"coral reef*\" OR \"coral*\")\":\n"
     ]
    },
    {
     "name": "stderr",
     "output_type": "stream",
     "text": [
      "100%|██████████████████████████████████████████████████████████████████████████████████| 99/99 [01:22<00:00,  1.19it/s]\n"
     ]
    },
    {
     "name": "stdout",
     "output_type": "stream",
     "text": [
      "Downloading results for query \"PUBYEAR  = 2011 TITLE-ABS-KEY ( \"coral reef*\" OR \"coral*\" AND \"bombing\" OR \"cyanide\" OR \"destructive fishing\" OR \"hookah compressor\" OR \"anchor*\" OR \"purse seine\" OR \"trawl*\" OR \"overfishing\" OR \"illegal fishing\" OR \"bycatch\" OR \"by-catch\" OR \"muroami\")\":\n"
     ]
    },
    {
     "name": "stderr",
     "output_type": "stream",
     "text": [
      "100%|████████████████████████████████████████████████████████████████████████████████████| 3/3 [00:01<00:00,  1.32it/s]\n"
     ]
    },
    {
     "name": "stdout",
     "output_type": "stream",
     "text": [
      "Downloading results for query \"PUBYEAR  = 2011 TITLE-ABS-KEY ( \"coral reef*\" OR \"coral*\"  AND \"sand mining\" OR \"deforestation\" OR \"abrasion\" OR \"sedimentation\" OR \"aquaculture pond\" OR \"mineral mining\" OR \"sewage discharge\" OR \"erosion\" OR \"plastic\" OR \"habitat los*\" OR \"pesticide\" OR \"fertilizer\" OR \"eutrophication\" OR \"coastal development\" OR \"reclamation\" OR \"runoff\" OR \"run-off\")\":\n"
     ]
    },
    {
     "name": "stderr",
     "output_type": "stream",
     "text": [
      "100%|██████████████████████████████████████████████████████████████████████████████████| 10/10 [00:07<00:00,  1.27it/s]\n"
     ]
    },
    {
     "name": "stdout",
     "output_type": "stream",
     "text": [
      "Downloading results for query \"PUBYEAR  = 2011 TITLE-ABS-KEY ( \"coral reef*\" OR \"coral*\" AND \"climate change\" OR \"bleach*\", OR \"storm*\" OR \"increasing sea surface temperature*\" OR \"increasing SST\" OR \"extreme weather\" OR \"global warming\" OR \"heatwave*\" OR \"heat wave*\")\":\n"
     ]
    },
    {
     "name": "stderr",
     "output_type": "stream",
     "text": [
      "100%|██████████████████████████████████████████████████████████████████████████████████| 15/15 [00:11<00:00,  1.21it/s]\n"
     ]
    },
    {
     "name": "stdout",
     "output_type": "stream",
     "text": [
      "Downloading results for query \"PUBYEAR  = 2011 TITLE-ABS-KEY ( \"coral reef*\" OR \"coral*\" AND \"disease*\" OR \"coral mining\" OR \"oil mining\" OR \"gas mining\" OR \"crown of thorn\" OR \"COT\" OR \"achantaster plancii\" OR \"mariculture*\" OR \"volcano eruption*\" OR \"ballast water\")\":\n"
     ]
    },
    {
     "name": "stderr",
     "output_type": "stream",
     "text": [
      "100%|████████████████████████████████████████████████████████████████████████████████████| 7/7 [00:04<00:00,  1.21it/s]\n"
     ]
    },
    {
     "name": "stdout",
     "output_type": "stream",
     "text": [
      "Downloading results for query \"PUBYEAR  = 2012 TITLE-ABS-KEY ( \"coral reef*\" OR \"coral*\")\":\n"
     ]
    },
    {
     "name": "stderr",
     "output_type": "stream",
     "text": [
      "100%|████████████████████████████████████████████████████████████████████████████████| 106/106 [01:30<00:00,  1.16it/s]\n"
     ]
    },
    {
     "name": "stdout",
     "output_type": "stream",
     "text": [
      "Downloading results for query \"PUBYEAR  = 2012 TITLE-ABS-KEY ( \"coral reef*\" OR \"coral*\" AND \"bombing\" OR \"cyanide\" OR \"destructive fishing\" OR \"hookah compressor\" OR \"anchor*\" OR \"purse seine\" OR \"trawl*\" OR \"overfishing\" OR \"illegal fishing\" OR \"bycatch\" OR \"by-catch\" OR \"muroami\")\":\n"
     ]
    },
    {
     "name": "stderr",
     "output_type": "stream",
     "text": [
      "100%|████████████████████████████████████████████████████████████████████████████████████| 3/3 [00:02<00:00,  1.13s/it]\n"
     ]
    },
    {
     "name": "stdout",
     "output_type": "stream",
     "text": [
      "Downloading results for query \"PUBYEAR  = 2012 TITLE-ABS-KEY ( \"coral reef*\" OR \"coral*\"  AND \"sand mining\" OR \"deforestation\" OR \"abrasion\" OR \"sedimentation\" OR \"aquaculture pond\" OR \"mineral mining\" OR \"sewage discharge\" OR \"erosion\" OR \"plastic\" OR \"habitat los*\" OR \"pesticide\" OR \"fertilizer\" OR \"eutrophication\" OR \"coastal development\" OR \"reclamation\" OR \"runoff\" OR \"run-off\")\":\n"
     ]
    },
    {
     "name": "stderr",
     "output_type": "stream",
     "text": [
      "100%|██████████████████████████████████████████████████████████████████████████████████| 10/10 [00:07<00:00,  1.18it/s]\n"
     ]
    },
    {
     "name": "stdout",
     "output_type": "stream",
     "text": [
      "Downloading results for query \"PUBYEAR  = 2012 TITLE-ABS-KEY ( \"coral reef*\" OR \"coral*\" AND \"climate change\" OR \"bleach*\", OR \"storm*\" OR \"increasing sea surface temperature*\" OR \"increasing SST\" OR \"extreme weather\" OR \"global warming\" OR \"heatwave*\" OR \"heat wave*\")\":\n"
     ]
    },
    {
     "name": "stderr",
     "output_type": "stream",
     "text": [
      "100%|██████████████████████████████████████████████████████████████████████████████████| 16/16 [00:12<00:00,  1.18it/s]\n"
     ]
    },
    {
     "name": "stdout",
     "output_type": "stream",
     "text": [
      "Downloading results for query \"PUBYEAR  = 2012 TITLE-ABS-KEY ( \"coral reef*\" OR \"coral*\" AND \"disease*\" OR \"coral mining\" OR \"oil mining\" OR \"gas mining\" OR \"crown of thorn\" OR \"COT\" OR \"achantaster plancii\" OR \"mariculture*\" OR \"volcano eruption*\" OR \"ballast water\")\":\n"
     ]
    },
    {
     "name": "stderr",
     "output_type": "stream",
     "text": [
      "100%|████████████████████████████████████████████████████████████████████████████████████| 7/7 [00:04<00:00,  1.23it/s]\n"
     ]
    },
    {
     "name": "stdout",
     "output_type": "stream",
     "text": [
      "Downloading results for query \"PUBYEAR  = 2013 TITLE-ABS-KEY ( \"coral reef*\" OR \"coral*\")\":\n"
     ]
    },
    {
     "name": "stderr",
     "output_type": "stream",
     "text": [
      "100%|████████████████████████████████████████████████████████████████████████████████| 111/111 [01:32<00:00,  1.19it/s]\n"
     ]
    },
    {
     "name": "stdout",
     "output_type": "stream",
     "text": [
      "Downloading results for query \"PUBYEAR  = 2013 TITLE-ABS-KEY ( \"coral reef*\" OR \"coral*\" AND \"bombing\" OR \"cyanide\" OR \"destructive fishing\" OR \"hookah compressor\" OR \"anchor*\" OR \"purse seine\" OR \"trawl*\" OR \"overfishing\" OR \"illegal fishing\" OR \"bycatch\" OR \"by-catch\" OR \"muroami\")\":\n"
     ]
    },
    {
     "name": "stderr",
     "output_type": "stream",
     "text": [
      "100%|████████████████████████████████████████████████████████████████████████████████████| 4/4 [00:02<00:00,  1.40it/s]\n"
     ]
    },
    {
     "name": "stdout",
     "output_type": "stream",
     "text": [
      "Downloading results for query \"PUBYEAR  = 2013 TITLE-ABS-KEY ( \"coral reef*\" OR \"coral*\"  AND \"sand mining\" OR \"deforestation\" OR \"abrasion\" OR \"sedimentation\" OR \"aquaculture pond\" OR \"mineral mining\" OR \"sewage discharge\" OR \"erosion\" OR \"plastic\" OR \"habitat los*\" OR \"pesticide\" OR \"fertilizer\" OR \"eutrophication\" OR \"coastal development\" OR \"reclamation\" OR \"runoff\" OR \"run-off\")\":\n"
     ]
    },
    {
     "name": "stderr",
     "output_type": "stream",
     "text": [
      "100%|██████████████████████████████████████████████████████████████████████████████████| 10/10 [00:07<00:00,  1.19it/s]\n"
     ]
    },
    {
     "name": "stdout",
     "output_type": "stream",
     "text": [
      "Downloading results for query \"PUBYEAR  = 2013 TITLE-ABS-KEY ( \"coral reef*\" OR \"coral*\" AND \"climate change\" OR \"bleach*\", OR \"storm*\" OR \"increasing sea surface temperature*\" OR \"increasing SST\" OR \"extreme weather\" OR \"global warming\" OR \"heatwave*\" OR \"heat wave*\")\":\n"
     ]
    },
    {
     "name": "stderr",
     "output_type": "stream",
     "text": [
      "100%|██████████████████████████████████████████████████████████████████████████████████| 16/16 [00:13<00:00,  1.13it/s]\n"
     ]
    },
    {
     "name": "stdout",
     "output_type": "stream",
     "text": [
      "Downloading results for query \"PUBYEAR  = 2013 TITLE-ABS-KEY ( \"coral reef*\" OR \"coral*\" AND \"disease*\" OR \"coral mining\" OR \"oil mining\" OR \"gas mining\" OR \"crown of thorn\" OR \"COT\" OR \"achantaster plancii\" OR \"mariculture*\" OR \"volcano eruption*\" OR \"ballast water\")\":\n"
     ]
    },
    {
     "name": "stderr",
     "output_type": "stream",
     "text": [
      "100%|████████████████████████████████████████████████████████████████████████████████████| 7/7 [00:04<00:00,  1.24it/s]\n"
     ]
    },
    {
     "name": "stdout",
     "output_type": "stream",
     "text": [
      "Downloading results for query \"PUBYEAR  = 2014 TITLE-ABS-KEY ( \"coral reef*\" OR \"coral*\")\":\n"
     ]
    },
    {
     "name": "stderr",
     "output_type": "stream",
     "text": [
      "100%|████████████████████████████████████████████████████████████████████████████████| 114/114 [01:36<00:00,  1.17it/s]\n"
     ]
    },
    {
     "name": "stdout",
     "output_type": "stream",
     "text": [
      "Downloading results for query \"PUBYEAR  = 2014 TITLE-ABS-KEY ( \"coral reef*\" OR \"coral*\" AND \"bombing\" OR \"cyanide\" OR \"destructive fishing\" OR \"hookah compressor\" OR \"anchor*\" OR \"purse seine\" OR \"trawl*\" OR \"overfishing\" OR \"illegal fishing\" OR \"bycatch\" OR \"by-catch\" OR \"muroami\")\":\n"
     ]
    },
    {
     "name": "stderr",
     "output_type": "stream",
     "text": [
      "100%|████████████████████████████████████████████████████████████████████████████████████| 4/4 [00:02<00:00,  1.22it/s]\n"
     ]
    },
    {
     "name": "stdout",
     "output_type": "stream",
     "text": [
      "Downloading results for query \"PUBYEAR  = 2014 TITLE-ABS-KEY ( \"coral reef*\" OR \"coral*\"  AND \"sand mining\" OR \"deforestation\" OR \"abrasion\" OR \"sedimentation\" OR \"aquaculture pond\" OR \"mineral mining\" OR \"sewage discharge\" OR \"erosion\" OR \"plastic\" OR \"habitat los*\" OR \"pesticide\" OR \"fertilizer\" OR \"eutrophication\" OR \"coastal development\" OR \"reclamation\" OR \"runoff\" OR \"run-off\")\":\n"
     ]
    },
    {
     "name": "stderr",
     "output_type": "stream",
     "text": [
      "100%|██████████████████████████████████████████████████████████████████████████████████| 10/10 [00:09<00:00,  1.07s/it]\n"
     ]
    },
    {
     "name": "stdout",
     "output_type": "stream",
     "text": [
      "Downloading results for query \"PUBYEAR  = 2014 TITLE-ABS-KEY ( \"coral reef*\" OR \"coral*\" AND \"climate change\" OR \"bleach*\", OR \"storm*\" OR \"increasing sea surface temperature*\" OR \"increasing SST\" OR \"extreme weather\" OR \"global warming\" OR \"heatwave*\" OR \"heat wave*\")\":\n"
     ]
    },
    {
     "name": "stderr",
     "output_type": "stream",
     "text": [
      "100%|██████████████████████████████████████████████████████████████████████████████████| 19/19 [00:15<00:00,  1.16it/s]\n"
     ]
    },
    {
     "name": "stdout",
     "output_type": "stream",
     "text": [
      "Downloading results for query \"PUBYEAR  = 2014 TITLE-ABS-KEY ( \"coral reef*\" OR \"coral*\" AND \"disease*\" OR \"coral mining\" OR \"oil mining\" OR \"gas mining\" OR \"crown of thorn\" OR \"COT\" OR \"achantaster plancii\" OR \"mariculture*\" OR \"volcano eruption*\" OR \"ballast water\")\":\n"
     ]
    },
    {
     "name": "stderr",
     "output_type": "stream",
     "text": [
      "100%|████████████████████████████████████████████████████████████████████████████████████| 9/9 [00:06<00:00,  1.18it/s]\n"
     ]
    },
    {
     "name": "stdout",
     "output_type": "stream",
     "text": [
      "Downloading results for query \"PUBYEAR  = 2015 TITLE-ABS-KEY ( \"coral reef*\" OR \"coral*\")\":\n"
     ]
    },
    {
     "name": "stderr",
     "output_type": "stream",
     "text": [
      "100%|████████████████████████████████████████████████████████████████████████████████| 117/117 [01:40<00:00,  1.15it/s]\n"
     ]
    },
    {
     "name": "stdout",
     "output_type": "stream",
     "text": [
      "Downloading results for query \"PUBYEAR  = 2015 TITLE-ABS-KEY ( \"coral reef*\" OR \"coral*\" AND \"bombing\" OR \"cyanide\" OR \"destructive fishing\" OR \"hookah compressor\" OR \"anchor*\" OR \"purse seine\" OR \"trawl*\" OR \"overfishing\" OR \"illegal fishing\" OR \"bycatch\" OR \"by-catch\" OR \"muroami\")\":\n"
     ]
    },
    {
     "name": "stderr",
     "output_type": "stream",
     "text": [
      "100%|████████████████████████████████████████████████████████████████████████████████████| 4/4 [00:02<00:00,  1.27it/s]\n"
     ]
    },
    {
     "name": "stdout",
     "output_type": "stream",
     "text": [
      "Downloading results for query \"PUBYEAR  = 2015 TITLE-ABS-KEY ( \"coral reef*\" OR \"coral*\"  AND \"sand mining\" OR \"deforestation\" OR \"abrasion\" OR \"sedimentation\" OR \"aquaculture pond\" OR \"mineral mining\" OR \"sewage discharge\" OR \"erosion\" OR \"plastic\" OR \"habitat los*\" OR \"pesticide\" OR \"fertilizer\" OR \"eutrophication\" OR \"coastal development\" OR \"reclamation\" OR \"runoff\" OR \"run-off\")\":\n"
     ]
    },
    {
     "name": "stderr",
     "output_type": "stream",
     "text": [
      "100%|██████████████████████████████████████████████████████████████████████████████████| 10/10 [00:08<00:00,  1.09it/s]\n"
     ]
    },
    {
     "name": "stdout",
     "output_type": "stream",
     "text": [
      "Downloading results for query \"PUBYEAR  = 2015 TITLE-ABS-KEY ( \"coral reef*\" OR \"coral*\" AND \"climate change\" OR \"bleach*\", OR \"storm*\" OR \"increasing sea surface temperature*\" OR \"increasing SST\" OR \"extreme weather\" OR \"global warming\" OR \"heatwave*\" OR \"heat wave*\")\":\n"
     ]
    },
    {
     "name": "stderr",
     "output_type": "stream",
     "text": [
      "100%|██████████████████████████████████████████████████████████████████████████████████| 19/19 [00:15<00:00,  1.15it/s]\n"
     ]
    },
    {
     "name": "stdout",
     "output_type": "stream",
     "text": [
      "Downloading results for query \"PUBYEAR  = 2015 TITLE-ABS-KEY ( \"coral reef*\" OR \"coral*\" AND \"disease*\" OR \"coral mining\" OR \"oil mining\" OR \"gas mining\" OR \"crown of thorn\" OR \"COT\" OR \"achantaster plancii\" OR \"mariculture*\" OR \"volcano eruption*\" OR \"ballast water\")\":\n"
     ]
    },
    {
     "name": "stderr",
     "output_type": "stream",
     "text": [
      "100%|██████████████████████████████████████████████████████████████████████████████████| 10/10 [00:07<00:00,  1.13it/s]\n"
     ]
    },
    {
     "name": "stdout",
     "output_type": "stream",
     "text": [
      "Downloading results for query \"PUBYEAR  = 2016 TITLE-ABS-KEY ( \"coral reef*\" OR \"coral*\")\":\n"
     ]
    },
    {
     "name": "stderr",
     "output_type": "stream",
     "text": [
      "100%|████████████████████████████████████████████████████████████████████████████████| 127/127 [01:50<00:00,  1.14it/s]\n"
     ]
    },
    {
     "name": "stdout",
     "output_type": "stream",
     "text": [
      "Downloading results for query \"PUBYEAR  = 2016 TITLE-ABS-KEY ( \"coral reef*\" OR \"coral*\" AND \"bombing\" OR \"cyanide\" OR \"destructive fishing\" OR \"hookah compressor\" OR \"anchor*\" OR \"purse seine\" OR \"trawl*\" OR \"overfishing\" OR \"illegal fishing\" OR \"bycatch\" OR \"by-catch\" OR \"muroami\")\":\n"
     ]
    },
    {
     "name": "stderr",
     "output_type": "stream",
     "text": [
      "100%|████████████████████████████████████████████████████████████████████████████████████| 4/4 [00:02<00:00,  1.19it/s]\n"
     ]
    },
    {
     "name": "stdout",
     "output_type": "stream",
     "text": [
      "Downloading results for query \"PUBYEAR  = 2016 TITLE-ABS-KEY ( \"coral reef*\" OR \"coral*\"  AND \"sand mining\" OR \"deforestation\" OR \"abrasion\" OR \"sedimentation\" OR \"aquaculture pond\" OR \"mineral mining\" OR \"sewage discharge\" OR \"erosion\" OR \"plastic\" OR \"habitat los*\" OR \"pesticide\" OR \"fertilizer\" OR \"eutrophication\" OR \"coastal development\" OR \"reclamation\" OR \"runoff\" OR \"run-off\")\":\n"
     ]
    },
    {
     "name": "stderr",
     "output_type": "stream",
     "text": [
      "100%|██████████████████████████████████████████████████████████████████████████████████| 12/12 [00:09<00:00,  1.17it/s]\n"
     ]
    },
    {
     "name": "stdout",
     "output_type": "stream",
     "text": [
      "Downloading results for query \"PUBYEAR  = 2016 TITLE-ABS-KEY ( \"coral reef*\" OR \"coral*\" AND \"climate change\" OR \"bleach*\", OR \"storm*\" OR \"increasing sea surface temperature*\" OR \"increasing SST\" OR \"extreme weather\" OR \"global warming\" OR \"heatwave*\" OR \"heat wave*\")\":\n"
     ]
    },
    {
     "name": "stderr",
     "output_type": "stream",
     "text": [
      "100%|██████████████████████████████████████████████████████████████████████████████████| 23/23 [00:20<00:00,  1.06it/s]\n"
     ]
    },
    {
     "name": "stdout",
     "output_type": "stream",
     "text": [
      "Downloading results for query \"PUBYEAR  = 2016 TITLE-ABS-KEY ( \"coral reef*\" OR \"coral*\" AND \"disease*\" OR \"coral mining\" OR \"oil mining\" OR \"gas mining\" OR \"crown of thorn\" OR \"COT\" OR \"achantaster plancii\" OR \"mariculture*\" OR \"volcano eruption*\" OR \"ballast water\")\":\n"
     ]
    },
    {
     "name": "stderr",
     "output_type": "stream",
     "text": [
      "100%|████████████████████████████████████████████████████████████████████████████████████| 9/9 [00:06<00:00,  1.17it/s]\n"
     ]
    },
    {
     "name": "stdout",
     "output_type": "stream",
     "text": [
      "Downloading results for query \"PUBYEAR  = 2017 TITLE-ABS-KEY ( \"coral reef*\" OR \"coral*\")\":\n"
     ]
    },
    {
     "name": "stderr",
     "output_type": "stream",
     "text": [
      "100%|████████████████████████████████████████████████████████████████████████████████| 128/128 [01:55<00:00,  1.10it/s]\n"
     ]
    },
    {
     "name": "stdout",
     "output_type": "stream",
     "text": [
      "Downloading results for query \"PUBYEAR  = 2017 TITLE-ABS-KEY ( \"coral reef*\" OR \"coral*\" AND \"bombing\" OR \"cyanide\" OR \"destructive fishing\" OR \"hookah compressor\" OR \"anchor*\" OR \"purse seine\" OR \"trawl*\" OR \"overfishing\" OR \"illegal fishing\" OR \"bycatch\" OR \"by-catch\" OR \"muroami\")\":\n"
     ]
    },
    {
     "name": "stderr",
     "output_type": "stream",
     "text": [
      "100%|████████████████████████████████████████████████████████████████████████████████████| 5/5 [00:03<00:00,  1.28it/s]\n"
     ]
    },
    {
     "name": "stdout",
     "output_type": "stream",
     "text": [
      "Downloading results for query \"PUBYEAR  = 2017 TITLE-ABS-KEY ( \"coral reef*\" OR \"coral*\"  AND \"sand mining\" OR \"deforestation\" OR \"abrasion\" OR \"sedimentation\" OR \"aquaculture pond\" OR \"mineral mining\" OR \"sewage discharge\" OR \"erosion\" OR \"plastic\" OR \"habitat los*\" OR \"pesticide\" OR \"fertilizer\" OR \"eutrophication\" OR \"coastal development\" OR \"reclamation\" OR \"runoff\" OR \"run-off\")\":\n"
     ]
    },
    {
     "name": "stderr",
     "output_type": "stream",
     "text": [
      "100%|██████████████████████████████████████████████████████████████████████████████████| 11/11 [00:08<00:00,  1.18it/s]\n"
     ]
    },
    {
     "name": "stdout",
     "output_type": "stream",
     "text": [
      "Downloading results for query \"PUBYEAR  = 2017 TITLE-ABS-KEY ( \"coral reef*\" OR \"coral*\" AND \"climate change\" OR \"bleach*\", OR \"storm*\" OR \"increasing sea surface temperature*\" OR \"increasing SST\" OR \"extreme weather\" OR \"global warming\" OR \"heatwave*\" OR \"heat wave*\")\":\n"
     ]
    },
    {
     "name": "stderr",
     "output_type": "stream",
     "text": [
      "100%|██████████████████████████████████████████████████████████████████████████████████| 23/23 [00:19<00:00,  1.14it/s]\n"
     ]
    },
    {
     "name": "stdout",
     "output_type": "stream",
     "text": [
      "Downloading results for query \"PUBYEAR  = 2017 TITLE-ABS-KEY ( \"coral reef*\" OR \"coral*\" AND \"disease*\" OR \"coral mining\" OR \"oil mining\" OR \"gas mining\" OR \"crown of thorn\" OR \"COT\" OR \"achantaster plancii\" OR \"mariculture*\" OR \"volcano eruption*\" OR \"ballast water\")\":\n"
     ]
    },
    {
     "name": "stderr",
     "output_type": "stream",
     "text": [
      "100%|████████████████████████████████████████████████████████████████████████████████████| 9/9 [00:07<00:00,  1.11it/s]\n"
     ]
    },
    {
     "name": "stdout",
     "output_type": "stream",
     "text": [
      "Downloading results for query \"PUBYEAR  = 2018 TITLE-ABS-KEY ( \"coral reef*\" OR \"coral*\")\":\n"
     ]
    },
    {
     "name": "stderr",
     "output_type": "stream",
     "text": [
      "100%|████████████████████████████████████████████████████████████████████████████████| 135/135 [02:03<00:00,  1.08it/s]\n"
     ]
    },
    {
     "name": "stdout",
     "output_type": "stream",
     "text": [
      "Downloading results for query \"PUBYEAR  = 2018 TITLE-ABS-KEY ( \"coral reef*\" OR \"coral*\" AND \"bombing\" OR \"cyanide\" OR \"destructive fishing\" OR \"hookah compressor\" OR \"anchor*\" OR \"purse seine\" OR \"trawl*\" OR \"overfishing\" OR \"illegal fishing\" OR \"bycatch\" OR \"by-catch\" OR \"muroami\")\":\n"
     ]
    },
    {
     "name": "stderr",
     "output_type": "stream",
     "text": [
      "100%|████████████████████████████████████████████████████████████████████████████████████| 5/5 [00:03<00:00,  1.19it/s]\n"
     ]
    },
    {
     "name": "stdout",
     "output_type": "stream",
     "text": [
      "Downloading results for query \"PUBYEAR  = 2018 TITLE-ABS-KEY ( \"coral reef*\" OR \"coral*\"  AND \"sand mining\" OR \"deforestation\" OR \"abrasion\" OR \"sedimentation\" OR \"aquaculture pond\" OR \"mineral mining\" OR \"sewage discharge\" OR \"erosion\" OR \"plastic\" OR \"habitat los*\" OR \"pesticide\" OR \"fertilizer\" OR \"eutrophication\" OR \"coastal development\" OR \"reclamation\" OR \"runoff\" OR \"run-off\")\":\n"
     ]
    },
    {
     "name": "stderr",
     "output_type": "stream",
     "text": [
      "100%|██████████████████████████████████████████████████████████████████████████████████| 14/14 [00:11<00:00,  1.09it/s]\n"
     ]
    },
    {
     "name": "stdout",
     "output_type": "stream",
     "text": [
      "Downloading results for query \"PUBYEAR  = 2018 TITLE-ABS-KEY ( \"coral reef*\" OR \"coral*\" AND \"climate change\" OR \"bleach*\", OR \"storm*\" OR \"increasing sea surface temperature*\" OR \"increasing SST\" OR \"extreme weather\" OR \"global warming\" OR \"heatwave*\" OR \"heat wave*\")\":\n"
     ]
    },
    {
     "name": "stderr",
     "output_type": "stream",
     "text": [
      "100%|██████████████████████████████████████████████████████████████████████████████████| 26/26 [00:22<00:00,  1.12it/s]\n"
     ]
    },
    {
     "name": "stdout",
     "output_type": "stream",
     "text": [
      "Downloading results for query \"PUBYEAR  = 2018 TITLE-ABS-KEY ( \"coral reef*\" OR \"coral*\" AND \"disease*\" OR \"coral mining\" OR \"oil mining\" OR \"gas mining\" OR \"crown of thorn\" OR \"COT\" OR \"achantaster plancii\" OR \"mariculture*\" OR \"volcano eruption*\" OR \"ballast water\")\":\n"
     ]
    },
    {
     "name": "stderr",
     "output_type": "stream",
     "text": [
      "100%|████████████████████████████████████████████████████████████████████████████████████| 9/9 [00:06<00:00,  1.18it/s]\n"
     ]
    },
    {
     "name": "stdout",
     "output_type": "stream",
     "text": [
      "Downloading results for query \"PUBYEAR  = 2019 TITLE-ABS-KEY ( \"coral reef*\" OR \"coral*\")\":\n"
     ]
    },
    {
     "name": "stderr",
     "output_type": "stream",
     "text": [
      "100%|████████████████████████████████████████████████████████████████████████████████| 151/151 [02:15<00:00,  1.11it/s]\n"
     ]
    },
    {
     "name": "stdout",
     "output_type": "stream",
     "text": [
      "Downloading results for query \"PUBYEAR  = 2019 TITLE-ABS-KEY ( \"coral reef*\" OR \"coral*\" AND \"bombing\" OR \"cyanide\" OR \"destructive fishing\" OR \"hookah compressor\" OR \"anchor*\" OR \"purse seine\" OR \"trawl*\" OR \"overfishing\" OR \"illegal fishing\" OR \"bycatch\" OR \"by-catch\" OR \"muroami\")\":\n"
     ]
    },
    {
     "name": "stderr",
     "output_type": "stream",
     "text": [
      "100%|████████████████████████████████████████████████████████████████████████████████████| 6/6 [00:04<00:00,  1.10it/s]\n"
     ]
    },
    {
     "name": "stdout",
     "output_type": "stream",
     "text": [
      "Downloading results for query \"PUBYEAR  = 2019 TITLE-ABS-KEY ( \"coral reef*\" OR \"coral*\"  AND \"sand mining\" OR \"deforestation\" OR \"abrasion\" OR \"sedimentation\" OR \"aquaculture pond\" OR \"mineral mining\" OR \"sewage discharge\" OR \"erosion\" OR \"plastic\" OR \"habitat los*\" OR \"pesticide\" OR \"fertilizer\" OR \"eutrophication\" OR \"coastal development\" OR \"reclamation\" OR \"runoff\" OR \"run-off\")\":\n"
     ]
    },
    {
     "name": "stderr",
     "output_type": "stream",
     "text": [
      "100%|██████████████████████████████████████████████████████████████████████████████████| 14/14 [00:11<00:00,  1.13it/s]\n"
     ]
    },
    {
     "name": "stdout",
     "output_type": "stream",
     "text": [
      "Downloading results for query \"PUBYEAR  = 2019 TITLE-ABS-KEY ( \"coral reef*\" OR \"coral*\" AND \"climate change\" OR \"bleach*\", OR \"storm*\" OR \"increasing sea surface temperature*\" OR \"increasing SST\" OR \"extreme weather\" OR \"global warming\" OR \"heatwave*\" OR \"heat wave*\")\":\n"
     ]
    },
    {
     "name": "stderr",
     "output_type": "stream",
     "text": [
      "100%|██████████████████████████████████████████████████████████████████████████████████| 29/29 [00:28<00:00,  1.02s/it]\n"
     ]
    },
    {
     "name": "stdout",
     "output_type": "stream",
     "text": [
      "Downloading results for query \"PUBYEAR  = 2019 TITLE-ABS-KEY ( \"coral reef*\" OR \"coral*\" AND \"disease*\" OR \"coral mining\" OR \"oil mining\" OR \"gas mining\" OR \"crown of thorn\" OR \"COT\" OR \"achantaster plancii\" OR \"mariculture*\" OR \"volcano eruption*\" OR \"ballast water\")\":\n"
     ]
    },
    {
     "name": "stderr",
     "output_type": "stream",
     "text": [
      "100%|████████████████████████████████████████████████████████████████████████████████████| 9/9 [00:11<00:00,  1.38s/it]\n"
     ]
    },
    {
     "name": "stdout",
     "output_type": "stream",
     "text": [
      "Downloading results for query \"PUBYEAR  = 2020 TITLE-ABS-KEY ( \"coral reef*\" OR \"coral*\")\":\n"
     ]
    },
    {
     "name": "stderr",
     "output_type": "stream",
     "text": [
      "100%|████████████████████████████████████████████████████████████████████████████████| 158/158 [02:43<00:00,  1.04s/it]\n"
     ]
    },
    {
     "name": "stdout",
     "output_type": "stream",
     "text": [
      "Downloading results for query \"PUBYEAR  = 2020 TITLE-ABS-KEY ( \"coral reef*\" OR \"coral*\" AND \"bombing\" OR \"cyanide\" OR \"destructive fishing\" OR \"hookah compressor\" OR \"anchor*\" OR \"purse seine\" OR \"trawl*\" OR \"overfishing\" OR \"illegal fishing\" OR \"bycatch\" OR \"by-catch\" OR \"muroami\")\":\n"
     ]
    },
    {
     "name": "stderr",
     "output_type": "stream",
     "text": [
      "100%|████████████████████████████████████████████████████████████████████████████████████| 6/6 [00:04<00:00,  1.23it/s]\n"
     ]
    },
    {
     "name": "stdout",
     "output_type": "stream",
     "text": [
      "Downloading results for query \"PUBYEAR  = 2020 TITLE-ABS-KEY ( \"coral reef*\" OR \"coral*\"  AND \"sand mining\" OR \"deforestation\" OR \"abrasion\" OR \"sedimentation\" OR \"aquaculture pond\" OR \"mineral mining\" OR \"sewage discharge\" OR \"erosion\" OR \"plastic\" OR \"habitat los*\" OR \"pesticide\" OR \"fertilizer\" OR \"eutrophication\" OR \"coastal development\" OR \"reclamation\" OR \"runoff\" OR \"run-off\")\":\n"
     ]
    },
    {
     "name": "stderr",
     "output_type": "stream",
     "text": [
      "100%|██████████████████████████████████████████████████████████████████████████████████| 15/15 [00:12<00:00,  1.09it/s]\n"
     ]
    },
    {
     "name": "stdout",
     "output_type": "stream",
     "text": [
      "Downloading results for query \"PUBYEAR  = 2020 TITLE-ABS-KEY ( \"coral reef*\" OR \"coral*\" AND \"climate change\" OR \"bleach*\", OR \"storm*\" OR \"increasing sea surface temperature*\" OR \"increasing SST\" OR \"extreme weather\" OR \"global warming\" OR \"heatwave*\" OR \"heat wave*\")\":\n"
     ]
    },
    {
     "name": "stderr",
     "output_type": "stream",
     "text": [
      "100%|██████████████████████████████████████████████████████████████████████████████████| 30/30 [00:33<00:00,  1.16s/it]\n"
     ]
    },
    {
     "name": "stdout",
     "output_type": "stream",
     "text": [
      "Downloading results for query \"PUBYEAR  = 2020 TITLE-ABS-KEY ( \"coral reef*\" OR \"coral*\" AND \"disease*\" OR \"coral mining\" OR \"oil mining\" OR \"gas mining\" OR \"crown of thorn\" OR \"COT\" OR \"achantaster plancii\" OR \"mariculture*\" OR \"volcano eruption*\" OR \"ballast water\")\":\n"
     ]
    },
    {
     "name": "stderr",
     "output_type": "stream",
     "text": [
      "100%|██████████████████████████████████████████████████████████████████████████████████| 11/11 [00:09<00:00,  1.08it/s]\n"
     ]
    },
    {
     "name": "stdout",
     "output_type": "stream",
     "text": [
      "Downloading results for query \"PUBYEAR  = 2021 TITLE-ABS-KEY ( \"coral reef*\" OR \"coral*\")\":\n"
     ]
    },
    {
     "name": "stderr",
     "output_type": "stream",
     "text": [
      "  1%|▉                                                                               | 2/173 [00:21<1:02:03, 21.78s/it]\n",
      "C:\\ProgramData\\anaconda3\\Lib\\site-packages\\executing\\executing.py:713: DeprecationWarning: ast.Str is deprecated and will be removed in Python 3.14; use ast.Constant instead\n",
      "  right=ast.Str(s=sentinel),\n",
      "C:\\ProgramData\\anaconda3\\Lib\\ast.py:587: DeprecationWarning: Attribute s is deprecated and will be removed in Python 3.14; use value instead\n",
      "  return Constant(*args, **kwargs)\n"
     ]
    },
    {
     "ename": "ConnectionError",
     "evalue": "HTTPSConnectionPool(host='api.elsevier.com', port=443): Read timed out.",
     "output_type": "error",
     "traceback": [
      "\u001b[1;31m---------------------------------------------------------------------------\u001b[0m",
      "\u001b[1;31mTimeoutError\u001b[0m                              Traceback (most recent call last)",
      "File \u001b[1;32mC:\\ProgramData\\anaconda3\\Lib\\site-packages\\urllib3\\response.py:748\u001b[0m, in \u001b[0;36mHTTPResponse._error_catcher\u001b[1;34m(self)\u001b[0m\n\u001b[0;32m    747\u001b[0m \u001b[38;5;28;01mtry\u001b[39;00m:\n\u001b[1;32m--> 748\u001b[0m     \u001b[38;5;28;01myield\u001b[39;00m\n\u001b[0;32m    750\u001b[0m \u001b[38;5;28;01mexcept\u001b[39;00m SocketTimeout \u001b[38;5;28;01mas\u001b[39;00m e:\n\u001b[0;32m    751\u001b[0m     \u001b[38;5;66;03m# FIXME: Ideally we'd like to include the url in the ReadTimeoutError but\u001b[39;00m\n\u001b[0;32m    752\u001b[0m     \u001b[38;5;66;03m# there is yet no clean way to get at it from this context.\u001b[39;00m\n",
      "File \u001b[1;32mC:\\ProgramData\\anaconda3\\Lib\\site-packages\\urllib3\\response.py:1206\u001b[0m, in \u001b[0;36mHTTPResponse.read_chunked\u001b[1;34m(self, amt, decode_content)\u001b[0m\n\u001b[0;32m   1205\u001b[0m \u001b[38;5;28;01mwhile\u001b[39;00m \u001b[38;5;28;01mTrue\u001b[39;00m:\n\u001b[1;32m-> 1206\u001b[0m     \u001b[38;5;28mself\u001b[39m\u001b[38;5;241m.\u001b[39m_update_chunk_length()\n\u001b[0;32m   1207\u001b[0m     \u001b[38;5;28;01mif\u001b[39;00m \u001b[38;5;28mself\u001b[39m\u001b[38;5;241m.\u001b[39mchunk_left \u001b[38;5;241m==\u001b[39m \u001b[38;5;241m0\u001b[39m:\n",
      "File \u001b[1;32mC:\\ProgramData\\anaconda3\\Lib\\site-packages\\urllib3\\response.py:1125\u001b[0m, in \u001b[0;36mHTTPResponse._update_chunk_length\u001b[1;34m(self)\u001b[0m\n\u001b[0;32m   1124\u001b[0m     \u001b[38;5;28;01mreturn\u001b[39;00m \u001b[38;5;28;01mNone\u001b[39;00m\n\u001b[1;32m-> 1125\u001b[0m line \u001b[38;5;241m=\u001b[39m \u001b[38;5;28mself\u001b[39m\u001b[38;5;241m.\u001b[39m_fp\u001b[38;5;241m.\u001b[39mfp\u001b[38;5;241m.\u001b[39mreadline()  \u001b[38;5;66;03m# type: ignore[union-attr]\u001b[39;00m\n\u001b[0;32m   1126\u001b[0m line \u001b[38;5;241m=\u001b[39m line\u001b[38;5;241m.\u001b[39msplit(\u001b[38;5;124mb\u001b[39m\u001b[38;5;124m\"\u001b[39m\u001b[38;5;124m;\u001b[39m\u001b[38;5;124m\"\u001b[39m, \u001b[38;5;241m1\u001b[39m)[\u001b[38;5;241m0\u001b[39m]\n",
      "File \u001b[1;32mC:\\ProgramData\\anaconda3\\Lib\\socket.py:708\u001b[0m, in \u001b[0;36mSocketIO.readinto\u001b[1;34m(self, b)\u001b[0m\n\u001b[0;32m    707\u001b[0m \u001b[38;5;28;01mtry\u001b[39;00m:\n\u001b[1;32m--> 708\u001b[0m     \u001b[38;5;28;01mreturn\u001b[39;00m \u001b[38;5;28mself\u001b[39m\u001b[38;5;241m.\u001b[39m_sock\u001b[38;5;241m.\u001b[39mrecv_into(b)\n\u001b[0;32m    709\u001b[0m \u001b[38;5;28;01mexcept\u001b[39;00m timeout:\n",
      "File \u001b[1;32mC:\\ProgramData\\anaconda3\\Lib\\ssl.py:1252\u001b[0m, in \u001b[0;36mSSLSocket.recv_into\u001b[1;34m(self, buffer, nbytes, flags)\u001b[0m\n\u001b[0;32m   1249\u001b[0m         \u001b[38;5;28;01mraise\u001b[39;00m \u001b[38;5;167;01mValueError\u001b[39;00m(\n\u001b[0;32m   1250\u001b[0m           \u001b[38;5;124m\"\u001b[39m\u001b[38;5;124mnon-zero flags not allowed in calls to recv_into() on \u001b[39m\u001b[38;5;132;01m%s\u001b[39;00m\u001b[38;5;124m\"\u001b[39m \u001b[38;5;241m%\u001b[39m\n\u001b[0;32m   1251\u001b[0m           \u001b[38;5;28mself\u001b[39m\u001b[38;5;241m.\u001b[39m\u001b[38;5;18m__class__\u001b[39m)\n\u001b[1;32m-> 1252\u001b[0m     \u001b[38;5;28;01mreturn\u001b[39;00m \u001b[38;5;28mself\u001b[39m\u001b[38;5;241m.\u001b[39mread(nbytes, buffer)\n\u001b[0;32m   1253\u001b[0m \u001b[38;5;28;01melse\u001b[39;00m:\n",
      "File \u001b[1;32mC:\\ProgramData\\anaconda3\\Lib\\ssl.py:1104\u001b[0m, in \u001b[0;36mSSLSocket.read\u001b[1;34m(self, len, buffer)\u001b[0m\n\u001b[0;32m   1103\u001b[0m \u001b[38;5;28;01mif\u001b[39;00m buffer \u001b[38;5;129;01mis\u001b[39;00m \u001b[38;5;129;01mnot\u001b[39;00m \u001b[38;5;28;01mNone\u001b[39;00m:\n\u001b[1;32m-> 1104\u001b[0m     \u001b[38;5;28;01mreturn\u001b[39;00m \u001b[38;5;28mself\u001b[39m\u001b[38;5;241m.\u001b[39m_sslobj\u001b[38;5;241m.\u001b[39mread(\u001b[38;5;28mlen\u001b[39m, buffer)\n\u001b[0;32m   1105\u001b[0m \u001b[38;5;28;01melse\u001b[39;00m:\n",
      "\u001b[1;31mTimeoutError\u001b[0m: The read operation timed out",
      "\nThe above exception was the direct cause of the following exception:\n",
      "\u001b[1;31mReadTimeoutError\u001b[0m                          Traceback (most recent call last)",
      "File \u001b[1;32mC:\\ProgramData\\anaconda3\\Lib\\site-packages\\requests\\models.py:820\u001b[0m, in \u001b[0;36mResponse.iter_content.<locals>.generate\u001b[1;34m()\u001b[0m\n\u001b[0;32m    819\u001b[0m \u001b[38;5;28;01mtry\u001b[39;00m:\n\u001b[1;32m--> 820\u001b[0m     \u001b[38;5;28;01myield from\u001b[39;00m \u001b[38;5;28mself\u001b[39m\u001b[38;5;241m.\u001b[39mraw\u001b[38;5;241m.\u001b[39mstream(chunk_size, decode_content\u001b[38;5;241m=\u001b[39m\u001b[38;5;28;01mTrue\u001b[39;00m)\n\u001b[0;32m    821\u001b[0m \u001b[38;5;28;01mexcept\u001b[39;00m ProtocolError \u001b[38;5;28;01mas\u001b[39;00m e:\n",
      "File \u001b[1;32mC:\\ProgramData\\anaconda3\\Lib\\site-packages\\urllib3\\response.py:1057\u001b[0m, in \u001b[0;36mHTTPResponse.stream\u001b[1;34m(self, amt, decode_content)\u001b[0m\n\u001b[0;32m   1056\u001b[0m \u001b[38;5;28;01mif\u001b[39;00m \u001b[38;5;28mself\u001b[39m\u001b[38;5;241m.\u001b[39mchunked \u001b[38;5;129;01mand\u001b[39;00m \u001b[38;5;28mself\u001b[39m\u001b[38;5;241m.\u001b[39msupports_chunked_reads():\n\u001b[1;32m-> 1057\u001b[0m     \u001b[38;5;28;01myield from\u001b[39;00m \u001b[38;5;28mself\u001b[39m\u001b[38;5;241m.\u001b[39mread_chunked(amt, decode_content\u001b[38;5;241m=\u001b[39mdecode_content)\n\u001b[0;32m   1058\u001b[0m \u001b[38;5;28;01melse\u001b[39;00m:\n",
      "File \u001b[1;32mC:\\ProgramData\\anaconda3\\Lib\\site-packages\\urllib3\\response.py:1189\u001b[0m, in \u001b[0;36mHTTPResponse.read_chunked\u001b[1;34m(self, amt, decode_content)\u001b[0m\n\u001b[0;32m   1184\u001b[0m     \u001b[38;5;28;01mraise\u001b[39;00m BodyNotHttplibCompatible(\n\u001b[0;32m   1185\u001b[0m         \u001b[38;5;124m\"\u001b[39m\u001b[38;5;124mBody should be http.client.HTTPResponse like. \u001b[39m\u001b[38;5;124m\"\u001b[39m\n\u001b[0;32m   1186\u001b[0m         \u001b[38;5;124m\"\u001b[39m\u001b[38;5;124mIt should have have an fp attribute which returns raw chunks.\u001b[39m\u001b[38;5;124m\"\u001b[39m\n\u001b[0;32m   1187\u001b[0m     )\n\u001b[1;32m-> 1189\u001b[0m \u001b[38;5;28;01mwith\u001b[39;00m \u001b[38;5;28mself\u001b[39m\u001b[38;5;241m.\u001b[39m_error_catcher():\n\u001b[0;32m   1190\u001b[0m     \u001b[38;5;66;03m# Don't bother reading the body of a HEAD request.\u001b[39;00m\n\u001b[0;32m   1191\u001b[0m     \u001b[38;5;28;01mif\u001b[39;00m \u001b[38;5;28mself\u001b[39m\u001b[38;5;241m.\u001b[39m_original_response \u001b[38;5;129;01mand\u001b[39;00m is_response_to_head(\u001b[38;5;28mself\u001b[39m\u001b[38;5;241m.\u001b[39m_original_response):\n",
      "File \u001b[1;32mC:\\ProgramData\\anaconda3\\Lib\\contextlib.py:158\u001b[0m, in \u001b[0;36m_GeneratorContextManager.__exit__\u001b[1;34m(self, typ, value, traceback)\u001b[0m\n\u001b[0;32m    157\u001b[0m \u001b[38;5;28;01mtry\u001b[39;00m:\n\u001b[1;32m--> 158\u001b[0m     \u001b[38;5;28mself\u001b[39m\u001b[38;5;241m.\u001b[39mgen\u001b[38;5;241m.\u001b[39mthrow(value)\n\u001b[0;32m    159\u001b[0m \u001b[38;5;28;01mexcept\u001b[39;00m \u001b[38;5;167;01mStopIteration\u001b[39;00m \u001b[38;5;28;01mas\u001b[39;00m exc:\n\u001b[0;32m    160\u001b[0m     \u001b[38;5;66;03m# Suppress StopIteration *unless* it's the same exception that\u001b[39;00m\n\u001b[0;32m    161\u001b[0m     \u001b[38;5;66;03m# was passed to throw().  This prevents a StopIteration\u001b[39;00m\n\u001b[0;32m    162\u001b[0m     \u001b[38;5;66;03m# raised inside the \"with\" statement from being suppressed.\u001b[39;00m\n",
      "File \u001b[1;32mC:\\ProgramData\\anaconda3\\Lib\\site-packages\\urllib3\\response.py:753\u001b[0m, in \u001b[0;36mHTTPResponse._error_catcher\u001b[1;34m(self)\u001b[0m\n\u001b[0;32m    750\u001b[0m \u001b[38;5;28;01mexcept\u001b[39;00m SocketTimeout \u001b[38;5;28;01mas\u001b[39;00m e:\n\u001b[0;32m    751\u001b[0m     \u001b[38;5;66;03m# FIXME: Ideally we'd like to include the url in the ReadTimeoutError but\u001b[39;00m\n\u001b[0;32m    752\u001b[0m     \u001b[38;5;66;03m# there is yet no clean way to get at it from this context.\u001b[39;00m\n\u001b[1;32m--> 753\u001b[0m     \u001b[38;5;28;01mraise\u001b[39;00m ReadTimeoutError(\u001b[38;5;28mself\u001b[39m\u001b[38;5;241m.\u001b[39m_pool, \u001b[38;5;28;01mNone\u001b[39;00m, \u001b[38;5;124m\"\u001b[39m\u001b[38;5;124mRead timed out.\u001b[39m\u001b[38;5;124m\"\u001b[39m) \u001b[38;5;28;01mfrom\u001b[39;00m \u001b[38;5;21;01me\u001b[39;00m  \u001b[38;5;66;03m# type: ignore[arg-type]\u001b[39;00m\n\u001b[0;32m    755\u001b[0m \u001b[38;5;28;01mexcept\u001b[39;00m BaseSSLError \u001b[38;5;28;01mas\u001b[39;00m e:\n\u001b[0;32m    756\u001b[0m     \u001b[38;5;66;03m# FIXME: Is there a better way to differentiate between SSLErrors?\u001b[39;00m\n",
      "\u001b[1;31mReadTimeoutError\u001b[0m: HTTPSConnectionPool(host='api.elsevier.com', port=443): Read timed out.",
      "\nDuring handling of the above exception, another exception occurred:\n",
      "\u001b[1;31mConnectionError\u001b[0m                           Traceback (most recent call last)",
      "Cell \u001b[1;32mIn[27], line 13\u001b[0m\n\u001b[0;32m     11\u001b[0m \u001b[38;5;28;01mfor\u001b[39;00m year \u001b[38;5;129;01min\u001b[39;00m years:\n\u001b[0;32m     12\u001b[0m     query_coral_reef \u001b[38;5;241m=\u001b[39m \u001b[38;5;124m'\u001b[39m\u001b[38;5;124mPUBYEAR  = \u001b[39m\u001b[38;5;124m'\u001b[39m \u001b[38;5;241m+\u001b[39m \u001b[38;5;28mstr\u001b[39m(year) \u001b[38;5;241m+\u001b[39m \u001b[38;5;124m'\u001b[39m\u001b[38;5;124m TITLE-ABS-KEY ( \u001b[39m\u001b[38;5;124m\"\u001b[39m\u001b[38;5;124mcoral reef*\u001b[39m\u001b[38;5;124m\"\u001b[39m\u001b[38;5;124m OR \u001b[39m\u001b[38;5;124m\"\u001b[39m\u001b[38;5;124mcoral*\u001b[39m\u001b[38;5;124m\"\u001b[39m\u001b[38;5;124m)\u001b[39m\u001b[38;5;124m'\u001b[39m\n\u001b[1;32m---> 13\u001b[0m     s_coral_reef \u001b[38;5;241m=\u001b[39m ScopusSearch(query_coral_reef, download\u001b[38;5;241m=\u001b[39m\u001b[38;5;28;01mTrue\u001b[39;00m, verbose\u001b[38;5;241m=\u001b[39m\u001b[38;5;28;01mTrue\u001b[39;00m)\n\u001b[0;32m     14\u001b[0m     df_coral_reef \u001b[38;5;241m=\u001b[39m pd\u001b[38;5;241m.\u001b[39mDataFrame(pd\u001b[38;5;241m.\u001b[39mDataFrame(s_coral_reef\u001b[38;5;241m.\u001b[39mresults))\n\u001b[0;32m     15\u001b[0m     data_coral_reef[year] \u001b[38;5;241m=\u001b[39m df_coral_reef\n",
      "File \u001b[1;32m~\\AppData\\Roaming\\Python\\Python312\\site-packages\\pybliometrics\\scopus\\scopus_search.py:214\u001b[0m, in \u001b[0;36mScopusSearch.__init__\u001b[1;34m(self, query, refresh, view, verbose, download, integrity_fields, integrity_action, subscriber, unescape, **kwds)\u001b[0m\n\u001b[0;32m    212\u001b[0m \u001b[38;5;28mself\u001b[39m\u001b[38;5;241m.\u001b[39m_query \u001b[38;5;241m=\u001b[39m query\n\u001b[0;32m    213\u001b[0m \u001b[38;5;28mself\u001b[39m\u001b[38;5;241m.\u001b[39m_view \u001b[38;5;241m=\u001b[39m view\n\u001b[1;32m--> 214\u001b[0m Search\u001b[38;5;241m.\u001b[39m\u001b[38;5;21m__init__\u001b[39m(\u001b[38;5;28mself\u001b[39m, query\u001b[38;5;241m=\u001b[39mquery, api\u001b[38;5;241m=\u001b[39m\u001b[38;5;124m'\u001b[39m\u001b[38;5;124mScopusSearch\u001b[39m\u001b[38;5;124m'\u001b[39m, size\u001b[38;5;241m=\u001b[39msize,\n\u001b[0;32m    215\u001b[0m                 cursor\u001b[38;5;241m=\u001b[39msubscriber, download\u001b[38;5;241m=\u001b[39mdownload,\n\u001b[0;32m    216\u001b[0m                 verbose\u001b[38;5;241m=\u001b[39mverbose, \u001b[38;5;241m*\u001b[39m\u001b[38;5;241m*\u001b[39mkwds)\n\u001b[0;32m    217\u001b[0m \u001b[38;5;28mself\u001b[39m\u001b[38;5;241m.\u001b[39munescape \u001b[38;5;241m=\u001b[39m unescape\n",
      "File \u001b[1;32m~\\AppData\\Roaming\\Python\\Python312\\site-packages\\pybliometrics\\scopus\\superclasses\\search.py:66\u001b[0m, in \u001b[0;36mSearch.__init__\u001b[1;34m(self, query, api, size, cursor, download, verbose, **kwds)\u001b[0m\n\u001b[0;32m     63\u001b[0m \u001b[38;5;28mself\u001b[39m\u001b[38;5;241m.\u001b[39m_cache_file_path \u001b[38;5;241m=\u001b[39m parent\u001b[38;5;241m/\u001b[39m\u001b[38;5;28mself\u001b[39m\u001b[38;5;241m.\u001b[39m_view\u001b[38;5;241m/\u001b[39mstem\n\u001b[0;32m     65\u001b[0m \u001b[38;5;66;03m# Init\u001b[39;00m\n\u001b[1;32m---> 66\u001b[0m Base\u001b[38;5;241m.\u001b[39m\u001b[38;5;21m__init__\u001b[39m(\u001b[38;5;28mself\u001b[39m, params\u001b[38;5;241m=\u001b[39mparams, url\u001b[38;5;241m=\u001b[39mURLS[api], download\u001b[38;5;241m=\u001b[39mdownload,\n\u001b[0;32m     67\u001b[0m               api\u001b[38;5;241m=\u001b[39mapi, verbose\u001b[38;5;241m=\u001b[39mverbose)\n",
      "File \u001b[1;32m~\\AppData\\Roaming\\Python\\Python312\\site-packages\\pybliometrics\\scopus\\superclasses\\base.py:107\u001b[0m, in \u001b[0;36mBase.__init__\u001b[1;34m(self, params, url, api, download, verbose, *args, **kwds)\u001b[0m\n\u001b[0;32m    105\u001b[0m     start \u001b[38;5;241m+\u001b[39m\u001b[38;5;241m=\u001b[39m params[\u001b[38;5;124m\"\u001b[39m\u001b[38;5;124msize\u001b[39m\u001b[38;5;124m\"\u001b[39m]\n\u001b[0;32m    106\u001b[0m     params\u001b[38;5;241m.\u001b[39mupdate({\u001b[38;5;124m'\u001b[39m\u001b[38;5;124mstart\u001b[39m\u001b[38;5;124m'\u001b[39m: start})\n\u001b[1;32m--> 107\u001b[0m resp \u001b[38;5;241m=\u001b[39m get_content(url, api, params, \u001b[38;5;241m*\u001b[39margs, \u001b[38;5;241m*\u001b[39m\u001b[38;5;241m*\u001b[39mkwds)\n\u001b[0;32m    108\u001b[0m res \u001b[38;5;241m=\u001b[39m resp\u001b[38;5;241m.\u001b[39mjson()\n\u001b[0;32m    109\u001b[0m data\u001b[38;5;241m.\u001b[39mextend(res\u001b[38;5;241m.\u001b[39mget(\u001b[38;5;124m'\u001b[39m\u001b[38;5;124msearch-results\u001b[39m\u001b[38;5;124m'\u001b[39m, {})\u001b[38;5;241m.\u001b[39mget(\u001b[38;5;124m'\u001b[39m\u001b[38;5;124mentry\u001b[39m\u001b[38;5;124m'\u001b[39m, []))\n",
      "File \u001b[1;32m~\\AppData\\Roaming\\Python\\Python312\\site-packages\\pybliometrics\\scopus\\utils\\get_content.py:102\u001b[0m, in \u001b[0;36mget_content\u001b[1;34m(url, api, params, **kwds)\u001b[0m\n\u001b[0;32m    100\u001b[0m \u001b[38;5;66;03m# Perform request, eventually replacing the current key\u001b[39;00m\n\u001b[0;32m    101\u001b[0m timeout \u001b[38;5;241m=\u001b[39m config\u001b[38;5;241m.\u001b[39mgetint(\u001b[38;5;124m\"\u001b[39m\u001b[38;5;124mRequests\u001b[39m\u001b[38;5;124m\"\u001b[39m, \u001b[38;5;124m\"\u001b[39m\u001b[38;5;124mTimeout\u001b[39m\u001b[38;5;124m\"\u001b[39m, fallback\u001b[38;5;241m=\u001b[39m\u001b[38;5;241m20\u001b[39m)\n\u001b[1;32m--> 102\u001b[0m resp \u001b[38;5;241m=\u001b[39m session\u001b[38;5;241m.\u001b[39mget(url, headers\u001b[38;5;241m=\u001b[39mheader, proxies\u001b[38;5;241m=\u001b[39mproxies, params\u001b[38;5;241m=\u001b[39mparams,\n\u001b[0;32m    103\u001b[0m                   timeout\u001b[38;5;241m=\u001b[39mtimeout)\n\u001b[0;32m    104\u001b[0m \u001b[38;5;28;01mwhile\u001b[39;00m resp\u001b[38;5;241m.\u001b[39mstatus_code \u001b[38;5;241m==\u001b[39m \u001b[38;5;241m429\u001b[39m:\n\u001b[0;32m    105\u001b[0m     \u001b[38;5;28;01mtry\u001b[39;00m:\n",
      "File \u001b[1;32mC:\\ProgramData\\anaconda3\\Lib\\site-packages\\requests\\sessions.py:602\u001b[0m, in \u001b[0;36mSession.get\u001b[1;34m(self, url, **kwargs)\u001b[0m\n\u001b[0;32m    594\u001b[0m \u001b[38;5;250m\u001b[39m\u001b[38;5;124mr\u001b[39m\u001b[38;5;124;03m\"\"\"Sends a GET request. Returns :class:`Response` object.\u001b[39;00m\n\u001b[0;32m    595\u001b[0m \n\u001b[0;32m    596\u001b[0m \u001b[38;5;124;03m:param url: URL for the new :class:`Request` object.\u001b[39;00m\n\u001b[0;32m    597\u001b[0m \u001b[38;5;124;03m:param \\*\\*kwargs: Optional arguments that ``request`` takes.\u001b[39;00m\n\u001b[0;32m    598\u001b[0m \u001b[38;5;124;03m:rtype: requests.Response\u001b[39;00m\n\u001b[0;32m    599\u001b[0m \u001b[38;5;124;03m\"\"\"\u001b[39;00m\n\u001b[0;32m    601\u001b[0m kwargs\u001b[38;5;241m.\u001b[39msetdefault(\u001b[38;5;124m\"\u001b[39m\u001b[38;5;124mallow_redirects\u001b[39m\u001b[38;5;124m\"\u001b[39m, \u001b[38;5;28;01mTrue\u001b[39;00m)\n\u001b[1;32m--> 602\u001b[0m \u001b[38;5;28;01mreturn\u001b[39;00m \u001b[38;5;28mself\u001b[39m\u001b[38;5;241m.\u001b[39mrequest(\u001b[38;5;124m\"\u001b[39m\u001b[38;5;124mGET\u001b[39m\u001b[38;5;124m\"\u001b[39m, url, \u001b[38;5;241m*\u001b[39m\u001b[38;5;241m*\u001b[39mkwargs)\n",
      "File \u001b[1;32mC:\\ProgramData\\anaconda3\\Lib\\site-packages\\requests\\sessions.py:589\u001b[0m, in \u001b[0;36mSession.request\u001b[1;34m(self, method, url, params, data, headers, cookies, files, auth, timeout, allow_redirects, proxies, hooks, stream, verify, cert, json)\u001b[0m\n\u001b[0;32m    584\u001b[0m send_kwargs \u001b[38;5;241m=\u001b[39m {\n\u001b[0;32m    585\u001b[0m     \u001b[38;5;124m\"\u001b[39m\u001b[38;5;124mtimeout\u001b[39m\u001b[38;5;124m\"\u001b[39m: timeout,\n\u001b[0;32m    586\u001b[0m     \u001b[38;5;124m\"\u001b[39m\u001b[38;5;124mallow_redirects\u001b[39m\u001b[38;5;124m\"\u001b[39m: allow_redirects,\n\u001b[0;32m    587\u001b[0m }\n\u001b[0;32m    588\u001b[0m send_kwargs\u001b[38;5;241m.\u001b[39mupdate(settings)\n\u001b[1;32m--> 589\u001b[0m resp \u001b[38;5;241m=\u001b[39m \u001b[38;5;28mself\u001b[39m\u001b[38;5;241m.\u001b[39msend(prep, \u001b[38;5;241m*\u001b[39m\u001b[38;5;241m*\u001b[39msend_kwargs)\n\u001b[0;32m    591\u001b[0m \u001b[38;5;28;01mreturn\u001b[39;00m resp\n",
      "File \u001b[1;32mC:\\ProgramData\\anaconda3\\Lib\\site-packages\\requests\\sessions.py:746\u001b[0m, in \u001b[0;36mSession.send\u001b[1;34m(self, request, **kwargs)\u001b[0m\n\u001b[0;32m    743\u001b[0m         \u001b[38;5;28;01mpass\u001b[39;00m\n\u001b[0;32m    745\u001b[0m \u001b[38;5;28;01mif\u001b[39;00m \u001b[38;5;129;01mnot\u001b[39;00m stream:\n\u001b[1;32m--> 746\u001b[0m     r\u001b[38;5;241m.\u001b[39mcontent\n\u001b[0;32m    748\u001b[0m \u001b[38;5;28;01mreturn\u001b[39;00m r\n",
      "File \u001b[1;32mC:\\ProgramData\\anaconda3\\Lib\\site-packages\\requests\\models.py:902\u001b[0m, in \u001b[0;36mResponse.content\u001b[1;34m(self)\u001b[0m\n\u001b[0;32m    900\u001b[0m         \u001b[38;5;28mself\u001b[39m\u001b[38;5;241m.\u001b[39m_content \u001b[38;5;241m=\u001b[39m \u001b[38;5;28;01mNone\u001b[39;00m\n\u001b[0;32m    901\u001b[0m     \u001b[38;5;28;01melse\u001b[39;00m:\n\u001b[1;32m--> 902\u001b[0m         \u001b[38;5;28mself\u001b[39m\u001b[38;5;241m.\u001b[39m_content \u001b[38;5;241m=\u001b[39m \u001b[38;5;124mb\u001b[39m\u001b[38;5;124m\"\u001b[39m\u001b[38;5;124m\"\u001b[39m\u001b[38;5;241m.\u001b[39mjoin(\u001b[38;5;28mself\u001b[39m\u001b[38;5;241m.\u001b[39miter_content(CONTENT_CHUNK_SIZE)) \u001b[38;5;129;01mor\u001b[39;00m \u001b[38;5;124mb\u001b[39m\u001b[38;5;124m\"\u001b[39m\u001b[38;5;124m\"\u001b[39m\n\u001b[0;32m    904\u001b[0m \u001b[38;5;28mself\u001b[39m\u001b[38;5;241m.\u001b[39m_content_consumed \u001b[38;5;241m=\u001b[39m \u001b[38;5;28;01mTrue\u001b[39;00m\n\u001b[0;32m    905\u001b[0m \u001b[38;5;66;03m# don't need to release the connection; that's been handled by urllib3\u001b[39;00m\n\u001b[0;32m    906\u001b[0m \u001b[38;5;66;03m# since we exhausted the data.\u001b[39;00m\n",
      "File \u001b[1;32mC:\\ProgramData\\anaconda3\\Lib\\site-packages\\requests\\models.py:826\u001b[0m, in \u001b[0;36mResponse.iter_content.<locals>.generate\u001b[1;34m()\u001b[0m\n\u001b[0;32m    824\u001b[0m     \u001b[38;5;28;01mraise\u001b[39;00m ContentDecodingError(e)\n\u001b[0;32m    825\u001b[0m \u001b[38;5;28;01mexcept\u001b[39;00m ReadTimeoutError \u001b[38;5;28;01mas\u001b[39;00m e:\n\u001b[1;32m--> 826\u001b[0m     \u001b[38;5;28;01mraise\u001b[39;00m \u001b[38;5;167;01mConnectionError\u001b[39;00m(e)\n\u001b[0;32m    827\u001b[0m \u001b[38;5;28;01mexcept\u001b[39;00m SSLError \u001b[38;5;28;01mas\u001b[39;00m e:\n\u001b[0;32m    828\u001b[0m     \u001b[38;5;28;01mraise\u001b[39;00m RequestsSSLError(e)\n",
      "\u001b[1;31mConnectionError\u001b[0m: HTTPSConnectionPool(host='api.elsevier.com', port=443): Read timed out."
     ]
    }
   ],
   "source": [
    "import matplotlib.pyplot as plt\n",
    "\n",
    "data_coral_reef = {}\n",
    "data_fishing = {}\n",
    "data_pollution = {}\n",
    "data_climate = {}\n",
    "data_other = {}\n",
    "\n",
    "years = range(1970, 2023)\n",
    "\n",
    "for year in years:\n",
    "    query_coral_reef = 'PUBYEAR  = ' + str(year) + ' TITLE-ABS-KEY ( \"coral reef*\" OR \"coral*\")'\n",
    "    s_coral_reef = ScopusSearch(query_coral_reef, download=True, verbose=True)\n",
    "    df_coral_reef = pd.DataFrame(pd.DataFrame(s_coral_reef.results))\n",
    "    data_coral_reef[year] = df_coral_reef\n",
    "\n",
    "    query_fishing = 'PUBYEAR  = ' + str(year) + ' TITLE-ABS-KEY ( \"coral reef*\" OR \"coral*\" AND \"bombing\" OR \"cyanide\" OR \"destructive fishing\" OR \"hookah compressor\" OR \"anchor*\" OR \"purse seine\" OR \"trawl*\" OR \"overfishing\" OR \"illegal fishing\" OR \"bycatch\" OR \"by-catch\" OR \"muroami\")'\n",
    "    s_fishing = ScopusSearch(query_fishing, download=True, verbose=True)\n",
    "    df_coral_fishing = pd.DataFrame(pd.DataFrame(s_fishing.results))\n",
    "    data_fishing[year] = df_coral_fishing\n",
    "\n",
    "    query_pollution = 'PUBYEAR  = ' + str(year) + ' TITLE-ABS-KEY ( \"coral reef*\" OR \"coral*\"  AND \"sand mining\" OR \"deforestation\" OR \"abrasion\" OR \"sedimentation\" OR \"aquaculture pond\" OR \"mineral mining\" OR \"sewage discharge\" OR \"erosion\" OR \"plastic\" OR \"habitat los*\" OR \"pesticide\" OR \"fertilizer\" OR \"eutrophication\" OR \"coastal development\" OR \"reclamation\" OR \"runoff\" OR \"run-off\")'\n",
    "    s_pollution = ScopusSearch(query_pollution, download=True, verbose=True)\n",
    "    df_coral_pollution = pd.DataFrame(pd.DataFrame(s_pollution.results))\n",
    "    data_pollution[year] = df_coral_pollution\n",
    "\n",
    "    query_climate = 'PUBYEAR  = ' + str(year) + ' TITLE-ABS-KEY ( \"coral reef*\" OR \"coral*\" AND \"climate change\" OR \"bleach*\", OR \"storm*\" OR \"increasing sea surface temperature*\" OR \"increasing SST\" OR \"extreme weather\" OR \"global warming\" OR \"heatwave*\" OR \"heat wave*\")'\n",
    "    s_climate = ScopusSearch(query_climate, download=True, verbose=True)\n",
    "    df_coral_climate = pd.DataFrame(pd.DataFrame(s_climate.results))\n",
    "    data_climate[year] = df_coral_climate\n",
    "    \n",
    "    query_other = 'PUBYEAR  = ' + str(year) + ' TITLE-ABS-KEY ( \"coral reef*\" OR \"coral*\" AND \"disease*\" OR \"coral mining\" OR \"oil mining\" OR \"gas mining\" OR \"crown of thorn\" OR \"COT\" OR \"achantaster plancii\" OR \"mariculture*\" OR \"volcano eruption*\" OR \"ballast water\")'\n",
    "    s_other = ScopusSearch(query_other, download=True, verbose=True)\n",
    "    df_coral_other = pd.DataFrame(pd.DataFrame(s_other.results))\n",
    "    data_other[year] = df_coral_other"
   ]
  },
  {
   "cell_type": "code",
   "execution_count": 43,
   "id": "35c92ccf-15ed-4f56-a5d3-545ca5349498",
   "metadata": {},
   "outputs": [
    {
     "data": {
      "image/png": "[encoded data removed]",
      "text/plain": [
       "<Figure size 450x1800 with 2 Axes>"
      ]
     },
     "metadata": {},
     "output_type": "display_data"
    }
   ],
   "source": [
    "years = range(1970, 2020)\n",
    "\n",
    "# Calculate the relative number of papers for each category\n",
    "relative_papers_fishing = [len(data_fishing[year].index) / len(data_coral_reef[year].index) if year in data_coral_reef else 0 for year in years]\n",
    "relative_papers_pollution = [len(data_pollution[year].index) / len(data_coral_reef[year].index) if year in data_coral_reef else 0 for year in years]\n",
    "relative_papers_climate = [len(data_climate[year].index) / len(data_coral_reef[year].index) if year in data_coral_reef else 0 for year in years]\n",
    "relative_papers_other = [len(data_other[year].index) / len(data_coral_reef[year].index) if year in data_coral_reef else 0 for year in years]\n",
    "\n",
    "absolute_papers_coral = [len(data_coral_reef[year].index) if year in data_coral_reef else 0 for year in years]\n",
    "\n",
    "# Create a single plot with different lines/colors for each category\n",
    "plt.figure(figsize=(4.5, 18))\n",
    "\n",
    "# Relative number of papers (fishing), (land-based), and (climate) to coral reefs and year\n",
    "plt.subplot(4, 1, 1)\n",
    "plt.plot(years, absolute_papers_coral, label='Coral Reefs', marker='',linestyle='-',color='#636363') #grey-black color safe color blind\n",
    "plt.xlabel('Year', fontsize=13, labelpad=3)\n",
    "plt.xticks(range(1970, 2022, 10), rotation=0, fontsize=12)\n",
    "#plt.setp(plt.gca(), xticklabels=[])  # Remove x-labels for the first subplot\n",
    "#plt.xticks([1980, 2000, 2020], fontsize=14)\n",
    "plt.tick_params(axis='x', which='both', bottom=True, top=False, labelbottom=True)\n",
    "\n",
    "plt.ylabel('Number of Papers (hits)', fontsize=13)\n",
    "plt.ylim(0, 6000)\n",
    "plt.yticks([0, 1500, 3000, 4500, 6000], fontsize=12)\n",
    "# Place the legend outside the plot area\n",
    "#plt.legend()\n",
    "plt.legend(loc='upper left', fontsize=12)\n",
    "#plt.legend(loc='center left', bbox_to_anchor=(1, 0.935), fontsize=9)\n",
    "\n",
    "# Add gridlines in the background\n",
    "plt.grid(True, linestyle='--', alpha=0.5)\n",
    "\n",
    "\n",
    "# Set the distance between subplots\n",
    "plt.subplots_adjust(hspace=0.2)  # Adjust the value as needed\n",
    "\n",
    "plt.subplot(4, 1, 2)\n",
    "plt.plot(years, relative_papers_fishing, label='Fishing Activities',marker='', linestyle='--',color='#cb181d')\n",
    "plt.plot(years, relative_papers_pollution, label='Land-Based', marker='',linestyle='--',color='#74c476')\n",
    "plt.plot(years, relative_papers_climate, label='Climate Change', marker='',linestyle='--',color='#feb24c')\n",
    "plt.plot(years, relative_papers_other, label='Other', marker='',linestyle='--',color='#3182bd')\n",
    "\n",
    "# Place the legend outside the plot area\n",
    "#plt.legend()\n",
    "#plt.legend(loc='center left', bbox_to_anchor=(1, 0.780), fontsize=9)#feb24c\n",
    "plt.legend(loc='upper left', fontsize=11)\n",
    "\n",
    "plt.xlabel('Year', fontsize=13, labelpad=3)\n",
    "plt.ylabel('Relative Frequency', fontsize=13)\n",
    "plt.xticks(range(1970, 2022, 10), rotation=0, fontsize=12)\n",
    "#plt.xticks([1980, 1990, 2000, 2010, 2020], fontsize=14)\n",
    "plt.yticks([0, 0.075, 0.15, 0.225, 0.30], fontsize=12)\n",
    "\n",
    "plt.ylim(0, 0.30)\n",
    "\n",
    "# Add gridlines in the background\n",
    "plt.grid(True, linestyle='--', alpha=0.5)\n",
    "\n",
    "# Save the plot in jpg format with good resolution and larger size\n",
    "#output_directory = 'F:/001. Analysis_Option1/Results_Option1/Results_graph/'\n",
    "#output_file_path = output_directory + 'Coral Reefs and Relative Stressors.jpg'\n",
    "#plt.savefig(output_file_path, dpi=1000, bbox_inches= 'tight')\n",
    "\n",
    "plt.show()"
   ]
  },
  {
   "cell_type": "code",
   "execution_count": 33,
   "id": "a09e9c91-2a30-4124-a995-e4d660d0c901",
   "metadata": {},
   "outputs": [
    {
     "name": "stderr",
     "output_type": "stream",
     "text": [
      "C:\\ProgramData\\anaconda3\\Lib\\site-packages\\IPython\\core\\pylabtools.py:77: DeprecationWarning: backend2gui is deprecated since IPython 8.24, backends are managed in matplotlib and can be externally registered.\n",
      "  warnings.warn(\n"
     ]
    },
    {
     "data": {
      "image/png": "[encoded data removed]",
      "text/plain": [
       "<Figure size 800x300 with 1 Axes>"
      ]
     },
     "metadata": {},
     "output_type": "display_data"
    }
   ],
   "source": [
    "plt.figure(figsize=(8, 3))\n",
    "\n",
    "plt.plot(years, relative_papers_fishing, label='Fishing Activities', marker='', linestyle='-', color='#cb181d')\n",
    "plt.plot(years, relative_papers_pollution, label='Land-Based', marker='', linestyle='-', color='#74c476')\n",
    "plt.plot(years, relative_papers_climate, label='Climate Change', marker='', linestyle='-', color='#feb24c')\n",
    "plt.plot(years, relative_papers_other, label='Other', marker='', linestyle='-', color='#3182bd')\n",
    "\n",
    "# Place the legend outside the plot area with two rows\n",
    "plt.legend(loc='upper left', fontsize=10, ncol=4, title= 'Categories')\n",
    "\n",
    "plt.xlabel('Year', fontsize=13, labelpad=5)\n",
    "plt.ylabel('Relative Frequency', fontsize=13)\n",
    "plt.xticks(range(1970, 2022, 5), rotation=0, fontsize=12)\n",
    "plt.yticks([0, 0.075, 0.15, 0.225, 0.30], fontsize=12)\n",
    "plt.ylim(0, 0.30)\n",
    "\n",
    "# Add gridlines in the background\n",
    "plt.grid(True, linestyle='--', alpha=0.5)\n",
    "\n",
    "# Save the plot in jpg format with good resolution and larger size\n",
    "output_directory = 'C:/Users/capri002/OneDrive - Wageningen University & Research/Desktop/Split_Plan/Results/Figure/'  # Change this to your desired directory\n",
    "output_file_path = output_directory + 'Scopus relative to coral paper2.pdf'\n",
    "plt.savefig(output_file_path, dpi=1500, bbox_inches='tight')\n",
    "\n",
    "plt.show()\n"
   ]
  },
  {
   "cell_type": "code",
   "execution_count": 47,
   "id": "10b8b76e-e498-4cd7-81b6-8c42a7fa3569",
   "metadata": {},
   "outputs": [
    {
     "data": {
      "image/png": "[encoded data removed]",
      "text/plain": [
       "<Figure size 810x215 with 1 Axes>"
      ]
     },
     "metadata": {},
     "output_type": "display_data"
    }
   ],
   "source": [
    "# Relative number of papers (fishing), (land-based), and (climate) to coral reefs and year\n",
    "plt.figure(figsize=(8.1, 2.15))\n",
    "plt.plot(years, absolute_papers_coral, label='Coral Reefs', marker='',linestyle='-',color='#636363') #grey-black color safe color blind\n",
    "plt.xlabel('Year', fontsize=13, labelpad=3)\n",
    "plt.xticks(range(1970, 2022, 5), rotation=0, fontsize=12)\n",
    "#plt.setp(plt.gca(), xticklabels=[])  # Remove x-labels for the first subplot\n",
    "#plt.xticks([1980, 2000, 2020], fontsize=14)\n",
    "plt.tick_params(axis='x', which='both', bottom=True, top=False, labelbottom=True)\n",
    "\n",
    "plt.ylabel('# of Papers (hits)', fontsize=14, labelpad=8)\n",
    "plt.ylim(0, 6000)\n",
    "plt.yticks([0, 1500, 3000, 4500, 6000], fontsize=12)\n",
    "# Place the legend outside the plot area\n",
    "#plt.legend()\n",
    "plt.legend(loc='upper left', fontsize=10)\n",
    "#plt.legend(loc='center left', bbox_to_anchor=(1, 0.935), fontsize=9)\n",
    "\n",
    "# Save the plot in jpg format with good resolution and larger size\n",
    "output_directory = 'C:/Users/capri002/OneDrive - Wageningen University & Research/Desktop/Split_Plan/Results/Figure/'  # Change this to your desired directory\n",
    "output_file_path = output_directory + 'coral_hits.png'\n",
    "plt.savefig(output_file_path, dpi=1500, bbox_inches='tight')\n",
    "\n",
    "# Add gridlines in the background\n",
    "plt.grid(True, linestyle='--', alpha=0.5)"
   ]
  },
  {
   "cell_type": "code",
   "execution_count": 45,
   "id": "b9ae7547-7ef8-40d1-a9a4-87a58b5e31e6",
   "metadata": {},
   "outputs": [
    {
     "data": {
      "image/png": "[encoded data removed]",
      "text/plain": [
       "<Figure size 800x300 with 1 Axes>"
      ]
     },
     "metadata": {},
     "output_type": "display_data"
    }
   ],
   "source": [
    "import matplotlib.pyplot as plt\n",
    "\n",
    "# Assuming years and data variables are already defined as per your example\n",
    "# Calculate the number of papers for each category per year\n",
    "absolute_papers_fishing = [len(data_fishing[year].index) if year in data_fishing else 0 for year in years]\n",
    "absolute_papers_landbased = [len(data_pollution[year].index) if year in data_pollution else 0 for year in years]\n",
    "absolute_papers_climate = [len(data_climate[year].index) if year in data_climate else 0 for year in years]\n",
    "absolute_papers_other = [len(data_other[year].index) if year in data_other else 0 for year in years]\n",
    "\n",
    "# Create a single plot with all the lines\n",
    "plt.figure(figsize=(8, 3))\n",
    "\n",
    "plt.plot(years, absolute_papers_fishing, label='Fishing Activities', linestyle='-', color='#cb181d')\n",
    "plt.plot(years, absolute_papers_landbased, label='Land-Based', linestyle='-', color='#74c476')\n",
    "plt.plot(years, absolute_papers_climate, label='Climate Change', linestyle='-', color='#feb24c')\n",
    "plt.plot(years, absolute_papers_other, label='Other', linestyle='-', color='#3182bd')\n",
    "\n",
    "# Set labels and title\n",
    "plt.xlabel('Year', fontsize=13, labelpad=3)\n",
    "plt.ylabel('# of Papers (hits)', fontsize=14, labelpad=8)\n",
    "plt.xticks(range(1970, 2022, 5), rotation=0, fontsize=12)\n",
    "plt.yticks(fontsize=12)\n",
    "\n",
    "# Place the legend outside the plot area with two rows\n",
    "plt.legend(loc='upper left', fontsize=10, ncol=4)\n",
    "\n",
    "# Add gridlines\n",
    "plt.grid(True, linestyle='--', alpha=0.5)\n",
    "\n",
    "# Adjust layout\n",
    "plt.tight_layout()\n",
    "output_directory = 'C:/Users/capri002/OneDrive - Wageningen University & Research/Desktop/Split_Plan/Results/Figure/'  # Change this to your desired directory\n",
    "output_file_path = output_directory + 'Trend_hit.jpg'\n",
    "plt.savefig(output_file_path, dpi=1500, bbox_inches='tight')\n",
    "\n",
    "# Show the plot\n",
    "plt.show()\n"
   ]
  },
  {
   "cell_type": "code",
   "execution_count": 39,
   "id": "bc3b7cc0-7c9c-4513-aef2-10d5483fe1fc",
   "metadata": {},
   "outputs": [
    {
     "name": "stdout",
     "output_type": "stream",
     "text": [
      "Total Papers for Coral Reefs: 56025\n",
      "Total Papers for fishing: 1530\n",
      "Total Papers for land-based: 5057\n",
      "Total Papers for climate change: 7132\n",
      "Total Papers for others: 3235\n"
     ]
    }
   ],
   "source": [
    "absolute_papers_fishing = [len(data_fishing[year].index) if year in data_fishing else 0 for year in years]\n",
    "absolute_papers_pollution = [len(data_pollution[year].index) if year in data_pollution else 0 for year in years]\n",
    "absolute_papers_climate = [len(data_climate[year].index) if year in data_climate else 0 for year in years]\n",
    "absolute_papers_other = [len(data_other[year].index) if year in data_other else 0 for year in years]\n",
    "\n",
    "\n",
    "total_papers_coral = sum(absolute_papers_coral)\n",
    "total_papers_fishing = sum(absolute_papers_fishing)\n",
    "total_papers_pollution = sum(absolute_papers_pollution)\n",
    "total_papers_climate = sum(absolute_papers_climate)\n",
    "total_papers_other = sum(absolute_papers_other)\n",
    "\n",
    "\n",
    "print(\"Total Papers for Coral Reefs:\", total_papers_coral)\n",
    "print(\"Total Papers for fishing:\", total_papers_fishing)\n",
    "print(\"Total Papers for land-based:\", total_papers_pollution)\n",
    "print(\"Total Papers for climate change:\", total_papers_climate)\n",
    "print(\"Total Papers for others:\", total_papers_other)\n"
   ]
  },
  {
   "cell_type": "code",
   "execution_count": 41,
   "id": "b04e7a45-afe3-4b42-8fef-f0d1ae5cc809",
   "metadata": {},
   "outputs": [
    {
     "data": {
      "image/png": "[encoded data removed]",
      "text/plain": [
       "<Figure size 810x315 with 1 Axes>"
      ]
     },
     "metadata": {},
     "output_type": "display_data"
    }
   ],
   "source": [
    "# Define the colors for each category\n",
    "colors = {\n",
    "    'Coral': '#636363',  # Grey\n",
    "    'Fishing': '#cb181d',  # Red\n",
    "    'Land-Based': '#74c476',  # Green\n",
    "    'Climate': '#feb24c',  # Yellow\n",
    "    'Other': '#3182bd'  # Blue\n",
    "}\n",
    "\n",
    "# Plot all categories in one graph\n",
    "plt.figure(figsize=(8.1, 3.15))\n",
    "\n",
    "# Plot each category\n",
    "plt.plot(years, absolute_papers_coral, label='Coral Reefs (CR)', marker='', linestyle='-', color=colors['Coral'])\n",
    "plt.plot(years, absolute_papers_fishing, label='CR + Fishing Activities', marker='', linestyle='-', color=colors['Fishing'])\n",
    "plt.plot(years, absolute_papers_landbased, label='CR + Land-Based', marker='', linestyle='-', color=colors['Land-Based'])\n",
    "plt.plot(years, absolute_papers_climate, label='CR + Climate Change', marker='', linestyle='-', color=colors['Climate'])\n",
    "plt.plot(years, absolute_papers_other, label='CR + Other', marker='', linestyle='-', color=colors['Other'])\n",
    "\n",
    "# Set labels and title\n",
    "plt.xlabel('Year', fontsize=14)\n",
    "plt.ylabel('# of Papers (hits)', fontsize=14)\n",
    "plt.title('Number of Papers Over Time', fontsize=16)\n",
    "plt.ylim(0, 6000)\n",
    "plt.yticks([0, 1500, 3000, 4500, 6000], fontsize=12)\n",
    "\n",
    "# Set ticks and legends\n",
    "plt.xticks(range(1970, 2022, 5), rotation=0, fontsize=12)\n",
    "plt.yticks(fontsize=12)\n",
    "plt.legend(loc='upper left', fontsize=10)\n",
    "\n",
    "# Add gridlines\n",
    "plt.grid(True, linestyle='--', linewidth=0.5, color='grey')\n",
    "\n",
    "# Show the plot\n",
    "plt.tight_layout()\n",
    "plt.show()\n"
   ]
  }
 ],
 "metadata": {
  "kernelspec": {
   "display_name": "Python 3 (ipykernel)",
   "language": "python",
   "name": "python3"
  },
  "language_info": {
   "codemirror_mode": {
    "name": "ipython",
    "version": 3
   },
   "file_extension": ".py",
   "mimetype": "text/x-python",
   "name": "python",
   "nbconvert_exporter": "python",
   "pygments_lexer": "ipython3",
   "version": "3.12.4"
  }
 },
 "nbformat": 4,
 "nbformat_minor": 5
}
